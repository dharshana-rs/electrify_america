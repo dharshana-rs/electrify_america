{
 "cells": [
  {
   "cell_type": "code",
   "execution_count": 1,
   "id": "a8876a99",
   "metadata": {},
   "outputs": [],
   "source": [
    "import pandas as pd\n",
    "import numpy as np\n",
    "import matplotlib.pyplot as plt\n",
    "import plotly.express as px\n",
    "import scipy.cluster.hierarchy as sch\n",
    "from sklearn.preprocessing import StandardScaler, OneHotEncoder\n",
    "from sklearn.compose import ColumnTransformer\n",
    "from sklearn.pipeline import Pipeline\n",
    "from sklearn.cluster import AgglomerativeClustering, DBSCAN, KMeans\n",
    "from sklearn.neighbors import NearestNeighbors\n",
    "from sklearn.metrics import silhouette_score, davies_bouldin_score\n",
    "from sklearn.ensemble import RandomForestClassifier"
   ]
  },
  {
   "cell_type": "code",
   "execution_count": 2,
   "id": "898d5be2",
   "metadata": {},
   "outputs": [
    {
     "name": "stderr",
     "output_type": "stream",
     "text": [
      "C:\\Users\\chang\\AppData\\Local\\Temp\\ipykernel_25304\\3734337657.py:1: DtypeWarning: Columns (13,14,20,21,22,23,24) have mixed types. Specify dtype option on import or set low_memory=False.\n",
      "  censusdata = pd.read_csv(\n"
     ]
    }
   ],
   "source": [
    "censusdata = pd.read_csv(\n",
    "    r\"c:\\Users\\chang\\Downloads\\ev_census_vehicle_data_fixed.csv\")"
   ]
  },
  {
   "cell_type": "code",
   "execution_count": 3,
   "id": "1fbc1d37",
   "metadata": {},
   "outputs": [
    {
     "data": {
      "text/html": [
       "<div>\n",
       "<style scoped>\n",
       "    .dataframe tbody tr th:only-of-type {\n",
       "        vertical-align: middle;\n",
       "    }\n",
       "\n",
       "    .dataframe tbody tr th {\n",
       "        vertical-align: top;\n",
       "    }\n",
       "\n",
       "    .dataframe thead th {\n",
       "        text-align: right;\n",
       "    }\n",
       "</style>\n",
       "<table border=\"1\" class=\"dataframe\">\n",
       "  <thead>\n",
       "    <tr style=\"text-align: right;\">\n",
       "      <th></th>\n",
       "      <th>Unnamed: 0</th>\n",
       "      <th>STATION_NAME</th>\n",
       "      <th>CITY</th>\n",
       "      <th>STREET_ADDRESS</th>\n",
       "      <th>LATITUDE</th>\n",
       "      <th>LONGITUDE</th>\n",
       "      <th>EV_CONNECTOR_TYPES</th>\n",
       "      <th>EV_LEVEL1_EVSE_NUM</th>\n",
       "      <th>EV_LEVEL2_EVSE_CNUM</th>\n",
       "      <th>EV_DC_FAST_NUM</th>\n",
       "      <th>...</th>\n",
       "      <th>Year</th>\n",
       "      <th>Month</th>\n",
       "      <th>POPULATION</th>\n",
       "      <th>MEDIAN_INCOME</th>\n",
       "      <th>record_count</th>\n",
       "      <th>STATE_NAME</th>\n",
       "      <th>ELECTRIC_VEHICLE_REG_COUNT</th>\n",
       "      <th>PLUG_IN_HYBRID_VEHICLE_REG_COUNT</th>\n",
       "      <th>HYBRID_ELECTRIC_REG_COUNT</th>\n",
       "      <th>STATE</th>\n",
       "    </tr>\n",
       "  </thead>\n",
       "  <tbody>\n",
       "    <tr>\n",
       "      <th>0</th>\n",
       "      <td>0</td>\n",
       "      <td>Anchorage Museum</td>\n",
       "      <td>Anchorage</td>\n",
       "      <td>625 C St</td>\n",
       "      <td>61.215712</td>\n",
       "      <td>-149.884840</td>\n",
       "      <td>[\"\"J1772\"\"]</td>\n",
       "      <td>NaN</td>\n",
       "      <td>1.0</td>\n",
       "      <td>NaN</td>\n",
       "      <td>...</td>\n",
       "      <td>2023.0</td>\n",
       "      <td>7.0</td>\n",
       "      <td>289069.0</td>\n",
       "      <td>98152.0</td>\n",
       "      <td>1</td>\n",
       "      <td>Alaska</td>\n",
       "      <td>2,700</td>\n",
       "      <td>900</td>\n",
       "      <td>10,600</td>\n",
       "      <td>AK</td>\n",
       "    </tr>\n",
       "    <tr>\n",
       "      <th>1</th>\n",
       "      <td>1</td>\n",
       "      <td>Anchorage Point S</td>\n",
       "      <td>Anchorage</td>\n",
       "      <td>4647 Old Seward Hwy</td>\n",
       "      <td>61.177881</td>\n",
       "      <td>-149.867371</td>\n",
       "      <td>[\"\"TESLA\"\"]</td>\n",
       "      <td>NaN</td>\n",
       "      <td>1.0</td>\n",
       "      <td>NaN</td>\n",
       "      <td>...</td>\n",
       "      <td>2023.0</td>\n",
       "      <td>6.0</td>\n",
       "      <td>289069.0</td>\n",
       "      <td>98152.0</td>\n",
       "      <td>1</td>\n",
       "      <td>Alaska</td>\n",
       "      <td>2,700</td>\n",
       "      <td>900</td>\n",
       "      <td>10,600</td>\n",
       "      <td>AK</td>\n",
       "    </tr>\n",
       "    <tr>\n",
       "      <th>2</th>\n",
       "      <td>2</td>\n",
       "      <td>EasyPark Susitna Parking Lot</td>\n",
       "      <td>Anchorage</td>\n",
       "      <td>898 W 5th Ave</td>\n",
       "      <td>61.217229</td>\n",
       "      <td>-149.898855</td>\n",
       "      <td>[\"\"J1772\"\"]</td>\n",
       "      <td>NaN</td>\n",
       "      <td>1.0</td>\n",
       "      <td>NaN</td>\n",
       "      <td>...</td>\n",
       "      <td>2023.0</td>\n",
       "      <td>8.0</td>\n",
       "      <td>289069.0</td>\n",
       "      <td>98152.0</td>\n",
       "      <td>1</td>\n",
       "      <td>Alaska</td>\n",
       "      <td>2,700</td>\n",
       "      <td>900</td>\n",
       "      <td>10,600</td>\n",
       "      <td>AK</td>\n",
       "    </tr>\n",
       "    <tr>\n",
       "      <th>3</th>\n",
       "      <td>3</td>\n",
       "      <td>49th State Brewing Company - Tesla Destination</td>\n",
       "      <td>Anchorage</td>\n",
       "      <td>717 W 3rd Ave</td>\n",
       "      <td>61.219630</td>\n",
       "      <td>-149.895920</td>\n",
       "      <td>[\"\"TESLA\"\"]</td>\n",
       "      <td>NaN</td>\n",
       "      <td>1.0</td>\n",
       "      <td>NaN</td>\n",
       "      <td>...</td>\n",
       "      <td>2024.0</td>\n",
       "      <td>7.0</td>\n",
       "      <td>289069.0</td>\n",
       "      <td>98152.0</td>\n",
       "      <td>1</td>\n",
       "      <td>NaN</td>\n",
       "      <td>NaN</td>\n",
       "      <td>NaN</td>\n",
       "      <td>NaN</td>\n",
       "      <td>NaN</td>\n",
       "    </tr>\n",
       "    <tr>\n",
       "      <th>4</th>\n",
       "      <td>4</td>\n",
       "      <td>Avis Anchorage</td>\n",
       "      <td>Anchorage</td>\n",
       "      <td>6607 Old Seward Hwy</td>\n",
       "      <td>61.160850</td>\n",
       "      <td>-149.863740</td>\n",
       "      <td>[\"\"J1772\"\"]</td>\n",
       "      <td>NaN</td>\n",
       "      <td>4.0</td>\n",
       "      <td>NaN</td>\n",
       "      <td>...</td>\n",
       "      <td>2024.0</td>\n",
       "      <td>9.0</td>\n",
       "      <td>289069.0</td>\n",
       "      <td>98152.0</td>\n",
       "      <td>1</td>\n",
       "      <td>NaN</td>\n",
       "      <td>NaN</td>\n",
       "      <td>NaN</td>\n",
       "      <td>NaN</td>\n",
       "      <td>NaN</td>\n",
       "    </tr>\n",
       "    <tr>\n",
       "      <th>...</th>\n",
       "      <td>...</td>\n",
       "      <td>...</td>\n",
       "      <td>...</td>\n",
       "      <td>...</td>\n",
       "      <td>...</td>\n",
       "      <td>...</td>\n",
       "      <td>...</td>\n",
       "      <td>...</td>\n",
       "      <td>...</td>\n",
       "      <td>...</td>\n",
       "      <td>...</td>\n",
       "      <td>...</td>\n",
       "      <td>...</td>\n",
       "      <td>...</td>\n",
       "      <td>...</td>\n",
       "      <td>...</td>\n",
       "      <td>...</td>\n",
       "      <td>...</td>\n",
       "      <td>...</td>\n",
       "      <td>...</td>\n",
       "      <td>...</td>\n",
       "    </tr>\n",
       "    <tr>\n",
       "      <th>102618</th>\n",
       "      <td>102618</td>\n",
       "      <td>VISTOR PARKING CLIFF HOUSE 3</td>\n",
       "      <td>York</td>\n",
       "      <td>591 Shore Road</td>\n",
       "      <td>43.220627</td>\n",
       "      <td>-70.579009</td>\n",
       "      <td>[\"\"J1772\"\"]</td>\n",
       "      <td>NaN</td>\n",
       "      <td>2.0</td>\n",
       "      <td>NaN</td>\n",
       "      <td>...</td>\n",
       "      <td>2025.0</td>\n",
       "      <td>9.0</td>\n",
       "      <td>NaN</td>\n",
       "      <td>NaN</td>\n",
       "      <td>1</td>\n",
       "      <td>NaN</td>\n",
       "      <td>NaN</td>\n",
       "      <td>NaN</td>\n",
       "      <td>NaN</td>\n",
       "      <td>NaN</td>\n",
       "    </tr>\n",
       "    <tr>\n",
       "      <th>102619</th>\n",
       "      <td>102619</td>\n",
       "      <td>Stage Neck Inn - Tesla Destination</td>\n",
       "      <td>York Harbor</td>\n",
       "      <td>8 Stage Neck Rd</td>\n",
       "      <td>43.130686</td>\n",
       "      <td>-70.638748</td>\n",
       "      <td>[\"\"TESLA\"\"]</td>\n",
       "      <td>NaN</td>\n",
       "      <td>2.0</td>\n",
       "      <td>NaN</td>\n",
       "      <td>...</td>\n",
       "      <td>2024.0</td>\n",
       "      <td>7.0</td>\n",
       "      <td>NaN</td>\n",
       "      <td>NaN</td>\n",
       "      <td>1</td>\n",
       "      <td>NaN</td>\n",
       "      <td>NaN</td>\n",
       "      <td>NaN</td>\n",
       "      <td>NaN</td>\n",
       "      <td>NaN</td>\n",
       "    </tr>\n",
       "    <tr>\n",
       "      <th>102620</th>\n",
       "      <td>102620</td>\n",
       "      <td>VT ELEC COOP VEC-JOHNSON 1</td>\n",
       "      <td>johnson</td>\n",
       "      <td>42 Wescom Rd</td>\n",
       "      <td>44.635607</td>\n",
       "      <td>-72.694127</td>\n",
       "      <td>[\"\"J1772\"\"]</td>\n",
       "      <td>NaN</td>\n",
       "      <td>2.0</td>\n",
       "      <td>NaN</td>\n",
       "      <td>...</td>\n",
       "      <td>2025.0</td>\n",
       "      <td>9.0</td>\n",
       "      <td>NaN</td>\n",
       "      <td>NaN</td>\n",
       "      <td>1</td>\n",
       "      <td>NaN</td>\n",
       "      <td>NaN</td>\n",
       "      <td>NaN</td>\n",
       "      <td>NaN</td>\n",
       "      <td>NaN</td>\n",
       "    </tr>\n",
       "    <tr>\n",
       "      <th>102621</th>\n",
       "      <td>102621</td>\n",
       "      <td>Vachon Buick GMC</td>\n",
       "      <td>old saybrook</td>\n",
       "      <td>225 Middlesex ave</td>\n",
       "      <td>41.306276</td>\n",
       "      <td>-72.382028</td>\n",
       "      <td>[\"\"J1772COMBO\"\"]</td>\n",
       "      <td>NaN</td>\n",
       "      <td>NaN</td>\n",
       "      <td>1.0</td>\n",
       "      <td>...</td>\n",
       "      <td>2025.0</td>\n",
       "      <td>9.0</td>\n",
       "      <td>NaN</td>\n",
       "      <td>NaN</td>\n",
       "      <td>1</td>\n",
       "      <td>NaN</td>\n",
       "      <td>NaN</td>\n",
       "      <td>NaN</td>\n",
       "      <td>NaN</td>\n",
       "      <td>NaN</td>\n",
       "    </tr>\n",
       "    <tr>\n",
       "      <th>102622</th>\n",
       "      <td>102622</td>\n",
       "      <td>1100 Cornwall Charging stations</td>\n",
       "      <td>south Brunswick</td>\n",
       "      <td>1100 Cornwall Rd, Monmouth Junction, NJ 08852</td>\n",
       "      <td>40.416790</td>\n",
       "      <td>-74.530033</td>\n",
       "      <td>[\"\"J1772\"\"]</td>\n",
       "      <td>NaN</td>\n",
       "      <td>12.0</td>\n",
       "      <td>NaN</td>\n",
       "      <td>...</td>\n",
       "      <td>2025.0</td>\n",
       "      <td>9.0</td>\n",
       "      <td>NaN</td>\n",
       "      <td>NaN</td>\n",
       "      <td>1</td>\n",
       "      <td>NaN</td>\n",
       "      <td>NaN</td>\n",
       "      <td>NaN</td>\n",
       "      <td>NaN</td>\n",
       "      <td>NaN</td>\n",
       "    </tr>\n",
       "  </tbody>\n",
       "</table>\n",
       "<p>102623 rows × 25 columns</p>\n",
       "</div>"
      ],
      "text/plain": [
       "        Unnamed: 0                                    STATION_NAME  \\\n",
       "0                0                                Anchorage Museum   \n",
       "1                1                               Anchorage Point S   \n",
       "2                2                    EasyPark Susitna Parking Lot   \n",
       "3                3  49th State Brewing Company - Tesla Destination   \n",
       "4                4                                  Avis Anchorage   \n",
       "...            ...                                             ...   \n",
       "102618      102618                    VISTOR PARKING CLIFF HOUSE 3   \n",
       "102619      102619              Stage Neck Inn - Tesla Destination   \n",
       "102620      102620                      VT ELEC COOP VEC-JOHNSON 1   \n",
       "102621      102621                                Vachon Buick GMC   \n",
       "102622      102622                 1100 Cornwall Charging stations   \n",
       "\n",
       "                   CITY                                 STREET_ADDRESS  \\\n",
       "0             Anchorage                                       625 C St   \n",
       "1             Anchorage                            4647 Old Seward Hwy   \n",
       "2             Anchorage                                  898 W 5th Ave   \n",
       "3             Anchorage                                  717 W 3rd Ave   \n",
       "4             Anchorage                            6607 Old Seward Hwy   \n",
       "...                 ...                                            ...   \n",
       "102618             York                                 591 Shore Road   \n",
       "102619      York Harbor                                8 Stage Neck Rd   \n",
       "102620          johnson                                   42 Wescom Rd   \n",
       "102621     old saybrook                              225 Middlesex ave   \n",
       "102622  south Brunswick  1100 Cornwall Rd, Monmouth Junction, NJ 08852   \n",
       "\n",
       "         LATITUDE   LONGITUDE EV_CONNECTOR_TYPES  EV_LEVEL1_EVSE_NUM  \\\n",
       "0       61.215712 -149.884840        [\"\"J1772\"\"]                 NaN   \n",
       "1       61.177881 -149.867371        [\"\"TESLA\"\"]                 NaN   \n",
       "2       61.217229 -149.898855        [\"\"J1772\"\"]                 NaN   \n",
       "3       61.219630 -149.895920        [\"\"TESLA\"\"]                 NaN   \n",
       "4       61.160850 -149.863740        [\"\"J1772\"\"]                 NaN   \n",
       "...           ...         ...                ...                 ...   \n",
       "102618  43.220627  -70.579009        [\"\"J1772\"\"]                 NaN   \n",
       "102619  43.130686  -70.638748        [\"\"TESLA\"\"]                 NaN   \n",
       "102620  44.635607  -72.694127        [\"\"J1772\"\"]                 NaN   \n",
       "102621  41.306276  -72.382028   [\"\"J1772COMBO\"\"]                 NaN   \n",
       "102622  40.416790  -74.530033        [\"\"J1772\"\"]                 NaN   \n",
       "\n",
       "        EV_LEVEL2_EVSE_CNUM  EV_DC_FAST_NUM  ...    Year Month POPULATION  \\\n",
       "0                       1.0             NaN  ...  2023.0   7.0   289069.0   \n",
       "1                       1.0             NaN  ...  2023.0   6.0   289069.0   \n",
       "2                       1.0             NaN  ...  2023.0   8.0   289069.0   \n",
       "3                       1.0             NaN  ...  2024.0   7.0   289069.0   \n",
       "4                       4.0             NaN  ...  2024.0   9.0   289069.0   \n",
       "...                     ...             ...  ...     ...   ...        ...   \n",
       "102618                  2.0             NaN  ...  2025.0   9.0        NaN   \n",
       "102619                  2.0             NaN  ...  2024.0   7.0        NaN   \n",
       "102620                  2.0             NaN  ...  2025.0   9.0        NaN   \n",
       "102621                  NaN             1.0  ...  2025.0   9.0        NaN   \n",
       "102622                 12.0             NaN  ...  2025.0   9.0        NaN   \n",
       "\n",
       "       MEDIAN_INCOME record_count  STATE_NAME  ELECTRIC_VEHICLE_REG_COUNT  \\\n",
       "0            98152.0            1      Alaska                       2,700   \n",
       "1            98152.0            1      Alaska                       2,700   \n",
       "2            98152.0            1      Alaska                       2,700   \n",
       "3            98152.0            1         NaN                         NaN   \n",
       "4            98152.0            1         NaN                         NaN   \n",
       "...              ...          ...         ...                         ...   \n",
       "102618           NaN            1         NaN                         NaN   \n",
       "102619           NaN            1         NaN                         NaN   \n",
       "102620           NaN            1         NaN                         NaN   \n",
       "102621           NaN            1         NaN                         NaN   \n",
       "102622           NaN            1         NaN                         NaN   \n",
       "\n",
       "        PLUG_IN_HYBRID_VEHICLE_REG_COUNT  HYBRID_ELECTRIC_REG_COUNT  STATE  \n",
       "0                                    900                     10,600     AK  \n",
       "1                                    900                     10,600     AK  \n",
       "2                                    900                     10,600     AK  \n",
       "3                                    NaN                        NaN    NaN  \n",
       "4                                    NaN                        NaN    NaN  \n",
       "...                                  ...                        ...    ...  \n",
       "102618                               NaN                        NaN    NaN  \n",
       "102619                               NaN                        NaN    NaN  \n",
       "102620                               NaN                        NaN    NaN  \n",
       "102621                               NaN                        NaN    NaN  \n",
       "102622                               NaN                        NaN    NaN  \n",
       "\n",
       "[102623 rows x 25 columns]"
      ]
     },
     "execution_count": 3,
     "metadata": {},
     "output_type": "execute_result"
    }
   ],
   "source": [
    "censusdata"
   ]
  },
  {
   "cell_type": "code",
   "execution_count": 4,
   "id": "c23c37eb",
   "metadata": {},
   "outputs": [],
   "source": [
    "df = censusdata.copy()"
   ]
  },
  {
   "cell_type": "code",
   "execution_count": 5,
   "id": "0be5c445",
   "metadata": {},
   "outputs": [],
   "source": [
    "# Data Cleaning and Imputation for Setup\n",
    "\n",
    "# Station Feature Pre-processing\n",
    "charger_cols = ['EV_LEVEL1_EVSE_NUM', 'EV_LEVEL2_EVSE_CNUM', 'EV_DC_FAST_NUM']\n",
    "df[charger_cols] = df[charger_cols].fillna(0)\n",
    "categorical_station_cols = ['EV_PRICING', 'FACILITY_TYPE']\n",
    "for col in categorical_station_cols:\n",
    "    df[col] = df[col].fillna('UNKNOWN')"
   ]
  },
  {
   "cell_type": "code",
   "execution_count": null,
   "id": "5198539c",
   "metadata": {},
   "outputs": [],
   "source": [
    "#  Define Features and Preprocessing Pipeline for station clustering\n",
    "numerical_station_features = charger_cols  # L1, L2, DC counts\n",
    "categorical_station_features = categorical_station_cols  # Pricing, Facility Type\n",
    "\n",
    "preprocessor_station = ColumnTransformer(\n",
    "    transformers=[\n",
    "        ('num', StandardScaler(), numerical_station_features),\n",
    "        ('cat', OneHotEncoder(handle_unknown='ignore'), categorical_station_features)\n",
    "    ],\n",
    "    remainder='drop'  # Drop all other columns not used for station clustering\n",
    ")\n",
    "\n",
    "# Apply and standardlize data to station dataframe\n",
    "X_station = df[numerical_station_features + categorical_station_features]\n",
    "X_station_processed = preprocessor_station.fit_transform(X_station)\n",
    "X_station_dense = X_station_processed.toarray()"
   ]
  },
  {
   "cell_type": "code",
   "execution_count": null,
   "id": "4f4e3dd9",
   "metadata": {},
   "outputs": [
    {
     "data": {
      "image/png": "[encoded data removed]",
      "text/plain": [
       "<Figure size 1800x500 with 3 Axes>"
      ]
     },
     "metadata": {},
     "output_type": "display_data"
    }
   ],
   "source": [
    "# Find the optimal kmeans clustering\n",
    "# Store our results\n",
    "inertia_scores = []\n",
    "silhouette_scores = []\n",
    "davies_bouldin_scores = []\n",
    "\n",
    "\n",
    "k_values = range(2, 11)\n",
    "# Test each k value\n",
    "for k in k_values:\n",
    "    kmeans = KMeans(n_clusters=k, init='k-means++', random_state=42, n_init=10)\n",
    "    cluster_labels = kmeans.fit_predict(X_station_dense)\n",
    "\n",
    "    inertia_scores.append(kmeans.inertia_)\n",
    "    silhouette_scores.append(silhouette_score(X_station_dense, cluster_labels))\n",
    "    davies_bouldin_scores.append(\n",
    "        davies_bouldin_score(X_station_dense, cluster_labels))\n",
    "\n",
    "fig, (ax1, ax2, ax3) = plt.subplots(1, 3, figsize=(18, 5))\n",
    "\n",
    "# --- Plot 1: Elbow Method (lower is better) ---\n",
    "# Find the \"elbow point\" where improvement slows down\n",
    "elbow_diffs = np.diff(np.diff(inertia_scores))\n",
    "best_k_elbow = k_values[np.argmax(\n",
    "    elbow_diffs) + 2] if len(inertia_scores) > 2 else k_values[0]\n",
    "\n",
    "ax1.plot(k_values, inertia_scores, 'o--', color='steelblue',\n",
    "         linewidth=2, markersize=8, label='Inertia')\n",
    "ax1.axvline(x=best_k_elbow, color='red', linestyle=':',\n",
    "            linewidth=2, alpha=0.7, label=f'Best k={best_k_elbow}')\n",
    "ax1.scatter(best_k_elbow, inertia_scores[best_k_elbow-2],\n",
    "            color='red', s=150, zorder=5, edgecolor='black')\n",
    "ax1.annotate(f'Optimal k={best_k_elbow}\\nInertia={inertia_scores[best_k_elbow-2]:,.0f}',\n",
    "             xy=(best_k_elbow, inertia_scores[best_k_elbow-2]),\n",
    "             xytext=(10, 10), textcoords='offset points',\n",
    "             fontsize=10, color='red', fontweight='bold',\n",
    "             bbox=dict(boxstyle='round,pad=0.5', facecolor='white', alpha=0.8))\n",
    "\n",
    "ax1.set_xlabel('Number of Clusters (k)', fontsize=12, fontweight='bold')\n",
    "ax1.set_ylabel('Inertia (Within-Cluster Sum of Squares)',\n",
    "               fontsize=12, fontweight='bold')\n",
    "ax1.set_title('Elbow Method\\nLower inertia = tighter clusters',\n",
    "              fontsize=14, fontweight='bold')\n",
    "ax1.grid(True, alpha=0.3, linestyle='--')\n",
    "ax1.set_xticks(k_values)\n",
    "\n",
    "# --- Plot 2: Silhouette Score (higher is better) ---\n",
    "best_k_silhouette = k_values[np.argmax(silhouette_scores)]\n",
    "best_silhouette = max(silhouette_scores)\n",
    "\n",
    "ax2.plot(k_values, silhouette_scores, 'o--', color='green',\n",
    "         linewidth=2, markersize=8, label='Silhouette Score')\n",
    "ax2.axvline(x=best_k_silhouette, color='red', linestyle=':',\n",
    "            linewidth=2, alpha=0.7, label=f'Best k={best_k_silhouette}')\n",
    "ax2.scatter(best_k_silhouette, best_silhouette,\n",
    "            color='red', s=150, zorder=5, edgecolor='black')\n",
    "ax2.annotate(f'Optimal k={best_k_silhouette}\\nScore={best_silhouette:.4f}',\n",
    "             xy=(best_k_silhouette, best_silhouette),\n",
    "             xytext=(10, -30), textcoords='offset points',\n",
    "             fontsize=10, color='red', fontweight='bold',\n",
    "             bbox=dict(boxstyle='round,pad=0.5', facecolor='white', alpha=0.8))\n",
    "\n",
    "ax2.set_xlabel('Number of Clusters (k)', fontsize=12, fontweight='bold')\n",
    "ax2.set_ylabel('Silhouette Score', fontsize=12, fontweight='bold')\n",
    "ax2.set_title('Silhouette Score\\nHigher score = better separation',\n",
    "              fontsize=14, fontweight='bold')\n",
    "ax2.grid(True, alpha=0.3, linestyle='--')\n",
    "ax2.set_xticks(k_values)\n",
    "# Silhouette score ranges from -1 to 1, but we expect positive\n",
    "ax2.set_ylim(bottom=0)\n",
    "\n",
    "# --- Plot 3: Davies-Bouldin Index (lower is better) ---\n",
    "best_k_dbi = k_values[np.argmin(davies_bouldin_scores)]\n",
    "best_dbi = min(davies_bouldin_scores)\n",
    "\n",
    "ax3.plot(k_values, davies_bouldin_scores, 'o--', color='orange',\n",
    "         linewidth=2, markersize=8, label='Davies-Bouldin Index')\n",
    "ax3.axvline(x=best_k_dbi, color='red', linestyle=':',\n",
    "            linewidth=2, alpha=0.7, label=f'Best k={best_k_dbi}')\n",
    "ax3.scatter(best_k_dbi, best_dbi, color='red',\n",
    "            s=150, zorder=5, edgecolor='black')\n",
    "ax3.annotate(f'Optimal k={best_k_dbi}\\nDBI={best_dbi:.4f}',\n",
    "             xy=(best_k_dbi, best_dbi),\n",
    "             xytext=(10, 30), textcoords='offset points',\n",
    "             fontsize=10, color='red', fontweight='bold',\n",
    "             bbox=dict(boxstyle='round,pad=0.5', facecolor='white', alpha=0.8))\n",
    "\n",
    "ax3.set_xlabel('Number of Clusters (k)', fontsize=12, fontweight='bold')\n",
    "ax3.set_ylabel('Davies-Bouldin Index', fontsize=12, fontweight='bold')\n",
    "ax3.set_title('Davies-Bouldin Index\\nLower index = better clustering',\n",
    "              fontsize=14, fontweight='bold')\n",
    "ax3.grid(True, alpha=0.3, linestyle='--')\n",
    "ax3.set_xticks(k_values)\n",
    "\n",
    "# Add a main title for the entire figure\n",
    "fig.suptitle('Station Clustering: Finding Optimal Number of Clusters',\n",
    "             fontsize=16, fontweight='bold', y=1.02)\n",
    "\n",
    "plt.tight_layout()\n",
    "plt.show()"
   ]
  },
  {
   "cell_type": "code",
   "execution_count": 15,
   "id": "5d9273e8",
   "metadata": {},
   "outputs": [
    {
     "name": "stderr",
     "output_type": "stream",
     "text": [
      "C:\\Users\\chang\\AppData\\Local\\Temp\\ipykernel_25304\\2563765965.py:3: SettingWithCopyWarning: \n",
      "A value is trying to be set on a copy of a slice from a DataFrame.\n",
      "Try using .loc[row_indexer,col_indexer] = value instead\n",
      "\n",
      "See the caveats in the documentation: https://pandas.pydata.org/pandas-docs/stable/user_guide/indexing.html#returning-a-view-versus-a-copy\n",
      "  X_station['Station_Cluster'] = pd.Series(\n"
     ]
    },
    {
     "data": {
      "text/html": [
       "<div>\n",
       "<style scoped>\n",
       "    .dataframe tbody tr th:only-of-type {\n",
       "        vertical-align: middle;\n",
       "    }\n",
       "\n",
       "    .dataframe tbody tr th {\n",
       "        vertical-align: top;\n",
       "    }\n",
       "\n",
       "    .dataframe thead th {\n",
       "        text-align: right;\n",
       "    }\n",
       "</style>\n",
       "<table border=\"1\" class=\"dataframe\">\n",
       "  <thead>\n",
       "    <tr style=\"text-align: right;\">\n",
       "      <th></th>\n",
       "      <th>Station_Cluster</th>\n",
       "      <th>EV_LEVEL1_EVSE_NUM</th>\n",
       "      <th>EV_LEVEL2_EVSE_CNUM</th>\n",
       "      <th>EV_DC_FAST_NUM</th>\n",
       "    </tr>\n",
       "  </thead>\n",
       "  <tbody>\n",
       "    <tr>\n",
       "      <th>0</th>\n",
       "      <td>0</td>\n",
       "      <td>0.014718</td>\n",
       "      <td>1.666465</td>\n",
       "      <td>0.400855</td>\n",
       "    </tr>\n",
       "    <tr>\n",
       "      <th>1</th>\n",
       "      <td>1</td>\n",
       "      <td>0.000000</td>\n",
       "      <td>0.080027</td>\n",
       "      <td>11.532376</td>\n",
       "    </tr>\n",
       "    <tr>\n",
       "      <th>2</th>\n",
       "      <td>2</td>\n",
       "      <td>33.425000</td>\n",
       "      <td>4.750000</td>\n",
       "      <td>0.050000</td>\n",
       "    </tr>\n",
       "    <tr>\n",
       "      <th>3</th>\n",
       "      <td>3</td>\n",
       "      <td>0.037726</td>\n",
       "      <td>4.723378</td>\n",
       "      <td>0.071369</td>\n",
       "    </tr>\n",
       "  </tbody>\n",
       "</table>\n",
       "</div>"
      ],
      "text/plain": [
       "   Station_Cluster  EV_LEVEL1_EVSE_NUM  EV_LEVEL2_EVSE_CNUM  EV_DC_FAST_NUM\n",
       "0                0            0.014718             1.666465        0.400855\n",
       "1                1            0.000000             0.080027       11.532376\n",
       "2                2           33.425000             4.750000        0.050000\n",
       "3                3            0.037726             4.723378        0.071369"
      ]
     },
     "execution_count": 15,
     "metadata": {},
     "output_type": "execute_result"
    }
   ],
   "source": [
    "kmeans_station = KMeans(n_clusters=4)\n",
    "station_cluster_labels = kmeans_station.fit_predict(X_station_dense)\n",
    "X_station['Station_Cluster'] = pd.Series(\n",
    "    station_cluster_labels, index=X_station.index)\n",
    "X_station.groupby(['Station_Cluster']).mean().reset_index()"
   ]
  },
  {
   "cell_type": "code",
   "execution_count": 16,
   "id": "87ffc1ee",
   "metadata": {},
   "outputs": [
    {
     "data": {
      "text/html": [
       "<div>\n",
       "<style scoped>\n",
       "    .dataframe tbody tr th:only-of-type {\n",
       "        vertical-align: middle;\n",
       "    }\n",
       "\n",
       "    .dataframe tbody tr th {\n",
       "        vertical-align: top;\n",
       "    }\n",
       "\n",
       "    .dataframe thead th {\n",
       "        text-align: right;\n",
       "    }\n",
       "</style>\n",
       "<table border=\"1\" class=\"dataframe\">\n",
       "  <thead>\n",
       "    <tr style=\"text-align: right;\">\n",
       "      <th></th>\n",
       "      <th>EV_LEVEL1_EVSE_NUM</th>\n",
       "      <th>EV_LEVEL2_EVSE_CNUM</th>\n",
       "      <th>EV_DC_FAST_NUM</th>\n",
       "      <th>EV_PRICING</th>\n",
       "      <th>FACILITY_TYPE</th>\n",
       "      <th>Station_Cluster</th>\n",
       "      <th>Pricing_Category</th>\n",
       "    </tr>\n",
       "  </thead>\n",
       "  <tbody>\n",
       "    <tr>\n",
       "      <th>0</th>\n",
       "      <td>0.0</td>\n",
       "      <td>1.0</td>\n",
       "      <td>0.0</td>\n",
       "      <td>UNKNOWN</td>\n",
       "      <td>MUSEUM</td>\n",
       "      <td>0</td>\n",
       "      <td>Unknown</td>\n",
       "    </tr>\n",
       "    <tr>\n",
       "      <th>1</th>\n",
       "      <td>0.0</td>\n",
       "      <td>1.0</td>\n",
       "      <td>0.0</td>\n",
       "      <td>Free</td>\n",
       "      <td>OTHER</td>\n",
       "      <td>3</td>\n",
       "      <td>Free</td>\n",
       "    </tr>\n",
       "    <tr>\n",
       "      <th>2</th>\n",
       "      <td>0.0</td>\n",
       "      <td>1.0</td>\n",
       "      <td>0.0</td>\n",
       "      <td>UNKNOWN</td>\n",
       "      <td>PARKING_LOT</td>\n",
       "      <td>0</td>\n",
       "      <td>Unknown</td>\n",
       "    </tr>\n",
       "    <tr>\n",
       "      <th>3</th>\n",
       "      <td>0.0</td>\n",
       "      <td>1.0</td>\n",
       "      <td>0.0</td>\n",
       "      <td>Free</td>\n",
       "      <td>UNKNOWN</td>\n",
       "      <td>3</td>\n",
       "      <td>Free</td>\n",
       "    </tr>\n",
       "    <tr>\n",
       "      <th>4</th>\n",
       "      <td>0.0</td>\n",
       "      <td>4.0</td>\n",
       "      <td>0.0</td>\n",
       "      <td>UNKNOWN</td>\n",
       "      <td>FLEET_GARAGE</td>\n",
       "      <td>0</td>\n",
       "      <td>Unknown</td>\n",
       "    </tr>\n",
       "    <tr>\n",
       "      <th>...</th>\n",
       "      <td>...</td>\n",
       "      <td>...</td>\n",
       "      <td>...</td>\n",
       "      <td>...</td>\n",
       "      <td>...</td>\n",
       "      <td>...</td>\n",
       "      <td>...</td>\n",
       "    </tr>\n",
       "    <tr>\n",
       "      <th>102618</th>\n",
       "      <td>0.0</td>\n",
       "      <td>2.0</td>\n",
       "      <td>0.0</td>\n",
       "      <td>UNKNOWN</td>\n",
       "      <td>UNKNOWN</td>\n",
       "      <td>0</td>\n",
       "      <td>Unknown</td>\n",
       "    </tr>\n",
       "    <tr>\n",
       "      <th>102619</th>\n",
       "      <td>0.0</td>\n",
       "      <td>2.0</td>\n",
       "      <td>0.0</td>\n",
       "      <td>Free</td>\n",
       "      <td>UNKNOWN</td>\n",
       "      <td>3</td>\n",
       "      <td>Free</td>\n",
       "    </tr>\n",
       "    <tr>\n",
       "      <th>102620</th>\n",
       "      <td>0.0</td>\n",
       "      <td>2.0</td>\n",
       "      <td>0.0</td>\n",
       "      <td>UNKNOWN</td>\n",
       "      <td>UNKNOWN</td>\n",
       "      <td>0</td>\n",
       "      <td>Unknown</td>\n",
       "    </tr>\n",
       "    <tr>\n",
       "      <th>102621</th>\n",
       "      <td>0.0</td>\n",
       "      <td>0.0</td>\n",
       "      <td>1.0</td>\n",
       "      <td>UNKNOWN</td>\n",
       "      <td>UNKNOWN</td>\n",
       "      <td>0</td>\n",
       "      <td>Unknown</td>\n",
       "    </tr>\n",
       "    <tr>\n",
       "      <th>102622</th>\n",
       "      <td>0.0</td>\n",
       "      <td>12.0</td>\n",
       "      <td>0.0</td>\n",
       "      <td>$2.00/Hr Parking Fee , $0.50/kWh Energy Fee</td>\n",
       "      <td>UNKNOWN</td>\n",
       "      <td>3</td>\n",
       "      <td>Paid</td>\n",
       "    </tr>\n",
       "  </tbody>\n",
       "</table>\n",
       "<p>102623 rows × 7 columns</p>\n",
       "</div>"
      ],
      "text/plain": [
       "        EV_LEVEL1_EVSE_NUM  EV_LEVEL2_EVSE_CNUM  EV_DC_FAST_NUM  \\\n",
       "0                      0.0                  1.0             0.0   \n",
       "1                      0.0                  1.0             0.0   \n",
       "2                      0.0                  1.0             0.0   \n",
       "3                      0.0                  1.0             0.0   \n",
       "4                      0.0                  4.0             0.0   \n",
       "...                    ...                  ...             ...   \n",
       "102618                 0.0                  2.0             0.0   \n",
       "102619                 0.0                  2.0             0.0   \n",
       "102620                 0.0                  2.0             0.0   \n",
       "102621                 0.0                  0.0             1.0   \n",
       "102622                 0.0                 12.0             0.0   \n",
       "\n",
       "                                         EV_PRICING FACILITY_TYPE  \\\n",
       "0                                           UNKNOWN        MUSEUM   \n",
       "1                                              Free         OTHER   \n",
       "2                                           UNKNOWN   PARKING_LOT   \n",
       "3                                              Free       UNKNOWN   \n",
       "4                                           UNKNOWN  FLEET_GARAGE   \n",
       "...                                             ...           ...   \n",
       "102618                                      UNKNOWN       UNKNOWN   \n",
       "102619                                         Free       UNKNOWN   \n",
       "102620                                      UNKNOWN       UNKNOWN   \n",
       "102621                                      UNKNOWN       UNKNOWN   \n",
       "102622  $2.00/Hr Parking Fee , $0.50/kWh Energy Fee       UNKNOWN   \n",
       "\n",
       "        Station_Cluster Pricing_Category  \n",
       "0                     0          Unknown  \n",
       "1                     3             Free  \n",
       "2                     0          Unknown  \n",
       "3                     3             Free  \n",
       "4                     0          Unknown  \n",
       "...                 ...              ...  \n",
       "102618                0          Unknown  \n",
       "102619                3             Free  \n",
       "102620                0          Unknown  \n",
       "102621                0          Unknown  \n",
       "102622                3             Paid  \n",
       "\n",
       "[102623 rows x 7 columns]"
      ]
     },
     "execution_count": 16,
     "metadata": {},
     "output_type": "execute_result"
    }
   ],
   "source": [
    "X_station"
   ]
  },
  {
   "cell_type": "code",
   "execution_count": null,
   "id": "a2343890",
   "metadata": {},
   "outputs": [
    {
     "name": "stderr",
     "output_type": "stream",
     "text": [
      "C:\\Users\\chang\\AppData\\Local\\Temp\\ipykernel_25304\\2831878735.py:90: SettingWithCopyWarning:\n",
      "\n",
      "\n",
      "A value is trying to be set on a copy of a slice from a DataFrame.\n",
      "Try using .loc[row_indexer,col_indexer] = value instead\n",
      "\n",
      "See the caveats in the documentation: https://pandas.pydata.org/pandas-docs/stable/user_guide/indexing.html#returning-a-view-versus-a-copy\n",
      "\n"
     ]
    },
    {
     "data": {
      "image/png": "[encoded data removed]",
      "text/plain": [
       "<Figure size 1600x1000 with 4 Axes>"
      ]
     },
     "metadata": {},
     "output_type": "display_data"
    }
   ],
   "source": [
    "# Create 4 visualizations for station cluster\n",
    "fig, ((ax1, ax2), (ax3, ax4)) = plt.subplots(2, 2, figsize=(16, 10))\n",
    "\n",
    "# Count stations per cluster\n",
    "cluster_sizes = X_station['Station_Cluster'].value_counts().sort_index()\n",
    "\n",
    "# Create bar chart\n",
    "ax1.bar(cluster_sizes.index, cluster_sizes.values,\n",
    "        color='steelblue', edgecolor='black', alpha=0.85)\n",
    "ax1.set_xlabel('Cluster', fontsize=12, fontweight='bold')\n",
    "ax1.set_ylabel('Number of Stations', fontsize=12, fontweight='bold')\n",
    "ax1.set_title('Cluster Sizes', fontsize=14, fontweight='bold')\n",
    "ax1.grid(axis='y', alpha=0.3, linestyle='--')\n",
    "\n",
    "# Add count labels on top of bars\n",
    "for i, count in enumerate(cluster_sizes.values):\n",
    "    ax1.text(i, count, f'{count:,}',\n",
    "             ha='center', va='bottom', fontsize=10, fontweight='bold')\n",
    "\n",
    "# Calculate average chargers per cluster\n",
    "avg_chargers = X_station.groupby('Station_Cluster')[\n",
    "    ['EV_LEVEL1_EVSE_NUM', 'EV_LEVEL2_EVSE_CNUM', 'EV_DC_FAST_NUM']\n",
    "].mean()\n",
    "\n",
    "cluster_positions = range(len(avg_chargers))\n",
    "bar_width = 0.25\n",
    "\n",
    "# Plot three bars for each cluster (Level 1, Level 2, DC Fast)\n",
    "ax2.bar([pos - bar_width for pos in cluster_positions],\n",
    "        avg_chargers['EV_LEVEL1_EVSE_NUM'],\n",
    "        bar_width, label='Level 1', color='skyblue', edgecolor='black', alpha=0.85)\n",
    "ax2.bar(cluster_positions,\n",
    "        avg_chargers['EV_LEVEL2_EVSE_CNUM'],\n",
    "        bar_width, label='Level 2', color='orange', edgecolor='black', alpha=0.85)\n",
    "ax2.bar([pos + bar_width for pos in cluster_positions],\n",
    "        avg_chargers['EV_DC_FAST_NUM'],\n",
    "        bar_width, label='DC Fast', color='green', edgecolor='black', alpha=0.85)\n",
    "\n",
    "ax2.set_xlabel('Cluster', fontsize=12, fontweight='bold')\n",
    "ax2.set_ylabel('Average Count', fontsize=12, fontweight='bold')\n",
    "ax2.set_title('Average Chargers by Cluster', fontsize=14, fontweight='bold')\n",
    "ax2.set_xticks(cluster_positions)\n",
    "ax2.set_xticklabels(avg_chargers.index)\n",
    "ax2.legend(fontsize=10, loc='best', framealpha=0.9)\n",
    "ax2.grid(axis='y', alpha=0.3, linestyle='--')\n",
    "\n",
    "# 5 most common facility types across all stations\n",
    "top_5_facilities = X_station['FACILITY_TYPE'].value_counts().head(5).index\n",
    "\n",
    "# Count how many of each facility type appear in each cluster\n",
    "facility_counts_by_cluster = pd.crosstab(\n",
    "    X_station['Station_Cluster'],\n",
    "    X_station['FACILITY_TYPE']\n",
    ")\n",
    "\n",
    "# Keep only the top 5 facility types\n",
    "top_facilities_data = facility_counts_by_cluster[top_5_facilities]\n",
    "\n",
    "top_facilities_data.plot(\n",
    "    kind='bar',\n",
    "    stacked=True,\n",
    "    ax=ax3,\n",
    "    width=0.7,\n",
    "    edgecolor='black',\n",
    "    alpha=0.85\n",
    ")\n",
    "\n",
    "ax3.set_xlabel('Cluster', fontsize=12, fontweight='bold')\n",
    "ax3.set_ylabel('Number of Stations', fontsize=12, fontweight='bold')\n",
    "ax3.set_title('Top 5 Facility Types by Cluster',\n",
    "              fontsize=14, fontweight='bold')\n",
    "ax3.set_xticklabels(top_facilities_data.index, rotation=0)\n",
    "ax3.legend(title='Facility Type', fontsize=9,\n",
    "           loc='upper right', framealpha=0.9)\n",
    "ax3.grid(axis='y', alpha=0.3, linestyle='--')\n",
    "\n",
    "# Function to categorize pricing information\n",
    "\n",
    "\n",
    "def categorize_pricing(price_info):\n",
    "    \"\"\"\n",
    "    Classify charging station pricing as Free, Paid, or Unknown\n",
    "    \"\"\"\n",
    "    price_str = str(price_info).lower()\n",
    "\n",
    "    if 'free' in price_str:\n",
    "        return 'Free'\n",
    "    elif price_str in ['unknown', 'nan', '']:\n",
    "        return 'Unknown'\n",
    "    else:\n",
    "        return 'Paid'\n",
    "\n",
    "\n",
    "# Apply pricing categorization\n",
    "X_station['Pricing_Category'] = X_station['EV_PRICING'].apply(\n",
    "    categorize_pricing)\n",
    "\n",
    "# Count pricing categories by cluster\n",
    "pricing_by_cluster = pd.crosstab(\n",
    "    X_station['Station_Cluster'],\n",
    "    X_station['Pricing_Category']\n",
    ")\n",
    "\n",
    "# Ensure all three categories exist in the right order\n",
    "available_categories = [cat for cat in ['Free', 'Paid', 'Unknown']\n",
    "                        if cat in pricing_by_cluster.columns]\n",
    "pricing_ordered = pricing_by_cluster[available_categories]\n",
    "\n",
    "pricing_ordered.plot(\n",
    "    kind='bar',\n",
    "    stacked=True,\n",
    "    ax=ax4,\n",
    "    width=0.7,\n",
    "    color=['#2ecc71', '#e74c3c', '#95a5a6'],\n",
    "    edgecolor='black',\n",
    "    alpha=0.85\n",
    ")\n",
    "\n",
    "ax4.set_xlabel('Cluster', fontsize=12, fontweight='bold')\n",
    "ax4.set_ylabel('Number of Stations', fontsize=12, fontweight='bold')\n",
    "ax4.set_title('Pricing Categories by Cluster', fontsize=14, fontweight='bold')\n",
    "ax4.set_xticklabels(pricing_ordered.index, rotation=0)\n",
    "ax4.legend(title='Pricing', fontsize=10, loc='best', framealpha=0.9)\n",
    "ax4.grid(axis='y', alpha=0.3, linestyle='--')\n",
    "\n",
    "# Add overall title\n",
    "fig.suptitle('Station Clustering Analysis',\n",
    "             fontsize=16, fontweight='bold', y=0.995)\n",
    "\n",
    "plt.tight_layout()\n",
    "plt.show()"
   ]
  },
  {
   "cell_type": "code",
   "execution_count": null,
   "id": "b345a65a",
   "metadata": {},
   "outputs": [],
   "source": [
    "# Data preprocessing and feature-engineering for regional clustering\n",
    "regional_data = df.copy()\n",
    "regional_data['POPULATION'] = regional_data['POPULATION'].fillna(\n",
    "    regional_data['POPULATION'].mean())\n",
    "regional_data['ELECTRIC_VEHICLE_REG_COUNT'] = pd.to_numeric(regional_data['ELECTRIC_VEHICLE_REG_COUNT'].astype(\n",
    "    str).str.replace(r'[^\\d.]', '', regex=True), errors='coerce').fillna(0)\n",
    "regional_analysis = regional_data.groupby('STATE_NAME').agg(\n",
    "    Population_Mean=('POPULATION', 'mean'), EV_Reg_Count_Sum=('ELECTRIC_VEHICLE_REG_COUNT', 'sum'),\n",
    "    Station_Count=('STATION_NAME', 'count')\n",
    ").reset_index()\n",
    "regional_analysis['Adoption_Ratio'] = regional_analysis['EV_Reg_Count_Sum'] / \\\n",
    "    regional_analysis['Population_Mean']\n",
    "regional_analysis['Infra_Balance_Ratio'] = regional_analysis['Station_Count'] / \\\n",
    "    regional_analysis['EV_Reg_Count_Sum']\n",
    "regional_analysis.replace([np.inf, -np.inf], np.nan, inplace=True)\n",
    "regional_analysis.dropna(\n",
    "    subset=['Adoption_Ratio', 'Infra_Balance_Ratio'], inplace=True)\n",
    "regional_clustering_features = ['Adoption_Ratio', 'Infra_Balance_Ratio']\n",
    "\n",
    "# Standardlize feature for region dataframe\n",
    "X_region = regional_analysis[regional_clustering_features]\n",
    "scaler_region = StandardScaler()\n",
    "X_region_scaled = scaler_region.fit_transform(X_region)"
   ]
  },
  {
   "cell_type": "code",
   "execution_count": null,
   "id": "a77c5e88",
   "metadata": {},
   "outputs": [
    {
     "data": {
      "image/png": "[encoded data removed]",
      "text/plain": [
       "<Figure size 1800x500 with 3 Axes>"
      ]
     },
     "metadata": {},
     "output_type": "display_data"
    }
   ],
   "source": [
    "# Store our evaluation metrics\n",
    "inertia_scores = []\n",
    "silhouette_scores = []\n",
    "davies_bouldin_scores = []\n",
    "\n",
    "# Test k from 2 to 10 clusters\n",
    "k_values = range(2, 11)\n",
    "# Test each k value\n",
    "for k in k_values:\n",
    "    # Fit KMeans on regional data\n",
    "    kmeans = KMeans(n_clusters=k, init='k-means++', random_state=42, n_init=10)\n",
    "    cluster_labels = kmeans.fit_predict(X_region_scaled)\n",
    "\n",
    "    # Calculate the three evaluation metrics\n",
    "    inertia_scores.append(kmeans.inertia_)\n",
    "    silhouette_scores.append(silhouette_score(X_region_scaled, cluster_labels))\n",
    "    davies_bouldin_scores.append(\n",
    "        davies_bouldin_score(X_region_scaled, cluster_labels))\n",
    "\n",
    "\n",
    "fig, (ax1, ax2, ax3) = plt.subplots(1, 3, figsize=(18, 5))\n",
    "\n",
    "# --- Plot 1: Elbow Method ---\n",
    "# Find where the rate of improvement slows down\n",
    "elbow_diffs = np.diff(np.diff(inertia_scores))\n",
    "best_k_elbow = k_values[np.argmax(\n",
    "    elbow_diffs) + 2] if len(inertia_scores) > 2 else k_values[0]\n",
    "best_inertia = inertia_scores[best_k_elbow - 2]\n",
    "\n",
    "ax1.plot(k_values, inertia_scores, 'o--', color='steelblue',\n",
    "         linewidth=2, markersize=8, label='Inertia')\n",
    "ax1.axvline(x=best_k_elbow, color='red', linestyle=':',\n",
    "            linewidth=2, alpha=0.7, label=f'Best k={best_k_elbow}')\n",
    "ax1.scatter(best_k_elbow, best_inertia, color='red',\n",
    "            s=150, zorder=5, edgecolor='black')\n",
    "ax1.annotate(f'Optimal k={best_k_elbow}\\nInertia={best_inertia:.0f}',\n",
    "             xy=(best_k_elbow, best_inertia),\n",
    "             xytext=(10, 10), textcoords='offset points',\n",
    "             fontsize=10, color='red', fontweight='bold',\n",
    "             bbox=dict(boxstyle='round,pad=0.5', facecolor='white', alpha=0.8))\n",
    "\n",
    "ax1.set_xlabel('Number of Clusters (k)', fontsize=12, fontweight='bold')\n",
    "ax1.set_ylabel('Inertia', fontsize=12, fontweight='bold')\n",
    "ax1.set_title('Elbow Method',\n",
    "              fontsize=14, fontweight='bold')\n",
    "ax1.grid(True, alpha=0.3, linestyle='--')\n",
    "ax1.set_xticks(k_values)\n",
    "\n",
    "# --- Plot 2: Silhouette Score ---\n",
    "best_k_silhouette = k_values[np.argmax(silhouette_scores)]\n",
    "best_silhouette = max(silhouette_scores)\n",
    "\n",
    "ax2.plot(k_values, silhouette_scores, 'o--', color='green',\n",
    "         linewidth=2, markersize=8, label='Silhouette Score')\n",
    "ax2.axvline(x=best_k_silhouette, color='red', linestyle=':',\n",
    "            linewidth=2, alpha=0.7, label=f'Best k={best_k_silhouette}')\n",
    "ax2.scatter(best_k_silhouette, best_silhouette, color='red',\n",
    "            s=150, zorder=5, edgecolor='black')\n",
    "ax2.annotate(f'Optimal k={best_k_silhouette}\\nScore={best_silhouette:.4f}',\n",
    "             xy=(best_k_silhouette, best_silhouette),\n",
    "             xytext=(10, -30), textcoords='offset points',\n",
    "             fontsize=10, color='red', fontweight='bold',\n",
    "             bbox=dict(boxstyle='round,pad=0.5', facecolor='white', alpha=0.8))\n",
    "\n",
    "ax2.set_xlabel('Number of Clusters (k)', fontsize=12, fontweight='bold')\n",
    "ax2.set_ylabel('Silhouette Score', fontsize=12, fontweight='bold')\n",
    "ax2.set_title('Silhouette Score',\n",
    "              fontsize=14, fontweight='bold')\n",
    "ax2.grid(True, alpha=0.3, linestyle='--')\n",
    "ax2.set_xticks(k_values)\n",
    "ax2.set_ylim(bottom=0)\n",
    "\n",
    "# --- Plot 3: Davies-Bouldin Index ---\n",
    "best_k_dbi = k_values[np.argmin(davies_bouldin_scores)]\n",
    "best_dbi = min(davies_bouldin_scores)\n",
    "\n",
    "ax3.plot(k_values, davies_bouldin_scores, 'o--', color='orange',\n",
    "         linewidth=2, markersize=8, label='Davies-Bouldin Index')\n",
    "ax3.axvline(x=best_k_dbi, color='red', linestyle=':',\n",
    "            linewidth=2, alpha=0.7, label=f'Best k={best_k_dbi}')\n",
    "ax3.scatter(best_k_dbi, best_dbi, color='red',\n",
    "            s=150, zorder=5, edgecolor='black')\n",
    "ax3.annotate(f'Optimal k={best_k_dbi}\\nDBI={best_dbi:.4f}',\n",
    "             xy=(best_k_dbi, best_dbi),\n",
    "             xytext=(10, 20), textcoords='offset points',\n",
    "             fontsize=10, color='red', fontweight='bold',\n",
    "             bbox=dict(boxstyle='round,pad=0.5', facecolor='white', alpha=0.8))\n",
    "\n",
    "ax3.set_xlabel('Number of Clusters (k)', fontsize=12, fontweight='bold')\n",
    "ax3.set_ylabel('Davies-Bouldin Index', fontsize=12, fontweight='bold')\n",
    "ax3.set_title('Davies-Bouldin Index',\n",
    "              fontsize=14, fontweight='bold')\n",
    "ax3.grid(True, alpha=0.3, linestyle='--')\n",
    "ax3.set_xticks(k_values)\n",
    "\n",
    "# Add overall title\n",
    "fig.suptitle('Regional Clustering: Optimal K Analysis',\n",
    "             fontsize=16, fontweight='bold', y=1.02)\n",
    "\n",
    "plt.tight_layout()\n",
    "plt.show()"
   ]
  },
  {
   "cell_type": "code",
   "execution_count": 20,
   "id": "a1e7ec28",
   "metadata": {},
   "outputs": [
    {
     "data": {
      "text/html": [
       "<div>\n",
       "<style scoped>\n",
       "    .dataframe tbody tr th:only-of-type {\n",
       "        vertical-align: middle;\n",
       "    }\n",
       "\n",
       "    .dataframe tbody tr th {\n",
       "        vertical-align: top;\n",
       "    }\n",
       "\n",
       "    .dataframe thead th {\n",
       "        text-align: right;\n",
       "    }\n",
       "</style>\n",
       "<table border=\"1\" class=\"dataframe\">\n",
       "  <thead>\n",
       "    <tr style=\"text-align: right;\">\n",
       "      <th></th>\n",
       "      <th>Region_Cluster</th>\n",
       "      <th>Population_Mean</th>\n",
       "      <th>EV_Reg_Count_Sum</th>\n",
       "      <th>Station_Count</th>\n",
       "      <th>Adoption_Ratio</th>\n",
       "      <th>Infra_Balance_Ratio</th>\n",
       "    </tr>\n",
       "  </thead>\n",
       "  <tbody>\n",
       "    <tr>\n",
       "      <th>0</th>\n",
       "      <td>0</td>\n",
       "      <td>4.456306e+05</td>\n",
       "      <td>2.301188e+06</td>\n",
       "      <td>50.454545</td>\n",
       "      <td>4.451389</td>\n",
       "      <td>0.000094</td>\n",
       "    </tr>\n",
       "    <tr>\n",
       "      <th>1</th>\n",
       "      <td>1</td>\n",
       "      <td>1.923320e+06</td>\n",
       "      <td>3.386071e+08</td>\n",
       "      <td>389.500000</td>\n",
       "      <td>148.997260</td>\n",
       "      <td>0.000006</td>\n",
       "    </tr>\n",
       "    <tr>\n",
       "      <th>2</th>\n",
       "      <td>2</td>\n",
       "      <td>7.483139e+04</td>\n",
       "      <td>5.700000e+03</td>\n",
       "      <td>4.666667</td>\n",
       "      <td>0.109316</td>\n",
       "      <td>0.000832</td>\n",
       "    </tr>\n",
       "    <tr>\n",
       "      <th>3</th>\n",
       "      <td>3</td>\n",
       "      <td>6.209711e+05</td>\n",
       "      <td>2.159332e+07</td>\n",
       "      <td>158.333333</td>\n",
       "      <td>35.983648</td>\n",
       "      <td>0.000009</td>\n",
       "    </tr>\n",
       "  </tbody>\n",
       "</table>\n",
       "</div>"
      ],
      "text/plain": [
       "   Region_Cluster  Population_Mean  EV_Reg_Count_Sum  Station_Count  \\\n",
       "0               0     4.456306e+05      2.301188e+06      50.454545   \n",
       "1               1     1.923320e+06      3.386071e+08     389.500000   \n",
       "2               2     7.483139e+04      5.700000e+03       4.666667   \n",
       "3               3     6.209711e+05      2.159332e+07     158.333333   \n",
       "\n",
       "   Adoption_Ratio  Infra_Balance_Ratio  \n",
       "0        4.451389             0.000094  \n",
       "1      148.997260             0.000006  \n",
       "2        0.109316             0.000832  \n",
       "3       35.983648             0.000009  "
      ]
     },
     "execution_count": 20,
     "metadata": {},
     "output_type": "execute_result"
    }
   ],
   "source": [
    "kmeans_region = KMeans(n_clusters=4)\n",
    "region_cluster_labels = kmeans_region.fit_predict(X_region_scaled)\n",
    "regional_analysis['Region_Cluster'] = pd.Series(\n",
    "    region_cluster_labels, index=X_region.index)\n",
    "regional_analysis.groupby(['Region_Cluster']).mean().reset_index()"
   ]
  },
  {
   "cell_type": "code",
   "execution_count": 21,
   "id": "3fea3a42",
   "metadata": {},
   "outputs": [
    {
     "data": {
      "text/html": [
       "<div>\n",
       "<style scoped>\n",
       "    .dataframe tbody tr th:only-of-type {\n",
       "        vertical-align: middle;\n",
       "    }\n",
       "\n",
       "    .dataframe tbody tr th {\n",
       "        vertical-align: top;\n",
       "    }\n",
       "\n",
       "    .dataframe thead th {\n",
       "        text-align: right;\n",
       "    }\n",
       "</style>\n",
       "<table border=\"1\" class=\"dataframe\">\n",
       "  <thead>\n",
       "    <tr style=\"text-align: right;\">\n",
       "      <th></th>\n",
       "      <th>STATE_NAME</th>\n",
       "      <th>Population_Mean</th>\n",
       "      <th>EV_Reg_Count_Sum</th>\n",
       "      <th>Station_Count</th>\n",
       "      <th>Adoption_Ratio</th>\n",
       "      <th>Infra_Balance_Ratio</th>\n",
       "      <th>Region_Cluster</th>\n",
       "    </tr>\n",
       "  </thead>\n",
       "  <tbody>\n",
       "    <tr>\n",
       "      <th>0</th>\n",
       "      <td>Alabama</td>\n",
       "      <td>1.469221e+05</td>\n",
       "      <td>156100.0</td>\n",
       "      <td>13</td>\n",
       "      <td>1.062468</td>\n",
       "      <td>8.327995e-05</td>\n",
       "      <td>0</td>\n",
       "    </tr>\n",
       "    <tr>\n",
       "      <th>1</th>\n",
       "      <td>Alaska</td>\n",
       "      <td>1.225446e+05</td>\n",
       "      <td>27000.0</td>\n",
       "      <td>10</td>\n",
       "      <td>0.220328</td>\n",
       "      <td>3.703704e-04</td>\n",
       "      <td>0</td>\n",
       "    </tr>\n",
       "    <tr>\n",
       "      <th>2</th>\n",
       "      <td>Arizona</td>\n",
       "      <td>2.219177e+06</td>\n",
       "      <td>8626200.0</td>\n",
       "      <td>99</td>\n",
       "      <td>3.887117</td>\n",
       "      <td>1.147666e-05</td>\n",
       "      <td>0</td>\n",
       "    </tr>\n",
       "    <tr>\n",
       "      <th>3</th>\n",
       "      <td>Arkansas</td>\n",
       "      <td>1.334294e+05</td>\n",
       "      <td>87600.0</td>\n",
       "      <td>16</td>\n",
       "      <td>0.656527</td>\n",
       "      <td>1.826484e-04</td>\n",
       "      <td>0</td>\n",
       "    </tr>\n",
       "    <tr>\n",
       "      <th>4</th>\n",
       "      <td>California</td>\n",
       "      <td>3.687234e+06</td>\n",
       "      <td>658165900.0</td>\n",
       "      <td>549</td>\n",
       "      <td>178.498542</td>\n",
       "      <td>8.341362e-07</td>\n",
       "      <td>1</td>\n",
       "    </tr>\n",
       "    <tr>\n",
       "      <th>5</th>\n",
       "      <td>Colorado</td>\n",
       "      <td>3.878020e+05</td>\n",
       "      <td>12242300.0</td>\n",
       "      <td>142</td>\n",
       "      <td>31.568427</td>\n",
       "      <td>1.159913e-05</td>\n",
       "      <td>3</td>\n",
       "    </tr>\n",
       "    <tr>\n",
       "      <th>6</th>\n",
       "      <td>Delaware</td>\n",
       "      <td>3.134178e+05</td>\n",
       "      <td>55200.0</td>\n",
       "      <td>8</td>\n",
       "      <td>0.176123</td>\n",
       "      <td>1.449275e-04</td>\n",
       "      <td>0</td>\n",
       "    </tr>\n",
       "    <tr>\n",
       "      <th>7</th>\n",
       "      <td>District of Columbia</td>\n",
       "      <td>6.720790e+05</td>\n",
       "      <td>157700.0</td>\n",
       "      <td>23</td>\n",
       "      <td>0.234645</td>\n",
       "      <td>1.458465e-04</td>\n",
       "      <td>0</td>\n",
       "    </tr>\n",
       "    <tr>\n",
       "      <th>8</th>\n",
       "      <td>Florida</td>\n",
       "      <td>1.012052e+06</td>\n",
       "      <td>29475700.0</td>\n",
       "      <td>122</td>\n",
       "      <td>29.124684</td>\n",
       "      <td>4.139003e-06</td>\n",
       "      <td>3</td>\n",
       "    </tr>\n",
       "    <tr>\n",
       "      <th>9</th>\n",
       "      <td>Georgia</td>\n",
       "      <td>2.737307e+05</td>\n",
       "      <td>11347200.0</td>\n",
       "      <td>127</td>\n",
       "      <td>41.453881</td>\n",
       "      <td>1.119219e-05</td>\n",
       "      <td>3</td>\n",
       "    </tr>\n",
       "    <tr>\n",
       "      <th>10</th>\n",
       "      <td>Hawaii</td>\n",
       "      <td>5.932661e+05</td>\n",
       "      <td>506200.0</td>\n",
       "      <td>20</td>\n",
       "      <td>0.853243</td>\n",
       "      <td>3.951008e-05</td>\n",
       "      <td>0</td>\n",
       "    </tr>\n",
       "    <tr>\n",
       "      <th>11</th>\n",
       "      <td>Idaho</td>\n",
       "      <td>2.590954e+05</td>\n",
       "      <td>116400.0</td>\n",
       "      <td>14</td>\n",
       "      <td>0.449255</td>\n",
       "      <td>1.202749e-04</td>\n",
       "      <td>0</td>\n",
       "    </tr>\n",
       "    <tr>\n",
       "      <th>12</th>\n",
       "      <td>Illinois</td>\n",
       "      <td>1.086269e+06</td>\n",
       "      <td>9141900.0</td>\n",
       "      <td>95</td>\n",
       "      <td>8.415872</td>\n",
       "      <td>1.039171e-05</td>\n",
       "      <td>0</td>\n",
       "    </tr>\n",
       "    <tr>\n",
       "      <th>13</th>\n",
       "      <td>Indiana</td>\n",
       "      <td>2.953606e+05</td>\n",
       "      <td>2978100.0</td>\n",
       "      <td>117</td>\n",
       "      <td>10.082929</td>\n",
       "      <td>3.928679e-05</td>\n",
       "      <td>0</td>\n",
       "    </tr>\n",
       "    <tr>\n",
       "      <th>14</th>\n",
       "      <td>Iowa</td>\n",
       "      <td>1.672410e+05</td>\n",
       "      <td>60800.0</td>\n",
       "      <td>8</td>\n",
       "      <td>0.363547</td>\n",
       "      <td>1.315789e-04</td>\n",
       "      <td>0</td>\n",
       "    </tr>\n",
       "    <tr>\n",
       "      <th>15</th>\n",
       "      <td>Kansas</td>\n",
       "      <td>1.619108e+05</td>\n",
       "      <td>177100.0</td>\n",
       "      <td>16</td>\n",
       "      <td>1.093812</td>\n",
       "      <td>9.034444e-05</td>\n",
       "      <td>0</td>\n",
       "    </tr>\n",
       "    <tr>\n",
       "      <th>16</th>\n",
       "      <td>Kentucky</td>\n",
       "      <td>1.525076e+05</td>\n",
       "      <td>459600.0</td>\n",
       "      <td>41</td>\n",
       "      <td>3.013621</td>\n",
       "      <td>8.920801e-05</td>\n",
       "      <td>0</td>\n",
       "    </tr>\n",
       "    <tr>\n",
       "      <th>17</th>\n",
       "      <td>Louisiana</td>\n",
       "      <td>2.630471e+05</td>\n",
       "      <td>243700.0</td>\n",
       "      <td>30</td>\n",
       "      <td>0.926450</td>\n",
       "      <td>1.231022e-04</td>\n",
       "      <td>0</td>\n",
       "    </tr>\n",
       "    <tr>\n",
       "      <th>18</th>\n",
       "      <td>Maryland</td>\n",
       "      <td>6.363554e+05</td>\n",
       "      <td>4446200.0</td>\n",
       "      <td>67</td>\n",
       "      <td>6.986976</td>\n",
       "      <td>1.506905e-05</td>\n",
       "      <td>0</td>\n",
       "    </tr>\n",
       "    <tr>\n",
       "      <th>19</th>\n",
       "      <td>Michigan</td>\n",
       "      <td>5.858500e+05</td>\n",
       "      <td>6469200.0</td>\n",
       "      <td>144</td>\n",
       "      <td>11.042417</td>\n",
       "      <td>2.225932e-05</td>\n",
       "      <td>0</td>\n",
       "    </tr>\n",
       "    <tr>\n",
       "      <th>20</th>\n",
       "      <td>Minnesota</td>\n",
       "      <td>3.134365e+05</td>\n",
       "      <td>3313400.0</td>\n",
       "      <td>90</td>\n",
       "      <td>10.571200</td>\n",
       "      <td>2.716243e-05</td>\n",
       "      <td>0</td>\n",
       "    </tr>\n",
       "    <tr>\n",
       "      <th>21</th>\n",
       "      <td>Mississippi</td>\n",
       "      <td>7.184795e+04</td>\n",
       "      <td>75600.0</td>\n",
       "      <td>22</td>\n",
       "      <td>1.052222</td>\n",
       "      <td>2.910053e-04</td>\n",
       "      <td>0</td>\n",
       "    </tr>\n",
       "    <tr>\n",
       "      <th>22</th>\n",
       "      <td>Missouri</td>\n",
       "      <td>3.428886e+05</td>\n",
       "      <td>1524000.0</td>\n",
       "      <td>60</td>\n",
       "      <td>4.444592</td>\n",
       "      <td>3.937008e-05</td>\n",
       "      <td>0</td>\n",
       "    </tr>\n",
       "    <tr>\n",
       "      <th>23</th>\n",
       "      <td>Montana</td>\n",
       "      <td>2.647100e+04</td>\n",
       "      <td>36800.0</td>\n",
       "      <td>8</td>\n",
       "      <td>1.390201</td>\n",
       "      <td>2.173913e-04</td>\n",
       "      <td>0</td>\n",
       "    </tr>\n",
       "    <tr>\n",
       "      <th>24</th>\n",
       "      <td>Nebraska</td>\n",
       "      <td>3.721934e+05</td>\n",
       "      <td>55200.0</td>\n",
       "      <td>8</td>\n",
       "      <td>0.148310</td>\n",
       "      <td>1.449275e-04</td>\n",
       "      <td>0</td>\n",
       "    </tr>\n",
       "    <tr>\n",
       "      <th>25</th>\n",
       "      <td>Nevada</td>\n",
       "      <td>1.557484e+06</td>\n",
       "      <td>663600.0</td>\n",
       "      <td>14</td>\n",
       "      <td>0.426072</td>\n",
       "      <td>2.109705e-05</td>\n",
       "      <td>0</td>\n",
       "    </tr>\n",
       "    <tr>\n",
       "      <th>26</th>\n",
       "      <td>New Mexico</td>\n",
       "      <td>3.608470e+05</td>\n",
       "      <td>233700.0</td>\n",
       "      <td>23</td>\n",
       "      <td>0.647643</td>\n",
       "      <td>9.841677e-05</td>\n",
       "      <td>0</td>\n",
       "    </tr>\n",
       "    <tr>\n",
       "      <th>27</th>\n",
       "      <td>New York</td>\n",
       "      <td>4.707456e+05</td>\n",
       "      <td>22953900.0</td>\n",
       "      <td>193</td>\n",
       "      <td>48.760728</td>\n",
       "      <td>8.408157e-06</td>\n",
       "      <td>3</td>\n",
       "    </tr>\n",
       "    <tr>\n",
       "      <th>28</th>\n",
       "      <td>North Carolina</td>\n",
       "      <td>4.006380e+05</td>\n",
       "      <td>11917200.0</td>\n",
       "      <td>177</td>\n",
       "      <td>29.745557</td>\n",
       "      <td>1.485248e-05</td>\n",
       "      <td>3</td>\n",
       "    </tr>\n",
       "    <tr>\n",
       "      <th>29</th>\n",
       "      <td>North Dakota</td>\n",
       "      <td>6.923200e+04</td>\n",
       "      <td>1000.0</td>\n",
       "      <td>1</td>\n",
       "      <td>0.014444</td>\n",
       "      <td>1.000000e-03</td>\n",
       "      <td>2</td>\n",
       "    </tr>\n",
       "    <tr>\n",
       "      <th>30</th>\n",
       "      <td>Ohio</td>\n",
       "      <td>5.597690e+05</td>\n",
       "      <td>6733000.0</td>\n",
       "      <td>142</td>\n",
       "      <td>12.028176</td>\n",
       "      <td>2.109015e-05</td>\n",
       "      <td>0</td>\n",
       "    </tr>\n",
       "    <tr>\n",
       "      <th>31</th>\n",
       "      <td>Oklahoma</td>\n",
       "      <td>3.513658e+05</td>\n",
       "      <td>814300.0</td>\n",
       "      <td>36</td>\n",
       "      <td>2.317528</td>\n",
       "      <td>4.420975e-05</td>\n",
       "      <td>0</td>\n",
       "    </tr>\n",
       "    <tr>\n",
       "      <th>32</th>\n",
       "      <td>Oregon</td>\n",
       "      <td>4.744817e+05</td>\n",
       "      <td>4310300.0</td>\n",
       "      <td>68</td>\n",
       "      <td>9.084228</td>\n",
       "      <td>1.577616e-05</td>\n",
       "      <td>0</td>\n",
       "    </tr>\n",
       "    <tr>\n",
       "      <th>33</th>\n",
       "      <td>Pennsylvania</td>\n",
       "      <td>5.985994e+05</td>\n",
       "      <td>3828800.0</td>\n",
       "      <td>60</td>\n",
       "      <td>6.396265</td>\n",
       "      <td>1.567071e-05</td>\n",
       "      <td>0</td>\n",
       "    </tr>\n",
       "    <tr>\n",
       "      <th>34</th>\n",
       "      <td>South Carolina</td>\n",
       "      <td>2.543503e+05</td>\n",
       "      <td>1511400.0</td>\n",
       "      <td>84</td>\n",
       "      <td>5.942199</td>\n",
       "      <td>5.557761e-05</td>\n",
       "      <td>0</td>\n",
       "    </tr>\n",
       "    <tr>\n",
       "      <th>35</th>\n",
       "      <td>South Dakota</td>\n",
       "      <td>1.143557e+05</td>\n",
       "      <td>5100.0</td>\n",
       "      <td>3</td>\n",
       "      <td>0.044598</td>\n",
       "      <td>5.882353e-04</td>\n",
       "      <td>2</td>\n",
       "    </tr>\n",
       "    <tr>\n",
       "      <th>36</th>\n",
       "      <td>Tennessee</td>\n",
       "      <td>3.375717e+05</td>\n",
       "      <td>2422000.0</td>\n",
       "      <td>77</td>\n",
       "      <td>7.174772</td>\n",
       "      <td>3.179191e-05</td>\n",
       "      <td>0</td>\n",
       "    </tr>\n",
       "    <tr>\n",
       "      <th>37</th>\n",
       "      <td>Texas</td>\n",
       "      <td>1.180858e+06</td>\n",
       "      <td>41623600.0</td>\n",
       "      <td>189</td>\n",
       "      <td>35.248609</td>\n",
       "      <td>4.540693e-06</td>\n",
       "      <td>3</td>\n",
       "    </tr>\n",
       "    <tr>\n",
       "      <th>38</th>\n",
       "      <td>Utah</td>\n",
       "      <td>2.170520e+05</td>\n",
       "      <td>2428000.0</td>\n",
       "      <td>61</td>\n",
       "      <td>11.186260</td>\n",
       "      <td>2.512356e-05</td>\n",
       "      <td>0</td>\n",
       "    </tr>\n",
       "    <tr>\n",
       "      <th>39</th>\n",
       "      <td>Virginia</td>\n",
       "      <td>1.594054e+05</td>\n",
       "      <td>19048300.0</td>\n",
       "      <td>230</td>\n",
       "      <td>119.495978</td>\n",
       "      <td>1.207457e-05</td>\n",
       "      <td>1</td>\n",
       "    </tr>\n",
       "    <tr>\n",
       "      <th>40</th>\n",
       "      <td>Washington</td>\n",
       "      <td>8.048274e+05</td>\n",
       "      <td>12841800.0</td>\n",
       "      <td>98</td>\n",
       "      <td>15.955968</td>\n",
       "      <td>7.631329e-06</td>\n",
       "      <td>0</td>\n",
       "    </tr>\n",
       "    <tr>\n",
       "      <th>41</th>\n",
       "      <td>West Virginia</td>\n",
       "      <td>7.051451e+04</td>\n",
       "      <td>95300.0</td>\n",
       "      <td>35</td>\n",
       "      <td>1.351495</td>\n",
       "      <td>3.672613e-04</td>\n",
       "      <td>0</td>\n",
       "    </tr>\n",
       "    <tr>\n",
       "      <th>42</th>\n",
       "      <td>Wisconsin</td>\n",
       "      <td>1.836357e+05</td>\n",
       "      <td>1343000.0</td>\n",
       "      <td>58</td>\n",
       "      <td>7.313392</td>\n",
       "      <td>4.318690e-05</td>\n",
       "      <td>0</td>\n",
       "    </tr>\n",
       "    <tr>\n",
       "      <th>43</th>\n",
       "      <td>Wyoming</td>\n",
       "      <td>4.090650e+04</td>\n",
       "      <td>11000.0</td>\n",
       "      <td>10</td>\n",
       "      <td>0.268906</td>\n",
       "      <td>9.090909e-04</td>\n",
       "      <td>2</td>\n",
       "    </tr>\n",
       "  </tbody>\n",
       "</table>\n",
       "</div>"
      ],
      "text/plain": [
       "              STATE_NAME  Population_Mean  EV_Reg_Count_Sum  Station_Count  \\\n",
       "0                Alabama     1.469221e+05          156100.0             13   \n",
       "1                 Alaska     1.225446e+05           27000.0             10   \n",
       "2                Arizona     2.219177e+06         8626200.0             99   \n",
       "3               Arkansas     1.334294e+05           87600.0             16   \n",
       "4             California     3.687234e+06       658165900.0            549   \n",
       "5               Colorado     3.878020e+05        12242300.0            142   \n",
       "6               Delaware     3.134178e+05           55200.0              8   \n",
       "7   District of Columbia     6.720790e+05          157700.0             23   \n",
       "8                Florida     1.012052e+06        29475700.0            122   \n",
       "9                Georgia     2.737307e+05        11347200.0            127   \n",
       "10                Hawaii     5.932661e+05          506200.0             20   \n",
       "11                 Idaho     2.590954e+05          116400.0             14   \n",
       "12              Illinois     1.086269e+06         9141900.0             95   \n",
       "13               Indiana     2.953606e+05         2978100.0            117   \n",
       "14                  Iowa     1.672410e+05           60800.0              8   \n",
       "15                Kansas     1.619108e+05          177100.0             16   \n",
       "16              Kentucky     1.525076e+05          459600.0             41   \n",
       "17             Louisiana     2.630471e+05          243700.0             30   \n",
       "18              Maryland     6.363554e+05         4446200.0             67   \n",
       "19              Michigan     5.858500e+05         6469200.0            144   \n",
       "20             Minnesota     3.134365e+05         3313400.0             90   \n",
       "21           Mississippi     7.184795e+04           75600.0             22   \n",
       "22              Missouri     3.428886e+05         1524000.0             60   \n",
       "23               Montana     2.647100e+04           36800.0              8   \n",
       "24              Nebraska     3.721934e+05           55200.0              8   \n",
       "25                Nevada     1.557484e+06          663600.0             14   \n",
       "26            New Mexico     3.608470e+05          233700.0             23   \n",
       "27              New York     4.707456e+05        22953900.0            193   \n",
       "28        North Carolina     4.006380e+05        11917200.0            177   \n",
       "29          North Dakota     6.923200e+04            1000.0              1   \n",
       "30                  Ohio     5.597690e+05         6733000.0            142   \n",
       "31              Oklahoma     3.513658e+05          814300.0             36   \n",
       "32                Oregon     4.744817e+05         4310300.0             68   \n",
       "33          Pennsylvania     5.985994e+05         3828800.0             60   \n",
       "34        South Carolina     2.543503e+05         1511400.0             84   \n",
       "35          South Dakota     1.143557e+05            5100.0              3   \n",
       "36             Tennessee     3.375717e+05         2422000.0             77   \n",
       "37                 Texas     1.180858e+06        41623600.0            189   \n",
       "38                  Utah     2.170520e+05         2428000.0             61   \n",
       "39              Virginia     1.594054e+05        19048300.0            230   \n",
       "40            Washington     8.048274e+05        12841800.0             98   \n",
       "41         West Virginia     7.051451e+04           95300.0             35   \n",
       "42             Wisconsin     1.836357e+05         1343000.0             58   \n",
       "43               Wyoming     4.090650e+04           11000.0             10   \n",
       "\n",
       "    Adoption_Ratio  Infra_Balance_Ratio  Region_Cluster  \n",
       "0         1.062468         8.327995e-05               0  \n",
       "1         0.220328         3.703704e-04               0  \n",
       "2         3.887117         1.147666e-05               0  \n",
       "3         0.656527         1.826484e-04               0  \n",
       "4       178.498542         8.341362e-07               1  \n",
       "5        31.568427         1.159913e-05               3  \n",
       "6         0.176123         1.449275e-04               0  \n",
       "7         0.234645         1.458465e-04               0  \n",
       "8        29.124684         4.139003e-06               3  \n",
       "9        41.453881         1.119219e-05               3  \n",
       "10        0.853243         3.951008e-05               0  \n",
       "11        0.449255         1.202749e-04               0  \n",
       "12        8.415872         1.039171e-05               0  \n",
       "13       10.082929         3.928679e-05               0  \n",
       "14        0.363547         1.315789e-04               0  \n",
       "15        1.093812         9.034444e-05               0  \n",
       "16        3.013621         8.920801e-05               0  \n",
       "17        0.926450         1.231022e-04               0  \n",
       "18        6.986976         1.506905e-05               0  \n",
       "19       11.042417         2.225932e-05               0  \n",
       "20       10.571200         2.716243e-05               0  \n",
       "21        1.052222         2.910053e-04               0  \n",
       "22        4.444592         3.937008e-05               0  \n",
       "23        1.390201         2.173913e-04               0  \n",
       "24        0.148310         1.449275e-04               0  \n",
       "25        0.426072         2.109705e-05               0  \n",
       "26        0.647643         9.841677e-05               0  \n",
       "27       48.760728         8.408157e-06               3  \n",
       "28       29.745557         1.485248e-05               3  \n",
       "29        0.014444         1.000000e-03               2  \n",
       "30       12.028176         2.109015e-05               0  \n",
       "31        2.317528         4.420975e-05               0  \n",
       "32        9.084228         1.577616e-05               0  \n",
       "33        6.396265         1.567071e-05               0  \n",
       "34        5.942199         5.557761e-05               0  \n",
       "35        0.044598         5.882353e-04               2  \n",
       "36        7.174772         3.179191e-05               0  \n",
       "37       35.248609         4.540693e-06               3  \n",
       "38       11.186260         2.512356e-05               0  \n",
       "39      119.495978         1.207457e-05               1  \n",
       "40       15.955968         7.631329e-06               0  \n",
       "41        1.351495         3.672613e-04               0  \n",
       "42        7.313392         4.318690e-05               0  \n",
       "43        0.268906         9.090909e-04               2  "
      ]
     },
     "execution_count": 21,
     "metadata": {},
     "output_type": "execute_result"
    }
   ],
   "source": [
    "regional_analysis"
   ]
  },
  {
   "cell_type": "code",
   "execution_count": 22,
   "id": "084c501f",
   "metadata": {},
   "outputs": [
    {
     "data": {
      "application/vnd.plotly.v1+json": {
       "config": {
        "plotlyServerURL": "https://plot.ly"
       },
       "data": [
        {
         "colorscale": [
          [
           0,
           "#DC143C"
          ],
          [
           1,
           "#DC143C"
          ]
         ],
         "customdata": [
          [
           "CA",
           1,
           549,
           178.49854221957565,
           8.341361957524691e-7
          ],
          [
           "VA",
           1,
           230,
           119.49597790527697,
           0.000012074568334182054
          ]
         ],
         "geo": "geo",
         "hovertemplate": "<b>%{hovertext}</b><br><br>Priority=Critical Shortfall<br>Region_Cluster=%{customdata[1]}<br>Station_Count=%{customdata[2]:,.0f}<br>Adoption_Ratio=%{customdata[3]:.6f}<br>Infra_Balance_Ratio=%{customdata[4]:.6f}<extra></extra>",
         "hovertext": [
          "California",
          "Virginia"
         ],
         "locationmode": "USA-states",
         "locations": [
          "CA",
          "VA"
         ],
         "name": "Critical Shortfall",
         "showlegend": true,
         "showscale": false,
         "type": "choropleth",
         "z": [
          1,
          1
         ]
        },
        {
         "colorscale": [
          [
           0,
           "#FF8C00"
          ],
          [
           1,
           "#FF8C00"
          ]
         ],
         "customdata": [
          [
           "AL",
           0,
           13,
           1.0624679644416426,
           0.00008327994875080077
          ],
          [
           "AK",
           0,
           10,
           0.2203279459070412,
           0.00037037037037037035
          ],
          [
           "AZ",
           0,
           99,
           3.8871170111643814,
           0.000011476664116296863
          ],
          [
           "AR",
           0,
           16,
           0.6565267878012302,
           0.00018264840182648402
          ],
          [
           "DE",
           0,
           8,
           0.17612276267058902,
           0.00014492753623188405
          ],
          [
           "DC",
           0,
           23,
           0.23464503428912376,
           0.00014584654407102091
          ],
          [
           "HI",
           0,
           20,
           0.8532427522826603,
           0.00003951007506914263
          ],
          [
           "ID",
           0,
           14,
           0.4492554451132857,
           0.00012027491408934708
          ],
          [
           "IL",
           0,
           95,
           8.415872103935031,
           0.00001039171288244238
          ],
          [
           "IN",
           0,
           117,
           10.082928904724925,
           0.00003928679359323058
          ],
          [
           "IA",
           0,
           8,
           0.3635472162926555,
           0.00013157894736842105
          ],
          [
           "KS",
           0,
           16,
           1.0938120639719475,
           0.00009034443817052513
          ],
          [
           "KY",
           0,
           41,
           3.0136210759642466,
           0.00008920800696257615
          ],
          [
           "LA",
           0,
           30,
           0.9264499366019827,
           0.00012310217480508823
          ],
          [
           "MD",
           0,
           67,
           6.98697562131743,
           0.000015069047726148172
          ],
          [
           "MI",
           0,
           144,
           11.042417393616732,
           0.000022259321090706732
          ],
          [
           "MN",
           0,
           90,
           10.571199852417392,
           0.00002716243133940967
          ],
          [
           "MS",
           0,
           22,
           1.0522220218833331,
           0.000291005291005291
          ],
          [
           "MO",
           0,
           60,
           4.444592208664855,
           0.00003937007874015748
          ],
          [
           "MT",
           0,
           8,
           1.390200596879604,
           0.0002173913043478261
          ],
          [
           "NE",
           0,
           8,
           0.14831000148780188,
           0.00014492753623188405
          ],
          [
           "NV",
           0,
           14,
           0.4260718317924323,
           0.00002109704641350211
          ],
          [
           "NM",
           0,
           23,
           0.6476428287934115,
           0.00009841677364142062
          ],
          [
           "OH",
           0,
           142,
           12.028176210920812,
           0.000021090152977870192
          ],
          [
           "OK",
           0,
           36,
           2.3175275531912374,
           0.00004420975070612796
          ],
          [
           "OR",
           0,
           68,
           9.084228285632419,
           0.00001577616407210635
          ],
          [
           "PA",
           0,
           60,
           6.396264702585441,
           0.000015670706226493942
          ],
          [
           "SC",
           0,
           84,
           5.942199225355847,
           0.000055577610162763
          ],
          [
           "TN",
           0,
           77,
           7.174772028230193,
           0.00003179190751445087
          ],
          [
           "UT",
           0,
           61,
           11.186260358721952,
           0.000025123558484349258
          ],
          [
           "WA",
           0,
           98,
           15.955967944653972,
           0.000007631328941425656
          ],
          [
           "WV",
           0,
           35,
           1.3514948087688532,
           0.00036726128016789086
          ],
          [
           "WI",
           0,
           58,
           7.313391804915128,
           0.00004318689501116902
          ]
         ],
         "geo": "geo",
         "hovertemplate": "<b>%{hovertext}</b><br><br>Priority=High Need<br>Region_Cluster=%{customdata[1]}<br>Station_Count=%{customdata[2]:,.0f}<br>Adoption_Ratio=%{customdata[3]:.6f}<br>Infra_Balance_Ratio=%{customdata[4]:.6f}<extra></extra>",
         "hovertext": [
          "Alabama",
          "Alaska",
          "Arizona",
          "Arkansas",
          "Delaware",
          "District of Columbia",
          "Hawaii",
          "Idaho",
          "Illinois",
          "Indiana",
          "Iowa",
          "Kansas",
          "Kentucky",
          "Louisiana",
          "Maryland",
          "Michigan",
          "Minnesota",
          "Mississippi",
          "Missouri",
          "Montana",
          "Nebraska",
          "Nevada",
          "New Mexico",
          "Ohio",
          "Oklahoma",
          "Oregon",
          "Pennsylvania",
          "South Carolina",
          "Tennessee",
          "Utah",
          "Washington",
          "West Virginia",
          "Wisconsin"
         ],
         "locationmode": "USA-states",
         "locations": [
          "AL",
          "AK",
          "AZ",
          "AR",
          "DE",
          "DC",
          "HI",
          "ID",
          "IL",
          "IN",
          "IA",
          "KS",
          "KY",
          "LA",
          "MD",
          "MI",
          "MN",
          "MS",
          "MO",
          "MT",
          "NE",
          "NV",
          "NM",
          "OH",
          "OK",
          "OR",
          "PA",
          "SC",
          "TN",
          "UT",
          "WA",
          "WV",
          "WI"
         ],
         "name": "High Need",
         "showlegend": true,
         "showscale": false,
         "type": "choropleth",
         "z": [
          1,
          1,
          1,
          1,
          1,
          1,
          1,
          1,
          1,
          1,
          1,
          1,
          1,
          1,
          1,
          1,
          1,
          1,
          1,
          1,
          1,
          1,
          1,
          1,
          1,
          1,
          1,
          1,
          1,
          1,
          1,
          1,
          1
         ]
        },
        {
         "colorscale": [
          [
           0,
           "#FFD700"
          ],
          [
           1,
           "#FFD700"
          ]
         ],
         "customdata": [
          [
           "CO",
           3,
           142,
           31.5684269569227,
           0.000011599127614908963
          ],
          [
           "FL",
           3,
           122,
           29.124683819883682,
           0.000004139002636069712
          ],
          [
           "GA",
           3,
           127,
           41.45388137815433,
           0.000011192188381274676
          ],
          [
           "NY",
           3,
           193,
           48.760727510359516,
           0.00000840815721947033
          ],
          [
           "NC",
           3,
           177,
           29.74555709683551,
           0.000014852482126674051
          ],
          [
           "TX",
           3,
           189,
           35.24860878996897,
           0.000004540693260554109
          ]
         ],
         "geo": "geo",
         "hovertemplate": "<b>%{hovertext}</b><br><br>Priority=Moderate Need<br>Region_Cluster=%{customdata[1]}<br>Station_Count=%{customdata[2]:,.0f}<br>Adoption_Ratio=%{customdata[3]:.6f}<br>Infra_Balance_Ratio=%{customdata[4]:.6f}<extra></extra>",
         "hovertext": [
          "Colorado",
          "Florida",
          "Georgia",
          "New York",
          "North Carolina",
          "Texas"
         ],
         "locationmode": "USA-states",
         "locations": [
          "CO",
          "FL",
          "GA",
          "NY",
          "NC",
          "TX"
         ],
         "name": "Moderate Need",
         "showlegend": true,
         "showscale": false,
         "type": "choropleth",
         "z": [
          1,
          1,
          1,
          1,
          1,
          1
         ]
        },
        {
         "colorscale": [
          [
           0,
           "#32CD32"
          ],
          [
           1,
           "#32CD32"
          ]
         ],
         "customdata": [
          [
           "ND",
           2,
           1,
           0.014444187658886064,
           0.001
          ],
          [
           "SD",
           2,
           3,
           0.044597702489601154,
           0.000588235294117647
          ],
          [
           "WY",
           2,
           10,
           0.26890591959713006,
           0.0009090909090909091
          ]
         ],
         "geo": "geo",
         "hovertemplate": "<b>%{hovertext}</b><br><br>Priority=Foundational Need<br>Region_Cluster=%{customdata[1]}<br>Station_Count=%{customdata[2]:,.0f}<br>Adoption_Ratio=%{customdata[3]:.6f}<br>Infra_Balance_Ratio=%{customdata[4]:.6f}<extra></extra>",
         "hovertext": [
          "North Dakota",
          "South Dakota",
          "Wyoming"
         ],
         "locationmode": "USA-states",
         "locations": [
          "ND",
          "SD",
          "WY"
         ],
         "name": "Foundational Need",
         "showlegend": true,
         "showscale": false,
         "type": "choropleth",
         "z": [
          1,
          1,
          1
         ]
        },
        {
         "locationmode": "USA-states",
         "locations": [
          "AL"
         ],
         "mode": "text",
         "showlegend": false,
         "text": "AL",
         "textfont": {
          "color": "black",
          "family": "Arial Black",
          "size": 8
         },
         "type": "scattergeo"
        },
        {
         "locationmode": "USA-states",
         "locations": [
          "AK"
         ],
         "mode": "text",
         "showlegend": false,
         "text": "AK",
         "textfont": {
          "color": "black",
          "family": "Arial Black",
          "size": 8
         },
         "type": "scattergeo"
        },
        {
         "locationmode": "USA-states",
         "locations": [
          "AZ"
         ],
         "mode": "text",
         "showlegend": false,
         "text": "AZ",
         "textfont": {
          "color": "black",
          "family": "Arial Black",
          "size": 8
         },
         "type": "scattergeo"
        },
        {
         "locationmode": "USA-states",
         "locations": [
          "AR"
         ],
         "mode": "text",
         "showlegend": false,
         "text": "AR",
         "textfont": {
          "color": "black",
          "family": "Arial Black",
          "size": 8
         },
         "type": "scattergeo"
        },
        {
         "locationmode": "USA-states",
         "locations": [
          "CA"
         ],
         "mode": "text",
         "showlegend": false,
         "text": "CA",
         "textfont": {
          "color": "black",
          "family": "Arial Black",
          "size": 8
         },
         "type": "scattergeo"
        },
        {
         "locationmode": "USA-states",
         "locations": [
          "CO"
         ],
         "mode": "text",
         "showlegend": false,
         "text": "CO",
         "textfont": {
          "color": "black",
          "family": "Arial Black",
          "size": 8
         },
         "type": "scattergeo"
        },
        {
         "locationmode": "USA-states",
         "locations": [
          "DE"
         ],
         "mode": "text",
         "showlegend": false,
         "text": "DE",
         "textfont": {
          "color": "black",
          "family": "Arial Black",
          "size": 8
         },
         "type": "scattergeo"
        },
        {
         "locationmode": "USA-states",
         "locations": [
          "DC"
         ],
         "mode": "text",
         "showlegend": false,
         "text": "DC",
         "textfont": {
          "color": "black",
          "family": "Arial Black",
          "size": 8
         },
         "type": "scattergeo"
        },
        {
         "locationmode": "USA-states",
         "locations": [
          "FL"
         ],
         "mode": "text",
         "showlegend": false,
         "text": "FL",
         "textfont": {
          "color": "black",
          "family": "Arial Black",
          "size": 8
         },
         "type": "scattergeo"
        },
        {
         "locationmode": "USA-states",
         "locations": [
          "GA"
         ],
         "mode": "text",
         "showlegend": false,
         "text": "GA",
         "textfont": {
          "color": "black",
          "family": "Arial Black",
          "size": 8
         },
         "type": "scattergeo"
        },
        {
         "locationmode": "USA-states",
         "locations": [
          "HI"
         ],
         "mode": "text",
         "showlegend": false,
         "text": "HI",
         "textfont": {
          "color": "black",
          "family": "Arial Black",
          "size": 8
         },
         "type": "scattergeo"
        },
        {
         "locationmode": "USA-states",
         "locations": [
          "ID"
         ],
         "mode": "text",
         "showlegend": false,
         "text": "ID",
         "textfont": {
          "color": "black",
          "family": "Arial Black",
          "size": 8
         },
         "type": "scattergeo"
        },
        {
         "locationmode": "USA-states",
         "locations": [
          "IL"
         ],
         "mode": "text",
         "showlegend": false,
         "text": "IL",
         "textfont": {
          "color": "black",
          "family": "Arial Black",
          "size": 8
         },
         "type": "scattergeo"
        },
        {
         "locationmode": "USA-states",
         "locations": [
          "IN"
         ],
         "mode": "text",
         "showlegend": false,
         "text": "IN",
         "textfont": {
          "color": "black",
          "family": "Arial Black",
          "size": 8
         },
         "type": "scattergeo"
        },
        {
         "locationmode": "USA-states",
         "locations": [
          "IA"
         ],
         "mode": "text",
         "showlegend": false,
         "text": "IA",
         "textfont": {
          "color": "black",
          "family": "Arial Black",
          "size": 8
         },
         "type": "scattergeo"
        },
        {
         "locationmode": "USA-states",
         "locations": [
          "KS"
         ],
         "mode": "text",
         "showlegend": false,
         "text": "KS",
         "textfont": {
          "color": "black",
          "family": "Arial Black",
          "size": 8
         },
         "type": "scattergeo"
        },
        {
         "locationmode": "USA-states",
         "locations": [
          "KY"
         ],
         "mode": "text",
         "showlegend": false,
         "text": "KY",
         "textfont": {
          "color": "black",
          "family": "Arial Black",
          "size": 8
         },
         "type": "scattergeo"
        },
        {
         "locationmode": "USA-states",
         "locations": [
          "LA"
         ],
         "mode": "text",
         "showlegend": false,
         "text": "LA",
         "textfont": {
          "color": "black",
          "family": "Arial Black",
          "size": 8
         },
         "type": "scattergeo"
        },
        {
         "locationmode": "USA-states",
         "locations": [
          "MD"
         ],
         "mode": "text",
         "showlegend": false,
         "text": "MD",
         "textfont": {
          "color": "black",
          "family": "Arial Black",
          "size": 8
         },
         "type": "scattergeo"
        },
        {
         "locationmode": "USA-states",
         "locations": [
          "MI"
         ],
         "mode": "text",
         "showlegend": false,
         "text": "MI",
         "textfont": {
          "color": "black",
          "family": "Arial Black",
          "size": 8
         },
         "type": "scattergeo"
        },
        {
         "locationmode": "USA-states",
         "locations": [
          "MN"
         ],
         "mode": "text",
         "showlegend": false,
         "text": "MN",
         "textfont": {
          "color": "black",
          "family": "Arial Black",
          "size": 8
         },
         "type": "scattergeo"
        },
        {
         "locationmode": "USA-states",
         "locations": [
          "MS"
         ],
         "mode": "text",
         "showlegend": false,
         "text": "MS",
         "textfont": {
          "color": "black",
          "family": "Arial Black",
          "size": 8
         },
         "type": "scattergeo"
        },
        {
         "locationmode": "USA-states",
         "locations": [
          "MO"
         ],
         "mode": "text",
         "showlegend": false,
         "text": "MO",
         "textfont": {
          "color": "black",
          "family": "Arial Black",
          "size": 8
         },
         "type": "scattergeo"
        },
        {
         "locationmode": "USA-states",
         "locations": [
          "MT"
         ],
         "mode": "text",
         "showlegend": false,
         "text": "MT",
         "textfont": {
          "color": "black",
          "family": "Arial Black",
          "size": 8
         },
         "type": "scattergeo"
        },
        {
         "locationmode": "USA-states",
         "locations": [
          "NE"
         ],
         "mode": "text",
         "showlegend": false,
         "text": "NE",
         "textfont": {
          "color": "black",
          "family": "Arial Black",
          "size": 8
         },
         "type": "scattergeo"
        },
        {
         "locationmode": "USA-states",
         "locations": [
          "NV"
         ],
         "mode": "text",
         "showlegend": false,
         "text": "NV",
         "textfont": {
          "color": "black",
          "family": "Arial Black",
          "size": 8
         },
         "type": "scattergeo"
        },
        {
         "locationmode": "USA-states",
         "locations": [
          "NM"
         ],
         "mode": "text",
         "showlegend": false,
         "text": "NM",
         "textfont": {
          "color": "black",
          "family": "Arial Black",
          "size": 8
         },
         "type": "scattergeo"
        },
        {
         "locationmode": "USA-states",
         "locations": [
          "NY"
         ],
         "mode": "text",
         "showlegend": false,
         "text": "NY",
         "textfont": {
          "color": "black",
          "family": "Arial Black",
          "size": 8
         },
         "type": "scattergeo"
        },
        {
         "locationmode": "USA-states",
         "locations": [
          "NC"
         ],
         "mode": "text",
         "showlegend": false,
         "text": "NC",
         "textfont": {
          "color": "black",
          "family": "Arial Black",
          "size": 8
         },
         "type": "scattergeo"
        },
        {
         "locationmode": "USA-states",
         "locations": [
          "ND"
         ],
         "mode": "text",
         "showlegend": false,
         "text": "ND",
         "textfont": {
          "color": "black",
          "family": "Arial Black",
          "size": 8
         },
         "type": "scattergeo"
        },
        {
         "locationmode": "USA-states",
         "locations": [
          "OH"
         ],
         "mode": "text",
         "showlegend": false,
         "text": "OH",
         "textfont": {
          "color": "black",
          "family": "Arial Black",
          "size": 8
         },
         "type": "scattergeo"
        },
        {
         "locationmode": "USA-states",
         "locations": [
          "OK"
         ],
         "mode": "text",
         "showlegend": false,
         "text": "OK",
         "textfont": {
          "color": "black",
          "family": "Arial Black",
          "size": 8
         },
         "type": "scattergeo"
        },
        {
         "locationmode": "USA-states",
         "locations": [
          "OR"
         ],
         "mode": "text",
         "showlegend": false,
         "text": "OR",
         "textfont": {
          "color": "black",
          "family": "Arial Black",
          "size": 8
         },
         "type": "scattergeo"
        },
        {
         "locationmode": "USA-states",
         "locations": [
          "PA"
         ],
         "mode": "text",
         "showlegend": false,
         "text": "PA",
         "textfont": {
          "color": "black",
          "family": "Arial Black",
          "size": 8
         },
         "type": "scattergeo"
        },
        {
         "locationmode": "USA-states",
         "locations": [
          "SC"
         ],
         "mode": "text",
         "showlegend": false,
         "text": "SC",
         "textfont": {
          "color": "black",
          "family": "Arial Black",
          "size": 8
         },
         "type": "scattergeo"
        },
        {
         "locationmode": "USA-states",
         "locations": [
          "SD"
         ],
         "mode": "text",
         "showlegend": false,
         "text": "SD",
         "textfont": {
          "color": "black",
          "family": "Arial Black",
          "size": 8
         },
         "type": "scattergeo"
        },
        {
         "locationmode": "USA-states",
         "locations": [
          "TN"
         ],
         "mode": "text",
         "showlegend": false,
         "text": "TN",
         "textfont": {
          "color": "black",
          "family": "Arial Black",
          "size": 8
         },
         "type": "scattergeo"
        },
        {
         "locationmode": "USA-states",
         "locations": [
          "TX"
         ],
         "mode": "text",
         "showlegend": false,
         "text": "TX",
         "textfont": {
          "color": "black",
          "family": "Arial Black",
          "size": 8
         },
         "type": "scattergeo"
        },
        {
         "locationmode": "USA-states",
         "locations": [
          "UT"
         ],
         "mode": "text",
         "showlegend": false,
         "text": "UT",
         "textfont": {
          "color": "black",
          "family": "Arial Black",
          "size": 8
         },
         "type": "scattergeo"
        },
        {
         "locationmode": "USA-states",
         "locations": [
          "VA"
         ],
         "mode": "text",
         "showlegend": false,
         "text": "VA",
         "textfont": {
          "color": "black",
          "family": "Arial Black",
          "size": 8
         },
         "type": "scattergeo"
        },
        {
         "locationmode": "USA-states",
         "locations": [
          "WA"
         ],
         "mode": "text",
         "showlegend": false,
         "text": "WA",
         "textfont": {
          "color": "black",
          "family": "Arial Black",
          "size": 8
         },
         "type": "scattergeo"
        },
        {
         "locationmode": "USA-states",
         "locations": [
          "WV"
         ],
         "mode": "text",
         "showlegend": false,
         "text": "WV",
         "textfont": {
          "color": "black",
          "family": "Arial Black",
          "size": 8
         },
         "type": "scattergeo"
        },
        {
         "locationmode": "USA-states",
         "locations": [
          "WI"
         ],
         "mode": "text",
         "showlegend": false,
         "text": "WI",
         "textfont": {
          "color": "black",
          "family": "Arial Black",
          "size": 8
         },
         "type": "scattergeo"
        },
        {
         "locationmode": "USA-states",
         "locations": [
          "WY"
         ],
         "mode": "text",
         "showlegend": false,
         "text": "WY",
         "textfont": {
          "color": "black",
          "family": "Arial Black",
          "size": 8
         },
         "type": "scattergeo"
        }
       ],
       "layout": {
        "geo": {
         "center": {},
         "domain": {
          "x": [
           0,
           1
          ],
          "y": [
           0,
           1
          ]
         },
         "lakecolor": "lightblue",
         "projection": {
          "type": "albers usa"
         },
         "scope": "usa",
         "showlakes": true
        },
        "height": 700,
        "legend": {
         "title": {
          "text": "Priority"
         },
         "tracegroupgap": 0
        },
        "template": {
         "data": {
          "bar": [
           {
            "error_x": {
             "color": "#2a3f5f"
            },
            "error_y": {
             "color": "#2a3f5f"
            },
            "marker": {
             "line": {
              "color": "#E5ECF6",
              "width": 0.5
             },
             "pattern": {
              "fillmode": "overlay",
              "size": 10,
              "solidity": 0.2
             }
            },
            "type": "bar"
           }
          ],
          "barpolar": [
           {
            "marker": {
             "line": {
              "color": "#E5ECF6",
              "width": 0.5
             },
             "pattern": {
              "fillmode": "overlay",
              "size": 10,
              "solidity": 0.2
             }
            },
            "type": "barpolar"
           }
          ],
          "carpet": [
           {
            "aaxis": {
             "endlinecolor": "#2a3f5f",
             "gridcolor": "white",
             "linecolor": "white",
             "minorgridcolor": "white",
             "startlinecolor": "#2a3f5f"
            },
            "baxis": {
             "endlinecolor": "#2a3f5f",
             "gridcolor": "white",
             "linecolor": "white",
             "minorgridcolor": "white",
             "startlinecolor": "#2a3f5f"
            },
            "type": "carpet"
           }
          ],
          "choropleth": [
           {
            "colorbar": {
             "outlinewidth": 0,
             "ticks": ""
            },
            "type": "choropleth"
           }
          ],
          "contour": [
           {
            "colorbar": {
             "outlinewidth": 0,
             "ticks": ""
            },
            "colorscale": [
             [
              0,
              "#0d0887"
             ],
             [
              0.1111111111111111,
              "#46039f"
             ],
             [
              0.2222222222222222,
              "#7201a8"
             ],
             [
              0.3333333333333333,
              "#9c179e"
             ],
             [
              0.4444444444444444,
              "#bd3786"
             ],
             [
              0.5555555555555556,
              "#d8576b"
             ],
             [
              0.6666666666666666,
              "#ed7953"
             ],
             [
              0.7777777777777778,
              "#fb9f3a"
             ],
             [
              0.8888888888888888,
              "#fdca26"
             ],
             [
              1,
              "#f0f921"
             ]
            ],
            "type": "contour"
           }
          ],
          "contourcarpet": [
           {
            "colorbar": {
             "outlinewidth": 0,
             "ticks": ""
            },
            "type": "contourcarpet"
           }
          ],
          "heatmap": [
           {
            "colorbar": {
             "outlinewidth": 0,
             "ticks": ""
            },
            "colorscale": [
             [
              0,
              "#0d0887"
             ],
             [
              0.1111111111111111,
              "#46039f"
             ],
             [
              0.2222222222222222,
              "#7201a8"
             ],
             [
              0.3333333333333333,
              "#9c179e"
             ],
             [
              0.4444444444444444,
              "#bd3786"
             ],
             [
              0.5555555555555556,
              "#d8576b"
             ],
             [
              0.6666666666666666,
              "#ed7953"
             ],
             [
              0.7777777777777778,
              "#fb9f3a"
             ],
             [
              0.8888888888888888,
              "#fdca26"
             ],
             [
              1,
              "#f0f921"
             ]
            ],
            "type": "heatmap"
           }
          ],
          "histogram": [
           {
            "marker": {
             "pattern": {
              "fillmode": "overlay",
              "size": 10,
              "solidity": 0.2
             }
            },
            "type": "histogram"
           }
          ],
          "histogram2d": [
           {
            "colorbar": {
             "outlinewidth": 0,
             "ticks": ""
            },
            "colorscale": [
             [
              0,
              "#0d0887"
             ],
             [
              0.1111111111111111,
              "#46039f"
             ],
             [
              0.2222222222222222,
              "#7201a8"
             ],
             [
              0.3333333333333333,
              "#9c179e"
             ],
             [
              0.4444444444444444,
              "#bd3786"
             ],
             [
              0.5555555555555556,
              "#d8576b"
             ],
             [
              0.6666666666666666,
              "#ed7953"
             ],
             [
              0.7777777777777778,
              "#fb9f3a"
             ],
             [
              0.8888888888888888,
              "#fdca26"
             ],
             [
              1,
              "#f0f921"
             ]
            ],
            "type": "histogram2d"
           }
          ],
          "histogram2dcontour": [
           {
            "colorbar": {
             "outlinewidth": 0,
             "ticks": ""
            },
            "colorscale": [
             [
              0,
              "#0d0887"
             ],
             [
              0.1111111111111111,
              "#46039f"
             ],
             [
              0.2222222222222222,
              "#7201a8"
             ],
             [
              0.3333333333333333,
              "#9c179e"
             ],
             [
              0.4444444444444444,
              "#bd3786"
             ],
             [
              0.5555555555555556,
              "#d8576b"
             ],
             [
              0.6666666666666666,
              "#ed7953"
             ],
             [
              0.7777777777777778,
              "#fb9f3a"
             ],
             [
              0.8888888888888888,
              "#fdca26"
             ],
             [
              1,
              "#f0f921"
             ]
            ],
            "type": "histogram2dcontour"
           }
          ],
          "mesh3d": [
           {
            "colorbar": {
             "outlinewidth": 0,
             "ticks": ""
            },
            "type": "mesh3d"
           }
          ],
          "parcoords": [
           {
            "line": {
             "colorbar": {
              "outlinewidth": 0,
              "ticks": ""
             }
            },
            "type": "parcoords"
           }
          ],
          "pie": [
           {
            "automargin": true,
            "type": "pie"
           }
          ],
          "scatter": [
           {
            "fillpattern": {
             "fillmode": "overlay",
             "size": 10,
             "solidity": 0.2
            },
            "type": "scatter"
           }
          ],
          "scatter3d": [
           {
            "line": {
             "colorbar": {
              "outlinewidth": 0,
              "ticks": ""
             }
            },
            "marker": {
             "colorbar": {
              "outlinewidth": 0,
              "ticks": ""
             }
            },
            "type": "scatter3d"
           }
          ],
          "scattercarpet": [
           {
            "marker": {
             "colorbar": {
              "outlinewidth": 0,
              "ticks": ""
             }
            },
            "type": "scattercarpet"
           }
          ],
          "scattergeo": [
           {
            "marker": {
             "colorbar": {
              "outlinewidth": 0,
              "ticks": ""
             }
            },
            "type": "scattergeo"
           }
          ],
          "scattergl": [
           {
            "marker": {
             "colorbar": {
              "outlinewidth": 0,
              "ticks": ""
             }
            },
            "type": "scattergl"
           }
          ],
          "scattermap": [
           {
            "marker": {
             "colorbar": {
              "outlinewidth": 0,
              "ticks": ""
             }
            },
            "type": "scattermap"
           }
          ],
          "scattermapbox": [
           {
            "marker": {
             "colorbar": {
              "outlinewidth": 0,
              "ticks": ""
             }
            },
            "type": "scattermapbox"
           }
          ],
          "scatterpolar": [
           {
            "marker": {
             "colorbar": {
              "outlinewidth": 0,
              "ticks": ""
             }
            },
            "type": "scatterpolar"
           }
          ],
          "scatterpolargl": [
           {
            "marker": {
             "colorbar": {
              "outlinewidth": 0,
              "ticks": ""
             }
            },
            "type": "scatterpolargl"
           }
          ],
          "scatterternary": [
           {
            "marker": {
             "colorbar": {
              "outlinewidth": 0,
              "ticks": ""
             }
            },
            "type": "scatterternary"
           }
          ],
          "surface": [
           {
            "colorbar": {
             "outlinewidth": 0,
             "ticks": ""
            },
            "colorscale": [
             [
              0,
              "#0d0887"
             ],
             [
              0.1111111111111111,
              "#46039f"
             ],
             [
              0.2222222222222222,
              "#7201a8"
             ],
             [
              0.3333333333333333,
              "#9c179e"
             ],
             [
              0.4444444444444444,
              "#bd3786"
             ],
             [
              0.5555555555555556,
              "#d8576b"
             ],
             [
              0.6666666666666666,
              "#ed7953"
             ],
             [
              0.7777777777777778,
              "#fb9f3a"
             ],
             [
              0.8888888888888888,
              "#fdca26"
             ],
             [
              1,
              "#f0f921"
             ]
            ],
            "type": "surface"
           }
          ],
          "table": [
           {
            "cells": {
             "fill": {
              "color": "#EBF0F8"
             },
             "line": {
              "color": "white"
             }
            },
            "header": {
             "fill": {
              "color": "#C8D4E3"
             },
             "line": {
              "color": "white"
             }
            },
            "type": "table"
           }
          ]
         },
         "layout": {
          "annotationdefaults": {
           "arrowcolor": "#2a3f5f",
           "arrowhead": 0,
           "arrowwidth": 1
          },
          "autotypenumbers": "strict",
          "coloraxis": {
           "colorbar": {
            "outlinewidth": 0,
            "ticks": ""
           }
          },
          "colorscale": {
           "diverging": [
            [
             0,
             "#8e0152"
            ],
            [
             0.1,
             "#c51b7d"
            ],
            [
             0.2,
             "#de77ae"
            ],
            [
             0.3,
             "#f1b6da"
            ],
            [
             0.4,
             "#fde0ef"
            ],
            [
             0.5,
             "#f7f7f7"
            ],
            [
             0.6,
             "#e6f5d0"
            ],
            [
             0.7,
             "#b8e186"
            ],
            [
             0.8,
             "#7fbc41"
            ],
            [
             0.9,
             "#4d9221"
            ],
            [
             1,
             "#276419"
            ]
           ],
           "sequential": [
            [
             0,
             "#0d0887"
            ],
            [
             0.1111111111111111,
             "#46039f"
            ],
            [
             0.2222222222222222,
             "#7201a8"
            ],
            [
             0.3333333333333333,
             "#9c179e"
            ],
            [
             0.4444444444444444,
             "#bd3786"
            ],
            [
             0.5555555555555556,
             "#d8576b"
            ],
            [
             0.6666666666666666,
             "#ed7953"
            ],
            [
             0.7777777777777778,
             "#fb9f3a"
            ],
            [
             0.8888888888888888,
             "#fdca26"
            ],
            [
             1,
             "#f0f921"
            ]
           ],
           "sequentialminus": [
            [
             0,
             "#0d0887"
            ],
            [
             0.1111111111111111,
             "#46039f"
            ],
            [
             0.2222222222222222,
             "#7201a8"
            ],
            [
             0.3333333333333333,
             "#9c179e"
            ],
            [
             0.4444444444444444,
             "#bd3786"
            ],
            [
             0.5555555555555556,
             "#d8576b"
            ],
            [
             0.6666666666666666,
             "#ed7953"
            ],
            [
             0.7777777777777778,
             "#fb9f3a"
            ],
            [
             0.8888888888888888,
             "#fdca26"
            ],
            [
             1,
             "#f0f921"
            ]
           ]
          },
          "colorway": [
           "#636efa",
           "#EF553B",
           "#00cc96",
           "#ab63fa",
           "#FFA15A",
           "#19d3f3",
           "#FF6692",
           "#B6E880",
           "#FF97FF",
           "#FECB52"
          ],
          "font": {
           "color": "#2a3f5f"
          },
          "geo": {
           "bgcolor": "white",
           "lakecolor": "white",
           "landcolor": "#E5ECF6",
           "showlakes": true,
           "showland": true,
           "subunitcolor": "white"
          },
          "hoverlabel": {
           "align": "left"
          },
          "hovermode": "closest",
          "mapbox": {
           "style": "light"
          },
          "paper_bgcolor": "white",
          "plot_bgcolor": "#E5ECF6",
          "polar": {
           "angularaxis": {
            "gridcolor": "white",
            "linecolor": "white",
            "ticks": ""
           },
           "bgcolor": "#E5ECF6",
           "radialaxis": {
            "gridcolor": "white",
            "linecolor": "white",
            "ticks": ""
           }
          },
          "scene": {
           "xaxis": {
            "backgroundcolor": "#E5ECF6",
            "gridcolor": "white",
            "gridwidth": 2,
            "linecolor": "white",
            "showbackground": true,
            "ticks": "",
            "zerolinecolor": "white"
           },
           "yaxis": {
            "backgroundcolor": "#E5ECF6",
            "gridcolor": "white",
            "gridwidth": 2,
            "linecolor": "white",
            "showbackground": true,
            "ticks": "",
            "zerolinecolor": "white"
           },
           "zaxis": {
            "backgroundcolor": "#E5ECF6",
            "gridcolor": "white",
            "gridwidth": 2,
            "linecolor": "white",
            "showbackground": true,
            "ticks": "",
            "zerolinecolor": "white"
           }
          },
          "shapedefaults": {
           "line": {
            "color": "#2a3f5f"
           }
          },
          "ternary": {
           "aaxis": {
            "gridcolor": "white",
            "linecolor": "white",
            "ticks": ""
           },
           "baxis": {
            "gridcolor": "white",
            "linecolor": "white",
            "ticks": ""
           },
           "bgcolor": "#E5ECF6",
           "caxis": {
            "gridcolor": "white",
            "linecolor": "white",
            "ticks": ""
           }
          },
          "title": {
           "x": 0.05
          },
          "xaxis": {
           "automargin": true,
           "gridcolor": "white",
           "linecolor": "white",
           "ticks": "",
           "title": {
            "standoff": 15
           },
           "zerolinecolor": "white",
           "zerolinewidth": 2
          },
          "yaxis": {
           "automargin": true,
           "gridcolor": "white",
           "linecolor": "white",
           "ticks": "",
           "title": {
            "standoff": 15
           },
           "zerolinecolor": "white",
           "zerolinewidth": 2
          }
         }
        },
        "title": {
         "font": {
          "size": 18
         },
         "text": "<b>US Regional EV Infrastructure Investment Priority Map</b>",
         "x": 0.5
        },
        "width": 1200
       }
      }
     },
     "metadata": {},
     "output_type": "display_data"
    }
   ],
   "source": [
    "# Create a USA map visualization\n",
    "# State abbreviations mapping\n",
    "state_abbrev = {\n",
    "    'Alabama': 'AL', 'Alaska': 'AK', 'Arizona': 'AZ', 'Arkansas': 'AR',\n",
    "    'California': 'CA', 'Colorado': 'CO', 'Connecticut': 'CT', 'Delaware': 'DE',\n",
    "    'District of Columbia': 'DC', 'Florida': 'FL', 'Georgia': 'GA', 'Hawaii': 'HI',\n",
    "    'Idaho': 'ID', 'Illinois': 'IL', 'Indiana': 'IN', 'Iowa': 'IA',\n",
    "    'Kansas': 'KS', 'Kentucky': 'KY', 'Louisiana': 'LA', 'Maine': 'ME',\n",
    "    'Maryland': 'MD', 'Massachusetts': 'MA', 'Michigan': 'MI', 'Minnesota': 'MN',\n",
    "    'Mississippi': 'MS', 'Missouri': 'MO', 'Montana': 'MT', 'Nebraska': 'NE',\n",
    "    'Nevada': 'NV', 'New Hampshire': 'NH', 'New Jersey': 'NJ', 'New Mexico': 'NM',\n",
    "    'New York': 'NY', 'North Carolina': 'NC', 'North Dakota': 'ND', 'Ohio': 'OH',\n",
    "    'Oklahoma': 'OK', 'Oregon': 'OR', 'Pennsylvania': 'PA', 'Rhode Island': 'RI',\n",
    "    'South Carolina': 'SC', 'South Dakota': 'SD', 'Tennessee': 'TN', 'Texas': 'TX',\n",
    "    'Utah': 'UT', 'Vermont': 'VT', 'Virginia': 'VA', 'Washington': 'WA',\n",
    "    'West Virginia': 'WV', 'Wisconsin': 'WI', 'Wyoming': 'WY'\n",
    "}\n",
    "\n",
    "# Add state codes\n",
    "regional_analysis['STATE_CODE'] = regional_analysis['STATE_NAME'].map(\n",
    "    state_abbrev)\n",
    "\n",
    "# Cluster names\n",
    "cluster_names = {\n",
    "    1: 'Critical Shortfall',\n",
    "    0: 'High Need',\n",
    "    3: 'Moderate Need',\n",
    "    2: 'Foundational Need'\n",
    "}\n",
    "\n",
    "cluster_colors = {\n",
    "    1: '#DC143C',  # Red - Critical\n",
    "    0: '#FF8C00',  # Orange - High Need\n",
    "    3: '#FFD700',  # Gold/Yellow - Moderate Need\n",
    "    2: '#32CD32'   # Green - Foundational\n",
    "}\n",
    "\n",
    "regional_analysis['Priority'] = regional_analysis['Region_Cluster'].map(\n",
    "    cluster_names)\n",
    "\n",
    "# Create map\n",
    "fig = px.choropleth(\n",
    "    regional_analysis,\n",
    "    locations='STATE_CODE',\n",
    "    locationmode='USA-states',\n",
    "    color='Priority',\n",
    "    hover_name='STATE_NAME',\n",
    "    hover_data={\n",
    "        'STATE_CODE': False,\n",
    "        'Region_Cluster': True,\n",
    "        'Station_Count': ':,.0f',\n",
    "        'Adoption_Ratio': ':.6f',\n",
    "        'Infra_Balance_Ratio': ':.6f'\n",
    "    },\n",
    "    color_discrete_map={v: cluster_colors[k]\n",
    "                        for k, v in cluster_names.items()},\n",
    "    category_orders={'Priority': [\n",
    "        'Critical Shortfall', 'High Need', 'Moderate Need', 'Foundational Need']},\n",
    "    scope='usa',\n",
    "    title='<b>US Regional EV Infrastructure Investment Priority Map</b>'\n",
    ")\n",
    "\n",
    "# Add state labels\n",
    "fig.update_geos(\n",
    "    showlakes=True,\n",
    "    lakecolor='lightblue'\n",
    ")\n",
    "\n",
    "# Add text annotations for each state\n",
    "for idx, row in regional_analysis.iterrows():\n",
    "    fig.add_scattergeo(\n",
    "        locations=[row['STATE_CODE']],\n",
    "        locationmode='USA-states',\n",
    "        text=row['STATE_CODE'],\n",
    "        mode='text',\n",
    "        showlegend=False,\n",
    "        textfont=dict(size=8, color='black', family='Arial Black')\n",
    "    )\n",
    "\n",
    "fig.update_layout(\n",
    "    title_x=0.5,\n",
    "    title_font_size=18,\n",
    "    geo=dict(projection_type='albers usa',\n",
    "             showlakes=True, lakecolor='lightblue'),\n",
    "    height=700,\n",
    "    width=1200\n",
    ")\n",
    "fig.show()"
   ]
  },
  {
   "cell_type": "code",
   "execution_count": 32,
   "id": "eb8cf349",
   "metadata": {},
   "outputs": [
    {
     "name": "stderr",
     "output_type": "stream",
     "text": [
      "C:\\Users\\chang\\AppData\\Local\\Temp\\ipykernel_25304\\1443318455.py:9: SettingWithCopyWarning:\n",
      "\n",
      "\n",
      "A value is trying to be set on a copy of a slice from a DataFrame.\n",
      "Try using .loc[row_indexer,col_indexer] = value instead\n",
      "\n",
      "See the caveats in the documentation: https://pandas.pydata.org/pandas-docs/stable/user_guide/indexing.html#returning-a-view-versus-a-copy\n",
      "\n"
     ]
    }
   ],
   "source": [
    "# Station cluster with DBSCAN\n",
    "# Parameters tuned for the scaled feature space:\n",
    "dbscan_station = DBSCAN(\n",
    "    eps=1, min_samples=5, metric='euclidean')\n",
    "station_labels_dbscan = dbscan_station.fit_predict(X_station_dense)\n",
    "X_station['DBSCAN_Station_Cluster'] = station_labels_dbscan\n",
    "num_clusters_station = len(set(station_labels_dbscan)) - \\\n",
    "    (1 if -1 in station_labels_dbscan else 0)\n",
    "noise_points_station = list(station_labels_dbscan).count(-1)"
   ]
  },
  {
   "cell_type": "code",
   "execution_count": null,
   "id": "08795fa1",
   "metadata": {},
   "outputs": [
    {
     "data": {
      "image/png": "[encoded data removed]",
      "text/plain": [
       "<Figure size 1600x600 with 2 Axes>"
      ]
     },
     "metadata": {},
     "output_type": "display_data"
    }
   ],
   "source": [
    "# Prepare cluster statistics\n",
    "cluster_stats = X_station.groupby('DBSCAN_Station_Cluster').agg({\n",
    "    'EV_LEVEL1_EVSE_NUM': 'mean',\n",
    "    'EV_LEVEL2_EVSE_CNUM': 'mean',\n",
    "    'EV_DC_FAST_NUM': 'mean'\n",
    "}).reset_index()\n",
    "\n",
    "cluster_stats['Count'] = X_station.groupby(\n",
    "    'DBSCAN_Station_Cluster').size().values\n",
    "cluster_stats.columns = ['Cluster', 'Avg_Level1',\n",
    "                         'Avg_Level2', 'Avg_DC_Fast', 'Count']\n",
    "\n",
    "# Get top 10 clusters (excluding noise)\n",
    "top_10_clusters = cluster_stats[cluster_stats['Cluster']\n",
    "                                != -1].sort_values('Count', ascending=False).head(10)\n",
    "\n",
    "# Calculate noise vs clustered\n",
    "noise_count = (X_station['DBSCAN_Station_Cluster'] == -1).sum()\n",
    "clustered_count = (X_station['DBSCAN_Station_Cluster'] != -1).sum()\n",
    "\n",
    "\n",
    "fig, (ax1, ax2) = plt.subplots(1, 2, figsize=(16, 6))\n",
    "\n",
    "# Panel 1: Top 10 Cluster Sizes\n",
    "ax1.bar(range(len(top_10_clusters)), top_10_clusters['Count'],\n",
    "        color='steelblue', edgecolor='black', alpha=0.85)\n",
    "\n",
    "ax1.set_xlabel('Cluster Rank', fontsize=12, fontweight='bold')\n",
    "ax1.set_ylabel('Number of Stations', fontsize=12, fontweight='bold')\n",
    "ax1.set_title(f'Top 10 Largest DBSCAN Clusters\\n(Total: {num_clusters_station} clusters, {noise_points_station:,} noise points)',\n",
    "              fontsize=14, fontweight='bold')\n",
    "ax1.set_xticks(range(len(top_10_clusters)))\n",
    "ax1.set_xticklabels([f'#{i+1}' for i in range(len(top_10_clusters))])\n",
    "ax1.grid(axis='y', alpha=0.3, linestyle='--')\n",
    "\n",
    "# Add value labels with cluster IDs\n",
    "for i, (idx, row) in enumerate(top_10_clusters.iterrows()):\n",
    "    ax1.text(i, row['Count'], f\"{row['Count']:,}\\nC{int(row['Cluster'])}\",\n",
    "             ha='center', va='bottom', fontsize=9, fontweight='bold')\n",
    "\n",
    "colors = ['#2ecc71', '#e74c3c']\n",
    "explode = (0.05, 0)\n",
    "\n",
    "wedges, texts, autotexts = ax2.pie(\n",
    "    [clustered_count, noise_count],\n",
    "    labels=['Clustered Stations', 'Noise (Outliers)'],\n",
    "    colors=colors,\n",
    "    autopct='%1.1f%%',\n",
    "    startangle=90,\n",
    "    explode=explode,\n",
    "    textprops={'fontsize': 12, 'fontweight': 'bold'}\n",
    ")\n",
    "\n",
    "# Make percentage text more visible\n",
    "for autotext in autotexts:\n",
    "    autotext.set_color('white')\n",
    "    autotext.set_fontsize(14)\n",
    "\n",
    "ax2.set_title(f'Station Distribution\\n{clustered_count:,} clustered | {noise_count:,} noise',\n",
    "              fontsize=14, fontweight='bold')\n",
    "\n",
    "plt.suptitle(f'DBSCAN Station Clustering (eps=1, min_samples=5)',\n",
    "             fontsize=16, fontweight='bold', y=1.02)\n",
    "plt.tight_layout()\n",
    "plt.show()"
   ]
  },
  {
   "cell_type": "code",
   "execution_count": null,
   "id": "b246701b",
   "metadata": {},
   "outputs": [],
   "source": [
    "# Regional Clustering with DBSCAN\n",
    "# Parameters tuned for the scaled regional data:\n",
    "dbscan_region = DBSCAN(\n",
    "    eps=0.3, min_samples=3, metric='euclidean')\n",
    "region_labels_dbscan = dbscan_region.fit_predict(X_region_scaled)\n",
    "regional_analysis['DBSCAN_Region_Cluster'] = region_labels_dbscan\n",
    "num_clusters_region = len(set(region_labels_dbscan)) - \\\n",
    "    (1 if -1 in region_labels_dbscan else 0)\n",
    "noise_points_region = list(region_labels_dbscan).count(-1)"
   ]
  },
  {
   "cell_type": "code",
   "execution_count": 31,
   "id": "634c39be",
   "metadata": {},
   "outputs": [
    {
     "data": {
      "application/vnd.plotly.v1+json": {
       "config": {
        "plotlyServerURL": "https://plot.ly"
       },
       "data": [
        {
         "customdata": [
          [
           13,
           "Cluster 0",
           0
          ],
          [
           99,
           "Cluster 0",
           0
          ],
          [
           16,
           "Cluster 0",
           0
          ],
          [
           8,
           "Cluster 0",
           0
          ],
          [
           23,
           "Cluster 0",
           0
          ],
          [
           20,
           "Cluster 0",
           0
          ],
          [
           14,
           "Cluster 0",
           0
          ],
          [
           95,
           "Cluster 0",
           0
          ],
          [
           117,
           "Cluster 0",
           0
          ],
          [
           8,
           "Cluster 0",
           0
          ],
          [
           16,
           "Cluster 0",
           0
          ],
          [
           41,
           "Cluster 0",
           0
          ],
          [
           30,
           "Cluster 0",
           0
          ],
          [
           67,
           "Cluster 0",
           0
          ],
          [
           144,
           "Cluster 0",
           0
          ],
          [
           90,
           "Cluster 0",
           0
          ],
          [
           60,
           "Cluster 0",
           0
          ],
          [
           8,
           "Cluster 0",
           0
          ],
          [
           8,
           "Cluster 0",
           0
          ],
          [
           14,
           "Cluster 0",
           0
          ],
          [
           23,
           "Cluster 0",
           0
          ],
          [
           142,
           "Cluster 0",
           0
          ],
          [
           36,
           "Cluster 0",
           0
          ],
          [
           68,
           "Cluster 0",
           0
          ],
          [
           60,
           "Cluster 0",
           0
          ],
          [
           84,
           "Cluster 0",
           0
          ],
          [
           77,
           "Cluster 0",
           0
          ],
          [
           61,
           "Cluster 0",
           0
          ],
          [
           98,
           "Cluster 0",
           0
          ],
          [
           58,
           "Cluster 0",
           0
          ]
         ],
         "hovertemplate": "<b>%{hovertext}</b><br><br>Cluster_Label=%{customdata[1]}<br>Adoption Ratio (EVs/Capita)=%{x:.6f}<br>Infra Balance Ratio (Stations/EV)=%{y:.6f}<br>Station_Count=%{customdata[0]:,.0f}<br>DBSCAN_Region_Cluster=%{customdata[2]}<extra></extra>",
         "hovertext": [
          "Alabama",
          "Arizona",
          "Arkansas",
          "Delaware",
          "District of Columbia",
          "Hawaii",
          "Idaho",
          "Illinois",
          "Indiana",
          "Iowa",
          "Kansas",
          "Kentucky",
          "Louisiana",
          "Maryland",
          "Michigan",
          "Minnesota",
          "Missouri",
          "Montana",
          "Nebraska",
          "Nevada",
          "New Mexico",
          "Ohio",
          "Oklahoma",
          "Oregon",
          "Pennsylvania",
          "South Carolina",
          "Tennessee",
          "Utah",
          "Washington",
          "Wisconsin"
         ],
         "legendgroup": "Cluster 0",
         "marker": {
          "color": "#1f77b4",
          "line": {
           "color": "white",
           "width": 1
          },
          "size": 12,
          "symbol": "circle"
         },
         "mode": "markers",
         "name": "Cluster 0",
         "orientation": "v",
         "showlegend": true,
         "type": "scatter",
         "x": {
          "bdata": "VzGFaN7/8D8IabXN0BgPQCK8UXdEAuU/OCzg0DCLxj8YZTg22QjOPztMk77DTes/X+8T6ZnA3D95cDsw7dQgQJFfS6h1KiRAwtchi1tE1z8orSsUQYDxPxNs3l3lGwhA+sZiVnql7T/TB768qfIbQBm7jLu3FSZAtzmbTnQkJUB9FhEuQ8cRQCqkJ/tCPvY/MqgHd9L7wj9b5tLJwkTbPxwDJXR9ueQ/NNzAHG0OKEA5SMTiS4oCQPdgSPgfKyJAkKcIasaVGUAt4azfz8QXQF8ERnD3shxACIGKhF1fJkBVoGShdOkvQJDHA8jpQB1A",
          "dtype": "f8"
         },
         "xaxis": "x",
         "y": {
          "bdata": "lWIMoNLUFT/HOJu0fBHoPj6yNNOp8Cc/YzSLDvb+Ij/IcCdGzB0jP7Nin9fztgQ/U7NISoOHHz+mN7IkAsvlPgWH/fL7mAQ/JEc0jQ4/IT+G8Reh6a4XP9jHyOOlYhc/LZY0oZ8iID9GnjgmIprvPoeg2eUwV/c+X6SKEVx7/D4z3OOaKaQEP5XO0BVxfiw/YzSLDvb+Ij9Wd379MR/2Pomg8kujzBk/rVLkRlgd9j5VIbN3uy0HP1Z5bL3hivA+SEViu5Ju8D7BlPEkgCMNPza92Z8JqwA/EFb0yg1Y+j595AHdCQHgPnbL22lypAY/",
          "dtype": "f8"
         },
         "yaxis": "y"
        },
        {
         "customdata": [
          [
           10,
           "Noise (Outliers)",
           -1
          ],
          [
           549,
           "Noise (Outliers)",
           -1
          ],
          [
           22,
           "Noise (Outliers)",
           -1
          ],
          [
           1,
           "Noise (Outliers)",
           -1
          ],
          [
           3,
           "Noise (Outliers)",
           -1
          ],
          [
           230,
           "Noise (Outliers)",
           -1
          ],
          [
           35,
           "Noise (Outliers)",
           -1
          ],
          [
           10,
           "Noise (Outliers)",
           -1
          ]
         ],
         "hovertemplate": "<b>%{hovertext}</b><br><br>Cluster_Label=%{customdata[1]}<br>Adoption Ratio (EVs/Capita)=%{x:.6f}<br>Infra Balance Ratio (Stations/EV)=%{y:.6f}<br>Station_Count=%{customdata[0]:,.0f}<br>DBSCAN_Region_Cluster=%{customdata[2]}<extra></extra>",
         "hovertext": [
          "Alaska",
          "California",
          "Mississippi",
          "North Dakota",
          "South Dakota",
          "Virginia",
          "West Virginia",
          "Wyoming"
         ],
         "legendgroup": "Noise (Outliers)",
         "marker": {
          "color": "#d62728",
          "line": {
           "color": "white",
           "width": 1
          },
          "size": 12,
          "symbol": "circle"
         },
         "mode": "markers",
         "name": "Noise (Outliers)",
         "orientation": "v",
         "showlegend": true,
         "type": "scatter",
         "x": {
          "bdata": "jGUIxbQzzD8WGNAO9E9mQCnrQcLm1fA/ZsrlDOqUjT+A0laTgtWmPwGtHBq+311AFwRGBbmf9T/utZcswTXRPw==",
          "dtype": "f8"
         },
         "xaxis": "x",
         "y": {
          "bdata": "KVHOoMhFOD/7vovkLP2rPldkNDVCEjM//Knx0k1iUD9GE+CseUZDP7r2FAl8Uuk+mPv5L58ROD/KHaDcAcpNPw==",
          "dtype": "f8"
         },
         "yaxis": "y"
        },
        {
         "customdata": [
          [
           142,
           "Cluster 1",
           1
          ],
          [
           122,
           "Cluster 1",
           1
          ],
          [
           127,
           "Cluster 1",
           1
          ],
          [
           193,
           "Cluster 1",
           1
          ],
          [
           177,
           "Cluster 1",
           1
          ],
          [
           189,
           "Cluster 1",
           1
          ]
         ],
         "hovertemplate": "<b>%{hovertext}</b><br><br>Cluster_Label=%{customdata[1]}<br>Adoption Ratio (EVs/Capita)=%{x:.6f}<br>Infra Balance Ratio (Stations/EV)=%{y:.6f}<br>Station_Count=%{customdata[0]:,.0f}<br>DBSCAN_Region_Cluster=%{customdata[2]}<extra></extra>",
         "hovertext": [
          "Colorado",
          "Florida",
          "Georgia",
          "New York",
          "North Carolina",
          "Texas"
         ],
         "legendgroup": "Cluster 1",
         "marker": {
          "color": "#ff7f0e",
          "line": {
           "color": "white",
           "width": 1
          },
          "size": 12,
          "symbol": "circle"
         },
         "mode": "markers",
         "name": "Cluster 1",
         "orientation": "v",
         "showlegend": true,
         "type": "scatter",
         "x": {
          "bdata": "1iXWbYSRP0CjvWBH6x89QNe39cgYukRAsBThhF9hSECPNXTU3L49QBo1r2nSn0FA",
          "dtype": "f8"
         },
         "xaxis": "x",
         "y": {
          "bdata": "V6fo9TtT6D7L9KVhOFzRPvG8fqjCeOc+UPUwVBii4T6zbpaZ3SXvPtrwcEKIC9M+",
          "dtype": "f8"
         },
         "yaxis": "y"
        }
       ],
       "layout": {
        "height": 600,
        "hovermode": "closest",
        "legend": {
         "title": {
          "text": "Cluster_Label"
         },
         "tracegroupgap": 0
        },
        "template": {
         "data": {
          "bar": [
           {
            "error_x": {
             "color": "#2a3f5f"
            },
            "error_y": {
             "color": "#2a3f5f"
            },
            "marker": {
             "line": {
              "color": "#E5ECF6",
              "width": 0.5
             },
             "pattern": {
              "fillmode": "overlay",
              "size": 10,
              "solidity": 0.2
             }
            },
            "type": "bar"
           }
          ],
          "barpolar": [
           {
            "marker": {
             "line": {
              "color": "#E5ECF6",
              "width": 0.5
             },
             "pattern": {
              "fillmode": "overlay",
              "size": 10,
              "solidity": 0.2
             }
            },
            "type": "barpolar"
           }
          ],
          "carpet": [
           {
            "aaxis": {
             "endlinecolor": "#2a3f5f",
             "gridcolor": "white",
             "linecolor": "white",
             "minorgridcolor": "white",
             "startlinecolor": "#2a3f5f"
            },
            "baxis": {
             "endlinecolor": "#2a3f5f",
             "gridcolor": "white",
             "linecolor": "white",
             "minorgridcolor": "white",
             "startlinecolor": "#2a3f5f"
            },
            "type": "carpet"
           }
          ],
          "choropleth": [
           {
            "colorbar": {
             "outlinewidth": 0,
             "ticks": ""
            },
            "type": "choropleth"
           }
          ],
          "contour": [
           {
            "colorbar": {
             "outlinewidth": 0,
             "ticks": ""
            },
            "colorscale": [
             [
              0,
              "#0d0887"
             ],
             [
              0.1111111111111111,
              "#46039f"
             ],
             [
              0.2222222222222222,
              "#7201a8"
             ],
             [
              0.3333333333333333,
              "#9c179e"
             ],
             [
              0.4444444444444444,
              "#bd3786"
             ],
             [
              0.5555555555555556,
              "#d8576b"
             ],
             [
              0.6666666666666666,
              "#ed7953"
             ],
             [
              0.7777777777777778,
              "#fb9f3a"
             ],
             [
              0.8888888888888888,
              "#fdca26"
             ],
             [
              1,
              "#f0f921"
             ]
            ],
            "type": "contour"
           }
          ],
          "contourcarpet": [
           {
            "colorbar": {
             "outlinewidth": 0,
             "ticks": ""
            },
            "type": "contourcarpet"
           }
          ],
          "heatmap": [
           {
            "colorbar": {
             "outlinewidth": 0,
             "ticks": ""
            },
            "colorscale": [
             [
              0,
              "#0d0887"
             ],
             [
              0.1111111111111111,
              "#46039f"
             ],
             [
              0.2222222222222222,
              "#7201a8"
             ],
             [
              0.3333333333333333,
              "#9c179e"
             ],
             [
              0.4444444444444444,
              "#bd3786"
             ],
             [
              0.5555555555555556,
              "#d8576b"
             ],
             [
              0.6666666666666666,
              "#ed7953"
             ],
             [
              0.7777777777777778,
              "#fb9f3a"
             ],
             [
              0.8888888888888888,
              "#fdca26"
             ],
             [
              1,
              "#f0f921"
             ]
            ],
            "type": "heatmap"
           }
          ],
          "histogram": [
           {
            "marker": {
             "pattern": {
              "fillmode": "overlay",
              "size": 10,
              "solidity": 0.2
             }
            },
            "type": "histogram"
           }
          ],
          "histogram2d": [
           {
            "colorbar": {
             "outlinewidth": 0,
             "ticks": ""
            },
            "colorscale": [
             [
              0,
              "#0d0887"
             ],
             [
              0.1111111111111111,
              "#46039f"
             ],
             [
              0.2222222222222222,
              "#7201a8"
             ],
             [
              0.3333333333333333,
              "#9c179e"
             ],
             [
              0.4444444444444444,
              "#bd3786"
             ],
             [
              0.5555555555555556,
              "#d8576b"
             ],
             [
              0.6666666666666666,
              "#ed7953"
             ],
             [
              0.7777777777777778,
              "#fb9f3a"
             ],
             [
              0.8888888888888888,
              "#fdca26"
             ],
             [
              1,
              "#f0f921"
             ]
            ],
            "type": "histogram2d"
           }
          ],
          "histogram2dcontour": [
           {
            "colorbar": {
             "outlinewidth": 0,
             "ticks": ""
            },
            "colorscale": [
             [
              0,
              "#0d0887"
             ],
             [
              0.1111111111111111,
              "#46039f"
             ],
             [
              0.2222222222222222,
              "#7201a8"
             ],
             [
              0.3333333333333333,
              "#9c179e"
             ],
             [
              0.4444444444444444,
              "#bd3786"
             ],
             [
              0.5555555555555556,
              "#d8576b"
             ],
             [
              0.6666666666666666,
              "#ed7953"
             ],
             [
              0.7777777777777778,
              "#fb9f3a"
             ],
             [
              0.8888888888888888,
              "#fdca26"
             ],
             [
              1,
              "#f0f921"
             ]
            ],
            "type": "histogram2dcontour"
           }
          ],
          "mesh3d": [
           {
            "colorbar": {
             "outlinewidth": 0,
             "ticks": ""
            },
            "type": "mesh3d"
           }
          ],
          "parcoords": [
           {
            "line": {
             "colorbar": {
              "outlinewidth": 0,
              "ticks": ""
             }
            },
            "type": "parcoords"
           }
          ],
          "pie": [
           {
            "automargin": true,
            "type": "pie"
           }
          ],
          "scatter": [
           {
            "fillpattern": {
             "fillmode": "overlay",
             "size": 10,
             "solidity": 0.2
            },
            "type": "scatter"
           }
          ],
          "scatter3d": [
           {
            "line": {
             "colorbar": {
              "outlinewidth": 0,
              "ticks": ""
             }
            },
            "marker": {
             "colorbar": {
              "outlinewidth": 0,
              "ticks": ""
             }
            },
            "type": "scatter3d"
           }
          ],
          "scattercarpet": [
           {
            "marker": {
             "colorbar": {
              "outlinewidth": 0,
              "ticks": ""
             }
            },
            "type": "scattercarpet"
           }
          ],
          "scattergeo": [
           {
            "marker": {
             "colorbar": {
              "outlinewidth": 0,
              "ticks": ""
             }
            },
            "type": "scattergeo"
           }
          ],
          "scattergl": [
           {
            "marker": {
             "colorbar": {
              "outlinewidth": 0,
              "ticks": ""
             }
            },
            "type": "scattergl"
           }
          ],
          "scattermap": [
           {
            "marker": {
             "colorbar": {
              "outlinewidth": 0,
              "ticks": ""
             }
            },
            "type": "scattermap"
           }
          ],
          "scattermapbox": [
           {
            "marker": {
             "colorbar": {
              "outlinewidth": 0,
              "ticks": ""
             }
            },
            "type": "scattermapbox"
           }
          ],
          "scatterpolar": [
           {
            "marker": {
             "colorbar": {
              "outlinewidth": 0,
              "ticks": ""
             }
            },
            "type": "scatterpolar"
           }
          ],
          "scatterpolargl": [
           {
            "marker": {
             "colorbar": {
              "outlinewidth": 0,
              "ticks": ""
             }
            },
            "type": "scatterpolargl"
           }
          ],
          "scatterternary": [
           {
            "marker": {
             "colorbar": {
              "outlinewidth": 0,
              "ticks": ""
             }
            },
            "type": "scatterternary"
           }
          ],
          "surface": [
           {
            "colorbar": {
             "outlinewidth": 0,
             "ticks": ""
            },
            "colorscale": [
             [
              0,
              "#0d0887"
             ],
             [
              0.1111111111111111,
              "#46039f"
             ],
             [
              0.2222222222222222,
              "#7201a8"
             ],
             [
              0.3333333333333333,
              "#9c179e"
             ],
             [
              0.4444444444444444,
              "#bd3786"
             ],
             [
              0.5555555555555556,
              "#d8576b"
             ],
             [
              0.6666666666666666,
              "#ed7953"
             ],
             [
              0.7777777777777778,
              "#fb9f3a"
             ],
             [
              0.8888888888888888,
              "#fdca26"
             ],
             [
              1,
              "#f0f921"
             ]
            ],
            "type": "surface"
           }
          ],
          "table": [
           {
            "cells": {
             "fill": {
              "color": "#EBF0F8"
             },
             "line": {
              "color": "white"
             }
            },
            "header": {
             "fill": {
              "color": "#C8D4E3"
             },
             "line": {
              "color": "white"
             }
            },
            "type": "table"
           }
          ]
         },
         "layout": {
          "annotationdefaults": {
           "arrowcolor": "#2a3f5f",
           "arrowhead": 0,
           "arrowwidth": 1
          },
          "autotypenumbers": "strict",
          "coloraxis": {
           "colorbar": {
            "outlinewidth": 0,
            "ticks": ""
           }
          },
          "colorscale": {
           "diverging": [
            [
             0,
             "#8e0152"
            ],
            [
             0.1,
             "#c51b7d"
            ],
            [
             0.2,
             "#de77ae"
            ],
            [
             0.3,
             "#f1b6da"
            ],
            [
             0.4,
             "#fde0ef"
            ],
            [
             0.5,
             "#f7f7f7"
            ],
            [
             0.6,
             "#e6f5d0"
            ],
            [
             0.7,
             "#b8e186"
            ],
            [
             0.8,
             "#7fbc41"
            ],
            [
             0.9,
             "#4d9221"
            ],
            [
             1,
             "#276419"
            ]
           ],
           "sequential": [
            [
             0,
             "#0d0887"
            ],
            [
             0.1111111111111111,
             "#46039f"
            ],
            [
             0.2222222222222222,
             "#7201a8"
            ],
            [
             0.3333333333333333,
             "#9c179e"
            ],
            [
             0.4444444444444444,
             "#bd3786"
            ],
            [
             0.5555555555555556,
             "#d8576b"
            ],
            [
             0.6666666666666666,
             "#ed7953"
            ],
            [
             0.7777777777777778,
             "#fb9f3a"
            ],
            [
             0.8888888888888888,
             "#fdca26"
            ],
            [
             1,
             "#f0f921"
            ]
           ],
           "sequentialminus": [
            [
             0,
             "#0d0887"
            ],
            [
             0.1111111111111111,
             "#46039f"
            ],
            [
             0.2222222222222222,
             "#7201a8"
            ],
            [
             0.3333333333333333,
             "#9c179e"
            ],
            [
             0.4444444444444444,
             "#bd3786"
            ],
            [
             0.5555555555555556,
             "#d8576b"
            ],
            [
             0.6666666666666666,
             "#ed7953"
            ],
            [
             0.7777777777777778,
             "#fb9f3a"
            ],
            [
             0.8888888888888888,
             "#fdca26"
            ],
            [
             1,
             "#f0f921"
            ]
           ]
          },
          "colorway": [
           "#636efa",
           "#EF553B",
           "#00cc96",
           "#ab63fa",
           "#FFA15A",
           "#19d3f3",
           "#FF6692",
           "#B6E880",
           "#FF97FF",
           "#FECB52"
          ],
          "font": {
           "color": "#2a3f5f"
          },
          "geo": {
           "bgcolor": "white",
           "lakecolor": "white",
           "landcolor": "#E5ECF6",
           "showlakes": true,
           "showland": true,
           "subunitcolor": "white"
          },
          "hoverlabel": {
           "align": "left"
          },
          "hovermode": "closest",
          "mapbox": {
           "style": "light"
          },
          "paper_bgcolor": "white",
          "plot_bgcolor": "#E5ECF6",
          "polar": {
           "angularaxis": {
            "gridcolor": "white",
            "linecolor": "white",
            "ticks": ""
           },
           "bgcolor": "#E5ECF6",
           "radialaxis": {
            "gridcolor": "white",
            "linecolor": "white",
            "ticks": ""
           }
          },
          "scene": {
           "xaxis": {
            "backgroundcolor": "#E5ECF6",
            "gridcolor": "white",
            "gridwidth": 2,
            "linecolor": "white",
            "showbackground": true,
            "ticks": "",
            "zerolinecolor": "white"
           },
           "yaxis": {
            "backgroundcolor": "#E5ECF6",
            "gridcolor": "white",
            "gridwidth": 2,
            "linecolor": "white",
            "showbackground": true,
            "ticks": "",
            "zerolinecolor": "white"
           },
           "zaxis": {
            "backgroundcolor": "#E5ECF6",
            "gridcolor": "white",
            "gridwidth": 2,
            "linecolor": "white",
            "showbackground": true,
            "ticks": "",
            "zerolinecolor": "white"
           }
          },
          "shapedefaults": {
           "line": {
            "color": "#2a3f5f"
           }
          },
          "ternary": {
           "aaxis": {
            "gridcolor": "white",
            "linecolor": "white",
            "ticks": ""
           },
           "baxis": {
            "gridcolor": "white",
            "linecolor": "white",
            "ticks": ""
           },
           "bgcolor": "#E5ECF6",
           "caxis": {
            "gridcolor": "white",
            "linecolor": "white",
            "ticks": ""
           }
          },
          "title": {
           "x": 0.05
          },
          "xaxis": {
           "automargin": true,
           "gridcolor": "white",
           "linecolor": "white",
           "ticks": "",
           "title": {
            "standoff": 15
           },
           "zerolinecolor": "white",
           "zerolinewidth": 2
          },
          "yaxis": {
           "automargin": true,
           "gridcolor": "white",
           "linecolor": "white",
           "ticks": "",
           "title": {
            "standoff": 15
           },
           "zerolinecolor": "white",
           "zerolinewidth": 2
          }
         }
        },
        "title": {
         "font": {
          "size": 18
         },
         "text": "<b>DBSCAN Regional Clustering",
         "x": 0.5
        },
        "width": 1000,
        "xaxis": {
         "anchor": "y",
         "domain": [
          0,
          1
         ],
         "title": {
          "text": "Adoption Ratio (EVs/Capita)"
         }
        },
        "yaxis": {
         "anchor": "x",
         "domain": [
          0,
          1
         ],
         "title": {
          "text": "Infra Balance Ratio (Stations/EV)"
         }
        }
       }
      }
     },
     "metadata": {},
     "output_type": "display_data"
    }
   ],
   "source": [
    "# Prepare regional data\n",
    "regional_analysis['Cluster_Label'] = regional_analysis['DBSCAN_Region_Cluster'].apply(\n",
    "    lambda x: 'Noise (Outliers)' if x == -1 else f'Cluster {x}'\n",
    ")\n",
    "\n",
    "color_map = {\n",
    "    'Cluster 0': '#1f77b4',  # Blue\n",
    "    'Cluster 1': '#ff7f0e',  # Orange\n",
    "    'Noise (Outliers)': '#d62728'  # Red\n",
    "}\n",
    "\n",
    "# Create regional scatter plot\n",
    "fig_regional = px.scatter(\n",
    "    regional_analysis,\n",
    "    x='Adoption_Ratio',\n",
    "    y='Infra_Balance_Ratio',\n",
    "    color='Cluster_Label',\n",
    "    hover_name='STATE_NAME',\n",
    "    hover_data={\n",
    "        'Adoption_Ratio': ':.6f',\n",
    "        'Infra_Balance_Ratio': ':.6f',\n",
    "        'Station_Count': ':,.0f',\n",
    "        'Cluster_Label': True,\n",
    "        'DBSCAN_Region_Cluster': True\n",
    "    },\n",
    "    color_discrete_map=color_map,\n",
    "    title='<b>DBSCAN Regional Clustering',\n",
    "    labels={\n",
    "        'Adoption_Ratio': 'Adoption Ratio (EVs/Capita)',\n",
    "        'Infra_Balance_Ratio': 'Infra Balance Ratio (Stations/EV)'\n",
    "    }\n",
    ")\n",
    "\n",
    "fig_regional.update_traces(marker=dict(\n",
    "    size=12, line=dict(width=1, color='white')))\n",
    "fig_regional.update_layout(\n",
    "    height=600,\n",
    "    width=1000,\n",
    "    title_x=0.5,\n",
    "    title_font_size=18,\n",
    "    hovermode='closest'\n",
    ")\n",
    "\n",
    "fig_regional.show()"
   ]
  },
  {
   "cell_type": "code",
   "execution_count": null,
   "id": "9b20f1b8",
   "metadata": {},
   "outputs": [],
   "source": []
  }
 ],
 "metadata": {
  "kernelspec": {
   "display_name": "Python 3",
   "language": "python",
   "name": "python3"
  },
  "language_info": {
   "codemirror_mode": {
    "name": "ipython",
    "version": 3
   },
   "file_extension": ".py",
   "mimetype": "text/x-python",
   "name": "python",
   "nbconvert_exporter": "python",
   "pygments_lexer": "ipython3",
   "version": "3.10.6"
  }
 },
 "nbformat": 4,
 "nbformat_minor": 5
}
