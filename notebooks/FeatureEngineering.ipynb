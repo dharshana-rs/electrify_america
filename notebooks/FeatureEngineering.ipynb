{
 "cells": [
  {
   "cell_type": "markdown",
   "id": "e6a39643-6aac-4b3f-a759-312780baa255",
   "metadata": {},
   "source": [
    "# Data Preprocessing & Feature Engineering Notebook"
   ]
  },
  {
   "cell_type": "code",
   "execution_count": 1,
   "id": "8e833e6a-d667-4738-bbf1-0fd5b58a7755",
   "metadata": {
    "jupyter": {
     "source_hidden": true
    },
    "scrolled": true
   },
   "outputs": [],
   "source": [
    "#Imports\n",
    "import pandas as pd\n",
    "import numpy as np\n",
    "import warnings\n",
    "warnings.filterwarnings('ignore')\n",
    "import matplotlib.pyplot as plt\n",
    "import seaborn as sns\n",
    "from sklearn.model_selection import train_test_split, cross_val_score\n",
    "from sklearn.linear_model import LinearRegression, LogisticRegression, Ridge\n",
    "from sklearn.ensemble import RandomForestRegressor, RandomForestClassifier\n",
    "from sklearn.metrics import mean_squared_error, mean_absolute_error, r2_score, accuracy_score, f1_score, roc_auc_score\n",
    "from sklearn.preprocessing import StandardScaler, LabelEncoder\n",
    "from xgboost import XGBRegressor, XGBClassifier\n",
    "import xgboost as xgb\n",
    "#conda install -c conda-forge py-xgboost\n",
    "import geopandas as gpd\n",
    "from sklearn.preprocessing import OneHotEncoder\n",
    "import ast\n",
    "from sklearn.pipeline import Pipeline\n",
    "from sklearn.svm import SVR, SVC, LinearSVR\n",
    "from sklearn.compose import ColumnTransformer\n",
    "import shap"
   ]
  },
  {
   "cell_type": "code",
   "execution_count": null,
   "id": "5865cb57-a2df-4a49-997b-a0a06d1d6470",
   "metadata": {},
   "outputs": [],
   "source": []
  },
  {
   "cell_type": "code",
   "execution_count": 22,
   "id": "d61318c4-3bff-4535-aa31-05e2c423d0d6",
   "metadata": {
    "jupyter": {
     "source_hidden": true
    }
   },
   "outputs": [],
   "source": [
    "#set this to the root directory of the project\n",
    "#path_root_dir=\"./\"\n",
    "#df = pd.read_csv(path_root_dir+\"/ev_census_vehicle_data_all.csv\")\n",
    "\n",
    "df= pd.read_csv(\"/Users/zaramasood/Downloads/ev_census_vehicle_data_all.csv\")"
   ]
  },
  {
   "cell_type": "code",
   "execution_count": 23,
   "id": "2d8dc64c-65f6-4ea6-b154-e74fb7386404",
   "metadata": {},
   "outputs": [],
   "source": [
    "#df.head() #(116572, 33)"
   ]
  },
  {
   "cell_type": "markdown",
   "id": "f37f23fd-07cb-4dde-b0b1-f8c7af5a3258",
   "metadata": {},
   "source": [
    "Data Preprocessing"
   ]
  },
  {
   "cell_type": "code",
   "execution_count": 24,
   "id": "6399fcd9-ddde-4f0f-acbe-fb9e867077e1",
   "metadata": {},
   "outputs": [
    {
     "data": {
      "text/plain": [
       "(116572, 33)"
      ]
     },
     "execution_count": 24,
     "metadata": {},
     "output_type": "execute_result"
    }
   ],
   "source": [
    "df.shape"
   ]
  },
  {
   "cell_type": "code",
   "execution_count": 25,
   "id": "7cc68551-62ee-4a9f-b84d-91759b2e9aa0",
   "metadata": {
    "jupyter": {
     "source_hidden": true
    }
   },
   "outputs": [],
   "source": [
    "#Filing Blanks\n",
    "df['STATION_NAME'] = df['STATION_NAME'].fillna('Blink Charging Station')\n",
    "df.loc[df['LATITUDE'].round(6) == 39.208375, 'CITY'] = 'Liberty'\n",
    "df.loc[df['LATITUDE'].round(6) == 44.976026, 'CITY'] = 'Minneapolis'\n",
    "df.loc[df['LATITUDE'].round(6) == 38.252739, 'CITY'] = 'Blasdell'\n",
    "df.loc[df['LATITUDE'].round(6) == 40.740396, 'CITY'] = 'Fresh'\n",
    "\n",
    "#Drop if no connector type, not worth keeping\n",
    "df=df[df['EV_CONNECTOR_TYPES'].notnull()] \n",
    "\n",
    "#Drop unneeded features\n",
    "df = df.drop(columns=['Unnamed: 0', 'STREET_ADDRESS', 'STATE','date', 'POWER_KW',\n",
    "                     'COUNTY_NAME','COUNTY_STATE', 'Year_Month', 'YEAR'\n",
    "                     ])"
   ]
  },
  {
   "cell_type": "code",
   "execution_count": 26,
   "id": "506a7be7-2395-4807-ac00-82d21f0610b7",
   "metadata": {
    "jupyter": {
     "source_hidden": true
    }
   },
   "outputs": [],
   "source": [
    "#Filing States with Lat & Long\n",
    "import reverse_geocoder as rg\n",
    "\n",
    "state_abbr = {\n",
    "    'Alabama': 'AL', 'Alaska': 'AK', 'Arizona': 'AZ', 'Arkansas': 'AR',\n",
    "    'California': 'CA', 'Colorado': 'CO', 'Connecticut': 'CT', 'Delaware': 'DE',\n",
    "    'Florida': 'FL', 'Georgia': 'GA', 'Hawaii': 'HI', 'Idaho': 'ID',\n",
    "    'Illinois': 'IL', 'Indiana': 'IN', 'Iowa': 'IA', 'Kansas': 'KS',\n",
    "    'Kentucky': 'KY', 'Louisiana': 'LA', 'Maine': 'ME', 'Maryland': 'MD',\n",
    "    'Massachusetts': 'MA', 'Michigan': 'MI', 'Minnesota': 'MN', 'Mississippi': 'MS',\n",
    "    'Missouri': 'MO', 'Montana': 'MT', 'Nebraska': 'NE', 'Nevada': 'NV',\n",
    "    'New Hampshire': 'NH', 'New Jersey': 'NJ', 'New Mexico': 'NM', 'New York': 'NY',\n",
    "    'North Carolina': 'NC', 'North Dakota': 'ND', 'Ohio': 'OH', 'Oklahoma': 'OK',\n",
    "    'Oregon': 'OR', 'Pennsylvania': 'PA', 'Rhode Island': 'RI', 'South Carolina': 'SC',\n",
    "    'South Dakota': 'SD', 'Tennessee': 'TN', 'Texas': 'TX', 'Utah': 'UT',\n",
    "    'Vermont': 'VT', 'Virginia': 'VA', 'Washington': 'WA', 'West Virginia': 'WV',\n",
    "    'Wisconsin': 'WI', 'Wyoming': 'WY'\n",
    "}\n",
    "\n",
    "mask = df['STATE_NAME'].isna() & df['LATITUDE'].notna() & df['LONGITUDE'].notna()\n",
    "\n",
    "if mask.any():\n",
    "    coords = list(zip(df.loc[mask, 'LATITUDE'], df.loc[mask, 'LONGITUDE']))\n",
    "    results = rg.search(coords)  \n",
    "    imputed_states = []\n",
    "    for r in results:\n",
    "        if r['cc'] == 'US':\n",
    "            abbr = state_abbr.get(r['admin1'], None)\n",
    "            imputed_states.append(abbr)\n",
    "        else:\n",
    "            imputed_states.append(None) \n",
    "\n",
    "    df.loc[mask, 'STATE_NAME'] = imputed_states"
   ]
  },
  {
   "cell_type": "code",
   "execution_count": 27,
   "id": "d3525f4b-4a01-4f5a-a28d-8d45178cfb3b",
   "metadata": {
    "jupyter": {
     "source_hidden": true
    }
   },
   "outputs": [],
   "source": [
    "#Standardizing STATE\n",
    "state_name_to_abbr = {\n",
    "    'Alabama': 'AL', 'Alaska': 'AK', 'Arizona': 'AZ', 'Arkansas': 'AR', 'California': 'CA',\n",
    "    'Colorado': 'CO', 'Connecticut': 'CT', 'Delaware': 'DE', 'District of Columbia': 'DC', 'Florida': 'FL',\n",
    "    'Georgia': 'GA', 'Hawaii': 'HI', 'Idaho': 'ID', 'Illinois': 'IL', 'Indiana': 'IN',\n",
    "    'Iowa': 'IA', 'Kansas': 'KS', 'Kentucky': 'KY', 'Louisiana': 'LA', 'Maine': 'ME',\n",
    "    'Maryland': 'MD', 'Massachusetts': 'MA', 'Michigan': 'MI', 'Minnesota': 'MN', 'Mississippi': 'MS',\n",
    "    'Missouri': 'MO', 'Montana': 'MT', 'Nebraska': 'NE', 'Nevada': 'NV', 'New Hampshire': 'NH',\n",
    "    'New Jersey': 'NJ', 'New Mexico': 'NM', 'New York': 'NY', 'North Carolina': 'NC', 'North Dakota': 'ND',\n",
    "    'Ohio': 'OH', 'Oklahoma': 'OK', 'Oregon': 'OR', 'Pennsylvania': 'PA', 'Rhode Island': 'RI',\n",
    "    'South Carolina': 'SC', 'South Dakota': 'SD', 'Tennessee': 'TN', 'Texas': 'TX', 'Utah': 'UT',\n",
    "    'Vermont': 'VT', 'Virginia': 'VA', 'Washington': 'WA', 'West Virginia': 'WV', 'Wisconsin': 'WI', 'Wyoming': 'WY'\n",
    "}\n",
    "\n",
    "valid_abbrs = set(state_name_to_abbr.values())\n",
    "\n",
    "def standardize_state_name(val):\n",
    "    if pd.isna(val):\n",
    "        return None\n",
    "    val = str(val).strip()\n",
    "    if val in valid_abbrs:\n",
    "        return val\n",
    "    return state_name_to_abbr.get(val, None)\n",
    "\n",
    "df['STATE'] = df['STATE_NAME'].apply(standardize_state_name)\n",
    "\n",
    "#Drop if no state present\n",
    "df=df[df['STATE'].notnull()]"
   ]
  },
  {
   "cell_type": "code",
   "execution_count": 28,
   "id": "fd03e62e-05fc-4943-95e8-48684a3adc66",
   "metadata": {
    "jupyter": {
     "source_hidden": true
    }
   },
   "outputs": [],
   "source": [
    "#Completing EV Charging Ports one hot\n",
    "connectors=['EV_LEVEL1_EVSE_NUM', 'EV_LEVEL2_EVSE_CNUM', 'EV_DC_FAST_NUM']\n",
    "df[connectors] = df[connectors].fillna(0)"
   ]
  },
  {
   "cell_type": "code",
   "execution_count": 29,
   "id": "c85f6666-a03f-407d-b656-a6f7153088f5",
   "metadata": {
    "jupyter": {
     "source_hidden": true
    }
   },
   "outputs": [],
   "source": [
    "# EV_CONNECTOR_TYPES, one hot for imputing later\n",
    "def standardize_connector(con_type):\n",
    "    ct = str(con_type).strip().upper()    \n",
    "    if ct in ['CHADEMO', 'J1772COMBO', 'J3271']:\n",
    "        return 'CHAdeMO'\n",
    "    elif ct in ['TESLA']:\n",
    "        return 'Combo'\n",
    "    else:\n",
    "        return 'J1772'\n",
    "\n",
    "def clean_and_standardize_connectors(x):\n",
    "    if pd.isna(x):\n",
    "        return []\n",
    "    try:\n",
    "        x_clean = x.replace('\"\"', '\"').strip()\n",
    "        connectors = ast.literal_eval(x_clean)\n",
    "        return [standardize_connector(c) for c in connectors]\n",
    "    except Exception:\n",
    "        return []\n",
    "\n",
    "df['clean_connectors'] = df['EV_CONNECTOR_TYPES'].apply(clean_and_standardize_connectors)\n",
    "categories = ['J1772', 'CHAdeMO', 'Combo']\n",
    "for cat in categories:\n",
    "    df[f'CTYPE_{cat}'] = df['clean_connectors'].apply(lambda connectors: 1 if cat in connectors else 0)\n",
    "\n",
    "df = df.drop(columns=['clean_connectors'])"
   ]
  },
  {
   "cell_type": "code",
   "execution_count": 30,
   "id": "ef992420-f4ff-43d8-9dd1-a2d1399ea665",
   "metadata": {
    "jupyter": {
     "source_hidden": true
    }
   },
   "outputs": [],
   "source": [
    "#Impute demographic & registration features based features based on on State\n",
    "def clean_to_numeric(series):\n",
    "    return pd.to_numeric(series.astype(str).str.replace(',', '', regex=True), errors='coerce')\n",
    "numeric_cols_impute = [\n",
    "    'POPULATION',\n",
    "    'MEDIAN_INCOME',\n",
    "    'ELECTRIC_VEHICLE_REG_COUNT',\n",
    "    'PLUG_IN_HYBRID_VEHICLE_REG_COUNT',\n",
    "    'HYBRID_ELECTRIC_REG_COUNT'\n",
    "]\n",
    "for col in numeric_cols_impute:\n",
    "    df[col] = clean_to_numeric(df[col])\n",
    "    \n",
    "for col in numeric_cols_impute:\n",
    "    df[col] = df.groupby('STATE')[col].transform(lambda x: x.fillna(x.median()))    "
   ]
  },
  {
   "cell_type": "code",
   "execution_count": 31,
   "id": "f2cc69ea-b4a2-4ca9-92b9-1ca3879aa0fe",
   "metadata": {
    "collapsed": true,
    "jupyter": {
     "outputs_hidden": true,
     "source_hidden": true
    }
   },
   "outputs": [
    {
     "name": "stdout",
     "output_type": "stream",
     "text": [
      "EV_NETWORK_ChargePoint Network    52006\n",
      "EV_NETWORK_Non-Networked          17839\n",
      "EV_NETWORK_AMPUP                   8829\n",
      "EV_NETWORK_Blink Network           7461\n",
      "EV_NETWORK_Other                   7351\n",
      "EV_NETWORK_Tesla Destination       6728\n",
      "EV_NETWORK_Tesla                   3622\n",
      "EV_NETWORK_EV Connect              2309\n",
      "EV_NETWORK_SHELL_RECHARGE          2082\n",
      "EV_NETWORK_eVgo Network            1446\n",
      "EV_NETWORK_Electrify America       1417\n",
      "EV_NETWORK_FLO                     1273\n",
      "EV_NETWORK_LOOP                    1043\n",
      "EV_NETWORK_VIALYNK                  950\n",
      "EV_NETWORK_RED_E                    868\n",
      "EV_NETWORK_SWTCH                    788\n",
      "dtype: int64\n"
     ]
    }
   ],
   "source": [
    "#One Hot encode 10 most frequent EV networks\n",
    "#replace NaN with 'Unknown'\n",
    "df['EV_NETWORK'] = df['EV_NETWORK'].fillna('Unknown')\n",
    "\n",
    "#10 most frequent networks\n",
    "top_10_networks = df['EV_NETWORK'].value_counts().head(15).index.tolist()\n",
    "\n",
    "#replace less frequent values with 'Other'\n",
    "df['EV_NETWORK_clean'] = df['EV_NETWORK'].where(df['EV_NETWORK'].isin(top_10_networks), 'Other')\n",
    "\n",
    "#one hot\n",
    "network_dummies = pd.get_dummies(df['EV_NETWORK_clean'], prefix='EV_NETWORK').astype(int)\n",
    "\n",
    "df = pd.concat([df, network_dummies], axis=1)\n",
    "df.drop(columns='EV_NETWORK_clean', inplace=True)\n",
    "\n",
    "#dummy_cols = [col for col in df.columns if col.startswith('EV_NETWORK_')]\n",
    "#value_counts_from_dummies = df[dummy_cols].sum().sort_values(ascending=False)\n",
    "#print(value_counts_from_dummies)"
   ]
  },
  {
   "cell_type": "code",
   "execution_count": null,
   "id": "b269a4fb-bdd4-45ff-b5f8-990711f1492f",
   "metadata": {},
   "outputs": [],
   "source": []
  },
  {
   "cell_type": "code",
   "execution_count": null,
   "id": "9d9e8051-e7db-4e6c-b15b-d04e1823f5e0",
   "metadata": {},
   "outputs": [],
   "source": []
  },
  {
   "cell_type": "markdown",
   "id": "b968d1c3-8ae2-4cb1-9123-a2d525d70386",
   "metadata": {},
   "source": [
    "Random Forest Imputer"
   ]
  },
  {
   "cell_type": "code",
   "execution_count": 37,
   "id": "7b8c0e85-4868-4de2-86df-607151e96aa8",
   "metadata": {
    "jupyter": {
     "source_hidden": true
    }
   },
   "outputs": [],
   "source": [
    "#Random Forest Imputer Imports\n",
    "from sklearn.experimental import enable_iterative_imputer\n",
    "from sklearn.impute import IterativeImputer\n",
    "from sklearn.ensemble import RandomForestRegressor"
   ]
  },
  {
   "cell_type": "code",
   "execution_count": 46,
   "id": "0dda7977-20d0-4f98-84bc-dada3e3fd953",
   "metadata": {
    "jupyter": {
     "source_hidden": true
    }
   },
   "outputs": [],
   "source": [
    "#EV Pricing\n",
    "pricing_patterns = {\n",
    "    'PRICE_per_kwh_rate': r'\\$\\d+(\\.\\d+)?\\s*(per\\s*kwh|/kwh|kwh)',\n",
    "    'PRICE_per_minute_rate': r'\\$\\d+(\\.\\d+)?\\s*(per\\s*minute|/minute)',\n",
    "    'PRICE_per_hour_rate': r'\\$\\d+(\\.\\d+)?\\s*(per\\s*hour|/hour|\\bhr\\b)',\n",
    "    'PRICE_per_session_fee': r'\\$\\d+(\\.\\d+)?\\s*(per\\s*session|session fee)',\n",
    "    'PRICE_monthly_fee': r'monthly service fee',\n",
    "    'PRICE_activation_fee_present': r'activation fee|connection fee',\n",
    "    'PRICE_parking_fee_present': r'parking fee|/hr parking|per day parking|garage',\n",
    "    'PRICE_is_free': r'\\bfree\\b|donations accepted|no cost',\n",
    "    'PRICE_other_or_unknown': r'unknown|purchase|paid through|not specified|n/a'\n",
    "}\n",
    "df['EV_PRICING'] = df['EV_PRICING'].fillna('').str.lower()\n",
    "\n",
    "for label, pattern in pricing_patterns.items():\n",
    "    df[label] = df['EV_PRICING'].str.contains(pattern, regex=True).astype(int)\n",
    "\n",
    "pricing_cols = [col for col in df.columns if col.startswith('PRICE_') and col != 'PRICE_other_or_unknown']\n",
    "df['PRICE_None'] = (df[pricing_cols].sum(axis=1) == 0).astype(int)\n",
    "\n",
    "\n",
    "#Summary\n",
    "category_columns = ['PRICE_is_free', 'PRICE_per_kwh_rate', 'PRICE_per_minute_rate', 'PRICE_per_hour_rate',\n",
    "    'PRICE_per_session_fee', 'PRICE_monthly_fee', 'PRICE_activation_fee_present',\n",
    "    'PRICE_parking_fee_present', 'PRICE_other_or_unknown', 'PRICE_None']\n",
    "summary = df[category_columns].sum().reset_index()\n",
    "summary.columns = ['Category', 'Total']\n",
    "summary = summary.sort_values(by='Total', ascending=False)\n",
    "#summary\n"
   ]
  },
  {
   "cell_type": "code",
   "execution_count": 49,
   "id": "95060480-832a-41c8-8554-86ee07040233",
   "metadata": {
    "jupyter": {
     "source_hidden": true
    }
   },
   "outputs": [],
   "source": [
    "#EV Price Imputing\n",
    "target_labels = ['PRICE_is_free','PRICE_per_kwh_rate',\n",
    "    'PRICE_per_minute_rate','PRICE_per_hour_rate','PRICE_per_session_fee',\n",
    "    'PRICE_monthly_fee','PRICE_activation_fee_present','PRICE_parking_fee_present'\n",
    "]\n",
    "features= ['EV_LEVEL1_EVSE_NUM', 'EV_LEVEL2_EVSE_CNUM', 'EV_DC_FAST_NUM', \n",
    "          'ELECTRIC_VEHICLE_REG_COUNT', 'PLUG_IN_HYBRID_VEHICLE_REG_COUNT',\n",
    "       'HYBRID_ELECTRIC_REG_COUNT', 'CTYPE_J1772',\n",
    "       'CTYPE_CHAdeMO', 'CTYPE_Combo', \n",
    "       'EV_NETWORK_Blink Network', 'EV_NETWORK_ChargePoint Network',\n",
    "       'EV_NETWORK_EV Connect', 'EV_NETWORK_Electrify America',\n",
    "       'EV_NETWORK_FLO', 'EV_NETWORK_LOOP', 'EV_NETWORK_Non-Networked',\n",
    "       'EV_NETWORK_Other', 'EV_NETWORK_RED_E', 'EV_NETWORK_SHELL_RECHARGE',\n",
    "       'EV_NETWORK_SWTCH', 'EV_NETWORK_Tesla', 'EV_NETWORK_Tesla Destination',\n",
    "       'EV_NETWORK_VIALYNK', 'EV_NETWORK_eVgo Network']\n",
    "df_train = df[df['PRICE_None'] == 0].copy()\n",
    "X_train = df_train[features]\n",
    "y_train = df_train[target_labels]\n",
    "df_missing = df[df['PRICE_None'] == 1].copy()\n",
    "X_missing = df_missing[features]\n",
    "from sklearn.ensemble import RandomForestClassifier\n",
    "from sklearn.multioutput import MultiOutputClassifier\n",
    "\n",
    "model = MultiOutputClassifier(RandomForestClassifier(n_estimators=100, random_state=42))\n",
    "model.fit(X_train, y_train)\n",
    "\n",
    "y_pred = model.predict(X_missing)\n",
    "\n",
    "predicted_labels = pd.DataFrame(y_pred, columns=target_labels, index=df_missing.index)\n",
    "\n",
    "df.loc[df_missing.index, target_labels] = predicted_labels\n",
    "\n",
    "category_columns = ['PRICE_is_free', 'PRICE_per_kwh_rate', 'PRICE_per_minute_rate', 'PRICE_per_hour_rate',\n",
    "    'PRICE_per_session_fee', 'PRICE_monthly_fee', 'PRICE_activation_fee_present',\n",
    "    'PRICE_parking_fee_present', 'PRICE_other_or_unknown']#, 'PRICE_None']\n",
    "summary = df[category_columns].sum().reset_index()\n",
    "summary.columns = ['Category', 'Total']\n",
    "summary = summary.sort_values(by='Total', ascending=False)\n",
    "#summary\n",
    "df.drop(columns='PRICE_None', inplace=True)"
   ]
  },
  {
   "cell_type": "code",
   "execution_count": 63,
   "id": "33bd61e9-750d-4a50-9072-2c348d67d1b2",
   "metadata": {
    "jupyter": {
     "source_hidden": true
    }
   },
   "outputs": [],
   "source": [
    "#Facility Types\n",
    "#One Hot encode 10 most frequent Facility Types \\\n",
    "top_15_facility_types = df['FACILITY_TYPE'].value_counts().head(20).index.tolist()\n",
    "#initialize all one hot columns to 0\n",
    "for network in top_15_facility_types:\n",
    "    df[f'FACILITY_TYPE_{network.replace(\" \", \"_\").replace(\"-\", \"_\")}'] = (\n",
    "        df['FACILITY_TYPE'] == network).astype(int)\n",
    "df['FACILITY_TYPE_clean'] = df['FACILITY_TYPE'].where(\n",
    "    df['FACILITY_TYPE'].isin(top_15_facility_types), 'Other')\n",
    "#one hot other\n",
    "network_dummies = pd.get_dummies(df['FACILITY_TYPE_clean'], prefix='FACILITY_TYPE')\n",
    "df = pd.concat([df, network_dummies], axis=1)\n",
    "df['FACILITY_TYPE'] = df['FACILITY_TYPE'].fillna('NaN') #exluces unknow from top 10\n",
    "\n",
    "#x=['FACILITY_TYPE_clean','FACILITY_TYPE_OTHER', 'FACILITY_TYPE_Other']\n",
    "#df.drop(columns=(x), inplace=True)\n",
    "#len(df.columns)"
   ]
  },
  {
   "cell_type": "code",
   "execution_count": 64,
   "id": "8238f3c5-a1db-49ec-862a-191e9a7f5e0d",
   "metadata": {
    "collapsed": true,
    "jupyter": {
     "outputs_hidden": true
    }
   },
   "outputs": [
    {
     "data": {
      "text/plain": [
       "STATION_NAME                     0\n",
       "CITY                             0\n",
       "LATITUDE                         0\n",
       "LONGITUDE                        0\n",
       "EV_CONNECTOR_TYPES               0\n",
       "                                ..\n",
       "FACILITY_TYPE_PUBLIC             0\n",
       "FACILITY_TYPE_RESTAURANT         0\n",
       "FACILITY_TYPE_SHOPPING_CENTER    0\n",
       "FACILITY_TYPE_STREET_PARKING     0\n",
       "FACILITY_TYPE_UTILITY            0\n",
       "Length: 95, dtype: int64"
      ]
     },
     "execution_count": 64,
     "metadata": {},
     "output_type": "execute_result"
    }
   ],
   "source": [
    "#df.isnull().sum()"
   ]
  },
  {
   "cell_type": "code",
   "execution_count": 65,
   "id": "94abc651-88f4-4138-b2f9-68553ba1e08b",
   "metadata": {
    "jupyter": {
     "source_hidden": true
    }
   },
   "outputs": [],
   "source": [
    "#FACILITY_TYPE Impute\n",
    "df_train = df[df['FACILITY_TYPE'] != 'NaN'].copy()\n",
    "X_train = df_train[features]\n",
    "y_train = df_train['FACILITY_TYPE']\n",
    "df_train = df_train[df_train['FACILITY_TYPE'].isin(top_15_facility_types)]\n",
    "X_train = df_train[features]\n",
    "y_train = df_train['FACILITY_TYPE']\n",
    "df_missing = df[df['FACILITY_TYPE'] == 'NaN'].copy()\n",
    "X_missing = df_missing[features]\n",
    "clf = RandomForestClassifier(n_estimators=100, random_state=42)\n",
    "clf.fit(X_train, y_train)\n",
    "y_pred = clf.predict(X_missing)\n",
    "df.loc[df_missing.index, 'FACILITY_TYPE'] = y_pred\n",
    "for facility in top_15_facility_types:\n",
    "    col_name = f'FACILITY_TYPE_{facility.replace(\" \", \"_\").replace(\"-\", \"_\")}'\n",
    "    df[col_name] = (df['FACILITY_TYPE'] == facility).astype(int)\n"
   ]
  },
  {
   "cell_type": "code",
   "execution_count": 76,
   "id": "3499956f-9b28-4801-9095-d343c184f9c0",
   "metadata": {
    "jupyter": {
     "source_hidden": true
    }
   },
   "outputs": [],
   "source": [
    "#Impute Station Level info\n",
    "columns_to_impute = [\n",
    "    'TOTAL_DURATION',\n",
    "    'CHARGE_DURATION',\n",
    "    'ENERGY_KWH','NUM_PORTS', 'TOTAL_SESSIONS']\n",
    "\n",
    "input_features = [\n",
    "    'EV_LEVEL1_EVSE_NUM',\n",
    "    'EV_LEVEL2_EVSE_CNUM',\n",
    "    'EV_DC_FAST_NUM',\n",
    "    'POPULATION',\n",
    "    'MEDIAN_INCOME',\n",
    "    'ELECTRIC_VEHICLE_REG_COUNT',\n",
    "    'PLUG_IN_HYBRID_VEHICLE_REG_COUNT',\n",
    "    'HYBRID_ELECTRIC_REG_COUNT','CTYPE_J1772',\n",
    "       'CTYPE_CHAdeMO', 'CTYPE_Combo']\n",
    "\n",
    "for col in columns_to_impute:\n",
    "\n",
    "    df_train = df[df[col].notnull()]\n",
    "    df_missing = df[df[col].isnull()]\n",
    "\n",
    "    X_train = df_train[input_features]\n",
    "    y_train = df_train[col]\n",
    "    X_missing = df_missing[input_features]\n",
    "\n",
    "    model = RandomForestRegressor(n_estimators=100, random_state=42)\n",
    "    model.fit(X_train, y_train)\n",
    "\n",
    "    predicted_values = model.predict(X_missing)\n",
    "\n",
    "    df.loc[df_missing.index, col] = predicted_values\n"
   ]
  },
  {
   "cell_type": "code",
   "execution_count": null,
   "id": "ca3deb4c-b268-404d-b6b3-94e4ac6186b9",
   "metadata": {},
   "outputs": [],
   "source": []
  },
  {
   "cell_type": "code",
   "execution_count": 20,
   "id": "f0cb2f7b-cd8c-4500-9919-3859a8caaa23",
   "metadata": {},
   "outputs": [],
   "source": []
  },
  {
   "cell_type": "code",
   "execution_count": null,
   "id": "37c8b15e-98e0-456a-b94f-cf4ad5e4bbf6",
   "metadata": {},
   "outputs": [],
   "source": []
  },
  {
   "cell_type": "markdown",
   "id": "2d6b6c11-b70e-49d8-8bd5-08003e041076",
   "metadata": {},
   "source": [
    "One Hot Encodings "
   ]
  },
  {
   "cell_type": "code",
   "execution_count": 118,
   "id": "d20dbc14-5126-4a3a-9309-21712519b794",
   "metadata": {
    "jupyter": {
     "source_hidden": true
    }
   },
   "outputs": [
    {
     "name": "stdout",
     "output_type": "stream",
     "text": [
      "(116012, 167)\n"
     ]
    }
   ],
   "source": [
    "#categorical encoding \n",
    "df[\"season\"] = df[\"Month\"].map({12:'winter',1:'winter',2:'winter',3:'spring',4:'spring',5:'spring',\n",
    "                                 6:'summer',7:'summer',8:'summer',9:'fall',10:'fall',11:'fall'})\n",
    "\n",
    "\n",
    "categorical_columns = ['STATE','record_count','season', \n",
    "                        'Month',\n",
    "                      ]\n",
    "\n",
    "#encoder = OneHotEncoder(sparse=False, handle_unknown='ignore')\n",
    "encoder = OneHotEncoder(sparse_output=False, handle_unknown='ignore')\n",
    "\n",
    "one_hot_encoded = encoder.fit_transform(df[categorical_columns])\n",
    "one_hot_df = pd.DataFrame(\n",
    "    one_hot_encoded,\n",
    "    columns=encoder.get_feature_names_out(categorical_columns),\n",
    "    index=df.index\n",
    ")\n",
    "df_encoded = pd.concat([df, one_hot_df], axis=1)\n",
    "\n",
    "#df_encoded=pd.concat([df.drop(columns=categorical_columns), one_hot_df], axis=1)\n",
    "print (df_encoded.shape) #(116012, 167)\n",
    "df=df_encoded"
   ]
  },
  {
   "cell_type": "code",
   "execution_count": null,
   "id": "d8baffad-2ce5-498e-ac00-a56f8bf12845",
   "metadata": {},
   "outputs": [],
   "source": []
  },
  {
   "cell_type": "markdown",
   "id": "e7a46738-6902-40bb-a236-0732391e1a69",
   "metadata": {},
   "source": [
    "Feature Engineering"
   ]
  },
  {
   "cell_type": "code",
   "execution_count": 121,
   "id": "c176a333-024b-4d48-abbf-892aff6abe16",
   "metadata": {},
   "outputs": [],
   "source": [
    "# EV penetration rate - Electric vehicles per person\n",
    "ev_df=df\n",
    "ev_df['EV_PENETRATION'] = ev_df['ELECTRIC_VEHICLE_REG_COUNT'] / ev_df['POPULATION']\n",
    "\n",
    "# EVs Growth Rate - year-over-year by state\n",
    "ev_df = ev_df.sort_values(['STATE'])\n",
    "ev_df['EV_GROWTH_RATE'] = ev_df.groupby('STATE')['ELECTRIC_VEHICLE_REG_COUNT'].pct_change()\n",
    "# Impute missing EV_GROWTH_RATE with the median of the same STATE\n",
    "ev_df['EV_GROWTH_RATE'] = ev_df.groupby('STATE')['EV_GROWTH_RATE'].transform(\n",
    "    lambda x: x.fillna(x.median())\n",
    ")\n",
    "# EVs per Charging Station\n",
    "ev_df['EV_PER_STATION'] = ev_df['ELECTRIC_VEHICLE_REG_COUNT'] / ev_df['NUM_PORTS']\n",
    "\n",
    "# Infrastructure Availability Index - Number of chargers per 1,000 registered EVs\n",
    "ev_df['EV_INFRASTRUCTURE_INDEX'] = (ev_df['NUM_PORTS'] / ev_df['ELECTRIC_VEHICLE_REG_COUNT']) * 1000\n",
    "\n",
    "# EV Counts for regression stability\n",
    "ev_df['LOG_EV_REG'] = np.log1p(ev_df['ELECTRIC_VEHICLE_REG_COUNT'])\n",
    "ev_df.head()\n",
    "\n",
    "# Adding weights for combination of adoption and infrastructure\n",
    "ev_df['ADOPTION_DEMAND_SCORE'] = (\n",
    "    0.5 * ev_df['EV_PENETRATION'].fillna(0) +\n",
    "    0.3 * ev_df['EV_GROWTH_RATE'].fillna(0) +\n",
    "    0.2 * (1 / (1 + ev_df['EV_INFRASTRUCTURE_INDEX'].fillna(0)))  # adding less weight to show low infrastructure\n",
    ")\n",
    "\n",
    "df=ev_df\n",
    "#detect overused stations \n",
    "df['sessions_per_port'] = df['TOTAL_SESSIONS'] / df['NUM_PORTS']\n",
    "#increasing average charge time + session count = stress on infrastructure\n",
    "df['avg_charge_time'] = df['CHARGE_DURATION'] / df['TOTAL_SESSIONS']\n"
   ]
  },
  {
   "cell_type": "code",
   "execution_count": null,
   "id": "2c07a5d6-761a-4f7f-bd68-66f3bf97e532",
   "metadata": {},
   "outputs": [],
   "source": []
  },
  {
   "cell_type": "markdown",
   "id": "68e5d412-aa2b-450a-beff-4b676203e9cd",
   "metadata": {},
   "source": [
    "Feature Engineering- Demand Score"
   ]
  },
  {
   "cell_type": "code",
   "execution_count": 123,
   "id": "aac25d12-2b24-4504-a6fb-71177f0283de",
   "metadata": {},
   "outputs": [],
   "source": [
    "df['demand_score'] = df['TOTAL_SESSIONS'] / df['NUM_PORTS']\n",
    "##High & Low demand\n",
    "q25 = df[\"demand_score\"].quantile(0.25)\n",
    "q75 = df[\"demand_score\"].quantile(0.75)\n",
    "df[\"high_demand\"] = (df[\"demand_score\"] >= q75).astype(int)\n",
    "df[\"low_demand\"] = (df[\"demand_score\"] <= q25).astype(int) #(67291, 30)\n"
   ]
  },
  {
   "cell_type": "code",
   "execution_count": 126,
   "id": "02c9823e-5af5-4674-aaab-9bbb47c7db7a",
   "metadata": {},
   "outputs": [
    {
     "data": {
      "text/html": [
       "<div>\n",
       "<style scoped>\n",
       "    .dataframe tbody tr th:only-of-type {\n",
       "        vertical-align: middle;\n",
       "    }\n",
       "\n",
       "    .dataframe tbody tr th {\n",
       "        vertical-align: top;\n",
       "    }\n",
       "\n",
       "    .dataframe thead th {\n",
       "        text-align: right;\n",
       "    }\n",
       "</style>\n",
       "<table border=\"1\" class=\"dataframe\">\n",
       "  <thead>\n",
       "    <tr style=\"text-align: right;\">\n",
       "      <th></th>\n",
       "      <th>LATITUDE</th>\n",
       "      <th>LONGITUDE</th>\n",
       "      <th>EV_LEVEL1_EVSE_NUM</th>\n",
       "      <th>EV_LEVEL2_EVSE_CNUM</th>\n",
       "      <th>EV_DC_FAST_NUM</th>\n",
       "      <th>Month</th>\n",
       "      <th>POPULATION</th>\n",
       "      <th>MEDIAN_INCOME</th>\n",
       "      <th>record_count</th>\n",
       "      <th>ELECTRIC_VEHICLE_REG_COUNT</th>\n",
       "      <th>...</th>\n",
       "      <th>EV_GROWTH_RATE</th>\n",
       "      <th>EV_PER_STATION</th>\n",
       "      <th>EV_INFRASTRUCTURE_INDEX</th>\n",
       "      <th>LOG_EV_REG</th>\n",
       "      <th>ADOPTION_DEMAND_SCORE</th>\n",
       "      <th>sessions_per_port</th>\n",
       "      <th>avg_charge_time</th>\n",
       "      <th>demand_score</th>\n",
       "      <th>high_demand</th>\n",
       "      <th>low_demand</th>\n",
       "    </tr>\n",
       "  </thead>\n",
       "  <tbody>\n",
       "    <tr>\n",
       "      <th>count</th>\n",
       "      <td>116012.000000</td>\n",
       "      <td>116012.000000</td>\n",
       "      <td>116012.000000</td>\n",
       "      <td>116012.000000</td>\n",
       "      <td>116012.000000</td>\n",
       "      <td>116012.000000</td>\n",
       "      <td>1.160120e+05</td>\n",
       "      <td>116012.000000</td>\n",
       "      <td>116012.000000</td>\n",
       "      <td>1.160120e+05</td>\n",
       "      <td>...</td>\n",
       "      <td>116012.000000</td>\n",
       "      <td>116012.000000</td>\n",
       "      <td>116012.000000</td>\n",
       "      <td>116012.000000</td>\n",
       "      <td>116012.000000</td>\n",
       "      <td>116012.000000</td>\n",
       "      <td>116012.000000</td>\n",
       "      <td>116012.000000</td>\n",
       "      <td>116012.000000</td>\n",
       "      <td>116012.000000</td>\n",
       "    </tr>\n",
       "    <tr>\n",
       "      <th>mean</th>\n",
       "      <td>38.167240</td>\n",
       "      <td>-94.913983</td>\n",
       "      <td>0.042858</td>\n",
       "      <td>2.445583</td>\n",
       "      <td>0.732890</td>\n",
       "      <td>8.283815</td>\n",
       "      <td>1.335182e+06</td>\n",
       "      <td>88845.767860</td>\n",
       "      <td>1.002534</td>\n",
       "      <td>2.471349e+05</td>\n",
       "      <td>...</td>\n",
       "      <td>0.001296</td>\n",
       "      <td>117338.237993</td>\n",
       "      <td>0.152806</td>\n",
       "      <td>11.518225</td>\n",
       "      <td>0.618007</td>\n",
       "      <td>475.506183</td>\n",
       "      <td>-4.633280</td>\n",
       "      <td>475.506183</td>\n",
       "      <td>0.251534</td>\n",
       "      <td>0.250147</td>\n",
       "    </tr>\n",
       "    <tr>\n",
       "      <th>std</th>\n",
       "      <td>4.945323</td>\n",
       "      <td>18.813493</td>\n",
       "      <td>0.911997</td>\n",
       "      <td>4.323873</td>\n",
       "      <td>2.714028</td>\n",
       "      <td>2.050002</td>\n",
       "      <td>2.183299e+06</td>\n",
       "      <td>23911.815212</td>\n",
       "      <td>0.051127</td>\n",
       "      <td>3.428613e+05</td>\n",
       "      <td>...</td>\n",
       "      <td>0.053465</td>\n",
       "      <td>172851.162738</td>\n",
       "      <td>0.643358</td>\n",
       "      <td>1.360693</td>\n",
       "      <td>2.701290</td>\n",
       "      <td>554.207074</td>\n",
       "      <td>39.691856</td>\n",
       "      <td>554.207074</td>\n",
       "      <td>0.433897</td>\n",
       "      <td>0.433099</td>\n",
       "    </tr>\n",
       "    <tr>\n",
       "      <th>min</th>\n",
       "      <td>19.061250</td>\n",
       "      <td>-162.286348</td>\n",
       "      <td>0.000000</td>\n",
       "      <td>0.000000</td>\n",
       "      <td>0.000000</td>\n",
       "      <td>1.000000</td>\n",
       "      <td>4.630000e+02</td>\n",
       "      <td>25425.000000</td>\n",
       "      <td>1.000000</td>\n",
       "      <td>1.000000e+03</td>\n",
       "      <td>...</td>\n",
       "      <td>-0.641026</td>\n",
       "      <td>70.750000</td>\n",
       "      <td>0.001592</td>\n",
       "      <td>6.908755</td>\n",
       "      <td>0.003933</td>\n",
       "      <td>8.745394</td>\n",
       "      <td>-1602.282091</td>\n",
       "      <td>8.745394</td>\n",
       "      <td>0.000000</td>\n",
       "      <td>0.000000</td>\n",
       "    </tr>\n",
       "    <tr>\n",
       "      <th>25%</th>\n",
       "      <td>34.096121</td>\n",
       "      <td>-117.260861</td>\n",
       "      <td>0.000000</td>\n",
       "      <td>1.000000</td>\n",
       "      <td>0.000000</td>\n",
       "      <td>9.000000</td>\n",
       "      <td>1.639830e+05</td>\n",
       "      <td>71662.000000</td>\n",
       "      <td>1.000000</td>\n",
       "      <td>4.740000e+04</td>\n",
       "      <td>...</td>\n",
       "      <td>0.000000</td>\n",
       "      <td>16550.000000</td>\n",
       "      <td>0.011905</td>\n",
       "      <td>10.766399</td>\n",
       "      <td>0.221403</td>\n",
       "      <td>193.155578</td>\n",
       "      <td>0.871263</td>\n",
       "      <td>193.155578</td>\n",
       "      <td>0.000000</td>\n",
       "      <td>0.000000</td>\n",
       "    </tr>\n",
       "    <tr>\n",
       "      <th>50%</th>\n",
       "      <td>38.896265</td>\n",
       "      <td>-88.208231</td>\n",
       "      <td>0.000000</td>\n",
       "      <td>2.000000</td>\n",
       "      <td>0.000000</td>\n",
       "      <td>9.000000</td>\n",
       "      <td>6.557090e+05</td>\n",
       "      <td>86150.000000</td>\n",
       "      <td>1.000000</td>\n",
       "      <td>8.490000e+04</td>\n",
       "      <td>...</td>\n",
       "      <td>0.000000</td>\n",
       "      <td>33450.000000</td>\n",
       "      <td>0.029895</td>\n",
       "      <td>11.349241</td>\n",
       "      <td>0.276133</td>\n",
       "      <td>241.567559</td>\n",
       "      <td>2.413552</td>\n",
       "      <td>241.567559</td>\n",
       "      <td>0.000000</td>\n",
       "      <td>0.000000</td>\n",
       "    </tr>\n",
       "    <tr>\n",
       "      <th>75%</th>\n",
       "      <td>41.924401</td>\n",
       "      <td>-78.081796</td>\n",
       "      <td>0.000000</td>\n",
       "      <td>2.000000</td>\n",
       "      <td>0.000000</td>\n",
       "      <td>9.000000</td>\n",
       "      <td>1.489634e+06</td>\n",
       "      <td>101763.000000</td>\n",
       "      <td>1.000000</td>\n",
       "      <td>1.680000e+05</td>\n",
       "      <td>...</td>\n",
       "      <td>0.000000</td>\n",
       "      <td>84000.000000</td>\n",
       "      <td>0.060423</td>\n",
       "      <td>12.031725</td>\n",
       "      <td>0.483228</td>\n",
       "      <td>564.044850</td>\n",
       "      <td>2.881185</td>\n",
       "      <td>564.044850</td>\n",
       "      <td>1.000000</td>\n",
       "      <td>1.000000</td>\n",
       "    </tr>\n",
       "    <tr>\n",
       "      <th>max</th>\n",
       "      <td>64.852466</td>\n",
       "      <td>-66.983140</td>\n",
       "      <td>90.000000</td>\n",
       "      <td>338.000000</td>\n",
       "      <td>120.000000</td>\n",
       "      <td>12.000000</td>\n",
       "      <td>9.848406e+06</td>\n",
       "      <td>178707.000000</td>\n",
       "      <td>4.000000</td>\n",
       "      <td>1.256600e+06</td>\n",
       "      <td>...</td>\n",
       "      <td>1.785714</td>\n",
       "      <td>628300.000000</td>\n",
       "      <td>14.134276</td>\n",
       "      <td>14.043921</td>\n",
       "      <td>266.748231</td>\n",
       "      <td>3623.000000</td>\n",
       "      <td>57.940123</td>\n",
       "      <td>3623.000000</td>\n",
       "      <td>1.000000</td>\n",
       "      <td>1.000000</td>\n",
       "    </tr>\n",
       "  </tbody>\n",
       "</table>\n",
       "<p>8 rows × 167 columns</p>\n",
       "</div>"
      ],
      "text/plain": [
       "            LATITUDE      LONGITUDE  EV_LEVEL1_EVSE_NUM  EV_LEVEL2_EVSE_CNUM  \\\n",
       "count  116012.000000  116012.000000       116012.000000        116012.000000   \n",
       "mean       38.167240     -94.913983            0.042858             2.445583   \n",
       "std         4.945323      18.813493            0.911997             4.323873   \n",
       "min        19.061250    -162.286348            0.000000             0.000000   \n",
       "25%        34.096121    -117.260861            0.000000             1.000000   \n",
       "50%        38.896265     -88.208231            0.000000             2.000000   \n",
       "75%        41.924401     -78.081796            0.000000             2.000000   \n",
       "max        64.852466     -66.983140           90.000000           338.000000   \n",
       "\n",
       "       EV_DC_FAST_NUM          Month    POPULATION  MEDIAN_INCOME  \\\n",
       "count   116012.000000  116012.000000  1.160120e+05  116012.000000   \n",
       "mean         0.732890       8.283815  1.335182e+06   88845.767860   \n",
       "std          2.714028       2.050002  2.183299e+06   23911.815212   \n",
       "min          0.000000       1.000000  4.630000e+02   25425.000000   \n",
       "25%          0.000000       9.000000  1.639830e+05   71662.000000   \n",
       "50%          0.000000       9.000000  6.557090e+05   86150.000000   \n",
       "75%          0.000000       9.000000  1.489634e+06  101763.000000   \n",
       "max        120.000000      12.000000  9.848406e+06  178707.000000   \n",
       "\n",
       "        record_count  ELECTRIC_VEHICLE_REG_COUNT  ...  EV_GROWTH_RATE  \\\n",
       "count  116012.000000                1.160120e+05  ...   116012.000000   \n",
       "mean        1.002534                2.471349e+05  ...        0.001296   \n",
       "std         0.051127                3.428613e+05  ...        0.053465   \n",
       "min         1.000000                1.000000e+03  ...       -0.641026   \n",
       "25%         1.000000                4.740000e+04  ...        0.000000   \n",
       "50%         1.000000                8.490000e+04  ...        0.000000   \n",
       "75%         1.000000                1.680000e+05  ...        0.000000   \n",
       "max         4.000000                1.256600e+06  ...        1.785714   \n",
       "\n",
       "       EV_PER_STATION  EV_INFRASTRUCTURE_INDEX     LOG_EV_REG  \\\n",
       "count   116012.000000            116012.000000  116012.000000   \n",
       "mean    117338.237993                 0.152806      11.518225   \n",
       "std     172851.162738                 0.643358       1.360693   \n",
       "min         70.750000                 0.001592       6.908755   \n",
       "25%      16550.000000                 0.011905      10.766399   \n",
       "50%      33450.000000                 0.029895      11.349241   \n",
       "75%      84000.000000                 0.060423      12.031725   \n",
       "max     628300.000000                14.134276      14.043921   \n",
       "\n",
       "       ADOPTION_DEMAND_SCORE  sessions_per_port  avg_charge_time  \\\n",
       "count          116012.000000      116012.000000    116012.000000   \n",
       "mean                0.618007         475.506183        -4.633280   \n",
       "std                 2.701290         554.207074        39.691856   \n",
       "min                 0.003933           8.745394     -1602.282091   \n",
       "25%                 0.221403         193.155578         0.871263   \n",
       "50%                 0.276133         241.567559         2.413552   \n",
       "75%                 0.483228         564.044850         2.881185   \n",
       "max               266.748231        3623.000000        57.940123   \n",
       "\n",
       "        demand_score    high_demand     low_demand  \n",
       "count  116012.000000  116012.000000  116012.000000  \n",
       "mean      475.506183       0.251534       0.250147  \n",
       "std       554.207074       0.433897       0.433099  \n",
       "min         8.745394       0.000000       0.000000  \n",
       "25%       193.155578       0.000000       0.000000  \n",
       "50%       241.567559       0.000000       0.000000  \n",
       "75%       564.044850       1.000000       1.000000  \n",
       "max      3623.000000       1.000000       1.000000  \n",
       "\n",
       "[8 rows x 167 columns]"
      ]
     },
     "execution_count": 126,
     "metadata": {},
     "output_type": "execute_result"
    }
   ],
   "source": [
    "df.describe()"
   ]
  },
  {
   "cell_type": "code",
   "execution_count": 127,
   "id": "dfe8b60e-9554-49ea-96f6-a4cb85d15158",
   "metadata": {},
   "outputs": [],
   "source": [
    "#df.to_csv('FinalFeaturesDF.csv', index=False)"
   ]
  },
  {
   "cell_type": "code",
   "execution_count": null,
   "id": "cb730c12-2ae3-4018-90c5-634c02a7fd26",
   "metadata": {},
   "outputs": [],
   "source": []
  }
 ],
 "metadata": {
  "kernelspec": {
   "display_name": "Python [conda env:base] *",
   "language": "python",
   "name": "conda-base-py"
  },
  "language_info": {
   "codemirror_mode": {
    "name": "ipython",
    "version": 3
   },
   "file_extension": ".py",
   "mimetype": "text/x-python",
   "name": "python",
   "nbconvert_exporter": "python",
   "pygments_lexer": "ipython3",
   "version": "3.13.5"
  }
 },
 "nbformat": 4,
 "nbformat_minor": 5
}
